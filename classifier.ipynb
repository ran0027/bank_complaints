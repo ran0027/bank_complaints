{
 "cells": [
  {
   "cell_type": "markdown",
   "metadata": {},
   "source": [
    "The purpose of this notebook is to record the model building and tuning process for a bank complaint classifier (classifying the product category by complaint text.)"
   ]
  },
  {
   "cell_type": "markdown",
   "metadata": {
    "toc": true
   },
   "source": [
    "<h1>Table of Contents<span class=\"tocSkip\"></span></h1>\n",
    "<div class=\"toc\"><ul class=\"toc-item\"><li><span><a href=\"#Preprocessing\" data-toc-modified-id=\"Preprocessing-1\"><span class=\"toc-item-num\">1&nbsp;&nbsp;</span>Preprocessing</a></span></li><li><span><a href=\"#Model-Building\" data-toc-modified-id=\"Model-Building-2\"><span class=\"toc-item-num\">2&nbsp;&nbsp;</span>Model Building</a></span></li><li><span><a href=\"#Conclusion\" data-toc-modified-id=\"Conclusion-3\"><span class=\"toc-item-num\">3&nbsp;&nbsp;</span>Conclusion</a></span></li><li><span><a href=\"#Next-Steps\" data-toc-modified-id=\"Next-Steps-4\"><span class=\"toc-item-num\">4&nbsp;&nbsp;</span>Next Steps</a></span></li></ul></div>"
   ]
  },
  {
   "cell_type": "markdown",
   "metadata": {},
   "source": [
    "First, we import and preprocess the data for model-building."
   ]
  },
  {
   "cell_type": "code",
   "execution_count": 1,
   "metadata": {},
   "outputs": [
    {
     "name": "stderr",
     "output_type": "stream",
     "text": [
      "[nltk_data] Downloading package wordnet to /Users/user/nltk_data...\n",
      "[nltk_data]   Package wordnet is already up-to-date!\n",
      "[nltk_data] Downloading package tagsets to /Users/user/nltk_data...\n",
      "[nltk_data]   Package tagsets is already up-to-date!\n"
     ]
    }
   ],
   "source": [
    "import ipynb.fs.full.functions as preprocessing"
   ]
  },
  {
   "cell_type": "code",
   "execution_count": 2,
   "metadata": {},
   "outputs": [],
   "source": [
    "from zipfile import ZipFile\n",
    "\n",
    "import pandas as pd\n",
    "import numpy as np\n",
    "import matplotlib.pyplot as plt"
   ]
  },
  {
   "cell_type": "code",
   "execution_count": 20,
   "metadata": {},
   "outputs": [],
   "source": [
    "# set a seed for reproducibility\n",
    "seed = 839"
   ]
  },
  {
   "cell_type": "markdown",
   "metadata": {},
   "source": [
    "## Preprocessing"
   ]
  },
  {
   "cell_type": "code",
   "execution_count": 105,
   "metadata": {},
   "outputs": [
    {
     "name": "stdout",
     "output_type": "stream",
     "text": [
      "CPU times: user 10.8 s, sys: 1.54 s, total: 12.3 s\n",
      "Wall time: 14.7 s\n"
     ]
    },
    {
     "data": {
      "text/html": [
       "<div>\n",
       "<style scoped>\n",
       "    .dataframe tbody tr th:only-of-type {\n",
       "        vertical-align: middle;\n",
       "    }\n",
       "\n",
       "    .dataframe tbody tr th {\n",
       "        vertical-align: top;\n",
       "    }\n",
       "\n",
       "    .dataframe thead th {\n",
       "        text-align: right;\n",
       "    }\n",
       "</style>\n",
       "<table border=\"1\" class=\"dataframe\">\n",
       "  <thead>\n",
       "    <tr style=\"text-align: right;\">\n",
       "      <th></th>\n",
       "      <th>Complaint</th>\n",
       "      <th>Company</th>\n",
       "      <th>Product</th>\n",
       "    </tr>\n",
       "  </thead>\n",
       "  <tbody>\n",
       "    <tr>\n",
       "      <th>84</th>\n",
       "      <td>I am a victim of identity theft. XXXX XXXX XXX...</td>\n",
       "      <td>EQUIFAX, INC.</td>\n",
       "      <td>Credit reporting, credit repair services, or o...</td>\n",
       "    </tr>\n",
       "    <tr>\n",
       "      <th>180</th>\n",
       "      <td>XXXX 2022 went just like any other XXXX of the...</td>\n",
       "      <td>Netspend Corporation</td>\n",
       "      <td>Bank account or service</td>\n",
       "    </tr>\n",
       "    <tr>\n",
       "      <th>369</th>\n",
       "      <td>In XXXX I fell behind on my mortgage payments ...</td>\n",
       "      <td>WELLS FARGO &amp; COMPANY</td>\n",
       "      <td>Mortgage</td>\n",
       "    </tr>\n",
       "    <tr>\n",
       "      <th>549</th>\n",
       "      <td>I immigrated to the United States in XX/XX/XXX...</td>\n",
       "      <td>EQUIFAX, INC.</td>\n",
       "      <td>Credit reporting, credit repair services, or o...</td>\n",
       "    </tr>\n",
       "    <tr>\n",
       "      <th>583</th>\n",
       "      <td>ATTN Fraud Department : Remove fraudulent acco...</td>\n",
       "      <td>EQUIFAX, INC.</td>\n",
       "      <td>Credit reporting, credit repair services, or o...</td>\n",
       "    </tr>\n",
       "  </tbody>\n",
       "</table>\n",
       "</div>"
      ],
      "text/plain": [
       "                                             Complaint                Company  \\\n",
       "84   I am a victim of identity theft. XXXX XXXX XXX...          EQUIFAX, INC.   \n",
       "180  XXXX 2022 went just like any other XXXX of the...   Netspend Corporation   \n",
       "369  In XXXX I fell behind on my mortgage payments ...  WELLS FARGO & COMPANY   \n",
       "549  I immigrated to the United States in XX/XX/XXX...          EQUIFAX, INC.   \n",
       "583  ATTN Fraud Department : Remove fraudulent acco...          EQUIFAX, INC.   \n",
       "\n",
       "                                               Product  \n",
       "84   Credit reporting, credit repair services, or o...  \n",
       "180                            Bank account or service  \n",
       "369                                           Mortgage  \n",
       "549  Credit reporting, credit repair services, or o...  \n",
       "583  Credit reporting, credit repair services, or o...  "
      ]
     },
     "execution_count": 105,
     "metadata": {},
     "output_type": "execute_result"
    }
   ],
   "source": [
    "%%time\n",
    "\n",
    "data = pd.read_csv('data/categorized_data.csv')\n",
    "\n",
    "# fix index\n",
    "data.set_index('Unnamed: 0', inplace=True)\n",
    "data.index.name = None\n",
    "\n",
    "data.head()"
   ]
  },
  {
   "cell_type": "markdown",
   "metadata": {},
   "source": [
    "Set a seed for reproducibility and get a sample of 100,000 records to build a proof of concept model."
   ]
  },
  {
   "cell_type": "code",
   "execution_count": 110,
   "metadata": {},
   "outputs": [],
   "source": [
    "# set a seed for reproducibility\n",
    "seed = 839"
   ]
  },
  {
   "cell_type": "code",
   "execution_count": 111,
   "metadata": {},
   "outputs": [],
   "source": [
    "# get 100,000 records to build a proof-of-concept model\n",
    "sample = data.sample(100000, random_state=seed).copy()"
   ]
  },
  {
   "cell_type": "code",
   "execution_count": 112,
   "metadata": {},
   "outputs": [
    {
     "data": {
      "text/html": [
       "<div>\n",
       "<style scoped>\n",
       "    .dataframe tbody tr th:only-of-type {\n",
       "        vertical-align: middle;\n",
       "    }\n",
       "\n",
       "    .dataframe tbody tr th {\n",
       "        vertical-align: top;\n",
       "    }\n",
       "\n",
       "    .dataframe thead th {\n",
       "        text-align: right;\n",
       "    }\n",
       "</style>\n",
       "<table border=\"1\" class=\"dataframe\">\n",
       "  <thead>\n",
       "    <tr style=\"text-align: right;\">\n",
       "      <th></th>\n",
       "      <th>Complaint</th>\n",
       "      <th>Company</th>\n",
       "      <th>Product</th>\n",
       "    </tr>\n",
       "  </thead>\n",
       "  <tbody>\n",
       "    <tr>\n",
       "      <th>3347590</th>\n",
       "      <td>XXXX XXXX XXXX XXXX : XXXX. XXXXXXXX XXXX XXXX...</td>\n",
       "      <td>EQUIFAX, INC.</td>\n",
       "      <td>Credit reporting, credit repair services, or o...</td>\n",
       "    </tr>\n",
       "    <tr>\n",
       "      <th>3273724</th>\n",
       "      <td>I have written you twice. Chase finds ways out...</td>\n",
       "      <td>JPMORGAN CHASE &amp; CO.</td>\n",
       "      <td>Mortgage</td>\n",
       "    </tr>\n",
       "    <tr>\n",
       "      <th>543587</th>\n",
       "      <td>I contacted Amex, who placed the inquiry, and ...</td>\n",
       "      <td>AMERICAN EXPRESS COMPANY</td>\n",
       "      <td>Credit reporting, credit repair services, or o...</td>\n",
       "    </tr>\n",
       "    <tr>\n",
       "      <th>1039197</th>\n",
       "      <td>In XXXX of 2018, I started getting calls from ...</td>\n",
       "      <td>CREDIT BUREAU OF NAPA COUNTY, INC.</td>\n",
       "      <td>Debt collection</td>\n",
       "    </tr>\n",
       "    <tr>\n",
       "      <th>1935540</th>\n",
       "      <td>On ( XX/XX/2022 ) I sent a letter regarding in...</td>\n",
       "      <td>EQUIFAX, INC.</td>\n",
       "      <td>Credit reporting, credit repair services, or o...</td>\n",
       "    </tr>\n",
       "  </tbody>\n",
       "</table>\n",
       "</div>"
      ],
      "text/plain": [
       "                                                 Complaint  \\\n",
       "3347590  XXXX XXXX XXXX XXXX : XXXX. XXXXXXXX XXXX XXXX...   \n",
       "3273724  I have written you twice. Chase finds ways out...   \n",
       "543587   I contacted Amex, who placed the inquiry, and ...   \n",
       "1039197  In XXXX of 2018, I started getting calls from ...   \n",
       "1935540  On ( XX/XX/2022 ) I sent a letter regarding in...   \n",
       "\n",
       "                                    Company  \\\n",
       "3347590                       EQUIFAX, INC.   \n",
       "3273724                JPMORGAN CHASE & CO.   \n",
       "543587             AMERICAN EXPRESS COMPANY   \n",
       "1039197  CREDIT BUREAU OF NAPA COUNTY, INC.   \n",
       "1935540                       EQUIFAX, INC.   \n",
       "\n",
       "                                                   Product  \n",
       "3347590  Credit reporting, credit repair services, or o...  \n",
       "3273724                                           Mortgage  \n",
       "543587   Credit reporting, credit repair services, or o...  \n",
       "1039197                                    Debt collection  \n",
       "1935540  Credit reporting, credit repair services, or o...  "
      ]
     },
     "execution_count": 112,
     "metadata": {},
     "output_type": "execute_result"
    }
   ],
   "source": [
    "sample.head()"
   ]
  },
  {
   "cell_type": "markdown",
   "metadata": {},
   "source": [
    "Split the data into train, test and validation sets, preprocess the complaint text, and fit a baseline model to the entire training set."
   ]
  },
  {
   "cell_type": "code",
   "execution_count": 113,
   "metadata": {},
   "outputs": [],
   "source": [
    "from sklearn.model_selection import train_test_split\n",
    "\n",
    "X = sample.drop(['Product'], axis=1).copy()\n",
    "y = sample.Product.copy()\n",
    "\n",
    "X_train, X_test, y_train, y_test = train_test_split(X, y, test_size=0.2, random_state=seed)"
   ]
  },
  {
   "cell_type": "code",
   "execution_count": 114,
   "metadata": {},
   "outputs": [],
   "source": [
    "# split training data into training and validation data\n",
    "\n",
    "X_train, X_val, y_train, y_val = train_test_split(X_train,\n",
    "                                                  y_train,\n",
    "                                                  test_size=0.25,\n",
    "                                                  random_state=seed)"
   ]
  },
  {
   "cell_type": "code",
   "execution_count": 115,
   "metadata": {},
   "outputs": [
    {
     "name": "stdout",
     "output_type": "stream",
     "text": [
      "(60000, 2)\n",
      "(20000, 2)\n",
      "(20000, 2)\n"
     ]
    }
   ],
   "source": [
    "print(X_train.shape)\n",
    "print(X_val.shape)\n",
    "print(X_test.shape)"
   ]
  },
  {
   "cell_type": "code",
   "execution_count": 16,
   "metadata": {},
   "outputs": [
    {
     "data": {
      "text/html": [
       "<div>\n",
       "<style scoped>\n",
       "    .dataframe tbody tr th:only-of-type {\n",
       "        vertical-align: middle;\n",
       "    }\n",
       "\n",
       "    .dataframe tbody tr th {\n",
       "        vertical-align: top;\n",
       "    }\n",
       "\n",
       "    .dataframe thead th {\n",
       "        text-align: right;\n",
       "    }\n",
       "</style>\n",
       "<table border=\"1\" class=\"dataframe\">\n",
       "  <thead>\n",
       "    <tr style=\"text-align: right;\">\n",
       "      <th></th>\n",
       "      <th>Complaint</th>\n",
       "      <th>Company</th>\n",
       "    </tr>\n",
       "  </thead>\n",
       "  <tbody>\n",
       "    <tr>\n",
       "      <th>364212</th>\n",
       "      <td>This is XXXX XXXX, who is submitting this CFPB...</td>\n",
       "      <td>EQUIFAX, INC.</td>\n",
       "    </tr>\n",
       "    <tr>\n",
       "      <th>2207116</th>\n",
       "      <td>I am disputing a couple of inaccurate items on...</td>\n",
       "      <td>EQUIFAX, INC.</td>\n",
       "    </tr>\n",
       "  </tbody>\n",
       "</table>\n",
       "</div>"
      ],
      "text/plain": [
       "                                                 Complaint        Company\n",
       "364212   This is XXXX XXXX, who is submitting this CFPB...  EQUIFAX, INC.\n",
       "2207116  I am disputing a couple of inaccurate items on...  EQUIFAX, INC."
      ]
     },
     "execution_count": 16,
     "metadata": {},
     "output_type": "execute_result"
    }
   ],
   "source": [
    "X_train.head(2)"
   ]
  },
  {
   "cell_type": "markdown",
   "metadata": {},
   "source": [
    "Below, the complaints are mapped to a list of tokens, which are then mapped to a list of tokens with redacted material removed, and finally, those \"clean tokens\" are mapped to a list of lemmas for that particular complaint.\n",
    "\n",
    "The functions for performing this preprocessing are stored in a separate notebook (functions.ipynb.) If you are running this notebook in your own environment, make sure that you have the package \"ipynb\" installed. (It should have thrown an error when you tried to import it at the top of this notebook if it's not already installed.)"
   ]
  },
  {
   "cell_type": "code",
   "execution_count": 17,
   "metadata": {
    "scrolled": true
   },
   "outputs": [
    {
     "data": {
      "text/html": [
       "<div>\n",
       "<style scoped>\n",
       "    .dataframe tbody tr th:only-of-type {\n",
       "        vertical-align: middle;\n",
       "    }\n",
       "\n",
       "    .dataframe tbody tr th {\n",
       "        vertical-align: top;\n",
       "    }\n",
       "\n",
       "    .dataframe thead th {\n",
       "        text-align: right;\n",
       "    }\n",
       "</style>\n",
       "<table border=\"1\" class=\"dataframe\">\n",
       "  <thead>\n",
       "    <tr style=\"text-align: right;\">\n",
       "      <th></th>\n",
       "      <th>Complaint</th>\n",
       "      <th>Company</th>\n",
       "      <th>tokens</th>\n",
       "      <th>clean_tokens</th>\n",
       "      <th>lemmas</th>\n",
       "    </tr>\n",
       "  </thead>\n",
       "  <tbody>\n",
       "    <tr>\n",
       "      <th>364212</th>\n",
       "      <td>This is XXXX XXXX, who is submitting this CFPB...</td>\n",
       "      <td>EQUIFAX, INC.</td>\n",
       "      <td>[xxxx, xxxx, submitting, cfpb, complaint, info...</td>\n",
       "      <td>[submitting, cfpb, complaint, inform, third, p...</td>\n",
       "      <td>[submit, cfpb, complaint, inform, third, party...</td>\n",
       "    </tr>\n",
       "    <tr>\n",
       "      <th>2207116</th>\n",
       "      <td>I am disputing a couple of inaccurate items on...</td>\n",
       "      <td>EQUIFAX, INC.</td>\n",
       "      <td>[disputing, couple, inaccurate, items, credit,...</td>\n",
       "      <td>[disputing, couple, inaccurate, items, credit,...</td>\n",
       "      <td>[dispute, couple, inaccurate, item, credit, re...</td>\n",
       "    </tr>\n",
       "  </tbody>\n",
       "</table>\n",
       "</div>"
      ],
      "text/plain": [
       "                                                 Complaint        Company  \\\n",
       "364212   This is XXXX XXXX, who is submitting this CFPB...  EQUIFAX, INC.   \n",
       "2207116  I am disputing a couple of inaccurate items on...  EQUIFAX, INC.   \n",
       "\n",
       "                                                    tokens  \\\n",
       "364212   [xxxx, xxxx, submitting, cfpb, complaint, info...   \n",
       "2207116  [disputing, couple, inaccurate, items, credit,...   \n",
       "\n",
       "                                              clean_tokens  \\\n",
       "364212   [submitting, cfpb, complaint, inform, third, p...   \n",
       "2207116  [disputing, couple, inaccurate, items, credit,...   \n",
       "\n",
       "                                                    lemmas  \n",
       "364212   [submit, cfpb, complaint, inform, third, party...  \n",
       "2207116  [dispute, couple, inaccurate, item, credit, re...  "
      ]
     },
     "execution_count": 17,
     "metadata": {},
     "output_type": "execute_result"
    }
   ],
   "source": [
    "X_train['tokens'] = X_train.Complaint.map(preprocessing.get_tokens)\n",
    "\n",
    "X_train['clean_tokens'] = preprocessing.remove_redactions(X_train['tokens'])\n",
    "\n",
    "X_train['lemmas'] = preprocessing.lemmatize(X_train['clean_tokens'])\n",
    "\n",
    "X_train.head(2)"
   ]
  },
  {
   "cell_type": "markdown",
   "metadata": {},
   "source": [
    "Let's repeat the above preprocessing work for the validation set."
   ]
  },
  {
   "cell_type": "code",
   "execution_count": 18,
   "metadata": {},
   "outputs": [
    {
     "data": {
      "text/html": [
       "<div>\n",
       "<style scoped>\n",
       "    .dataframe tbody tr th:only-of-type {\n",
       "        vertical-align: middle;\n",
       "    }\n",
       "\n",
       "    .dataframe tbody tr th {\n",
       "        vertical-align: top;\n",
       "    }\n",
       "\n",
       "    .dataframe thead th {\n",
       "        text-align: right;\n",
       "    }\n",
       "</style>\n",
       "<table border=\"1\" class=\"dataframe\">\n",
       "  <thead>\n",
       "    <tr style=\"text-align: right;\">\n",
       "      <th></th>\n",
       "      <th>Complaint</th>\n",
       "      <th>Company</th>\n",
       "      <th>tokens</th>\n",
       "      <th>clean_tokens</th>\n",
       "      <th>lemmas</th>\n",
       "    </tr>\n",
       "  </thead>\n",
       "  <tbody>\n",
       "    <tr>\n",
       "      <th>3277011</th>\n",
       "      <td>In accordance with the Fair Credit Reporting A...</td>\n",
       "      <td>TRANSUNION INTERMEDIATE HOLDINGS, INC.</td>\n",
       "      <td>[accordance, fair, credit, reporting, act, xxx...</td>\n",
       "      <td>[accordance, fair, credit, reporting, act, acc...</td>\n",
       "      <td>[accordance, fair, credit, reporting, act, acc...</td>\n",
       "    </tr>\n",
       "    <tr>\n",
       "      <th>2844354</th>\n",
       "      <td>My mother XXXX and has an outstanding home equ...</td>\n",
       "      <td>WELLS FARGO &amp; COMPANY</td>\n",
       "      <td>[mother, xxxx, outstanding, home, equity, loan...</td>\n",
       "      <td>[mother, outstanding, home, equity, loan, maki...</td>\n",
       "      <td>[mother, outstanding, home, equity, loan, make...</td>\n",
       "    </tr>\n",
       "  </tbody>\n",
       "</table>\n",
       "</div>"
      ],
      "text/plain": [
       "                                                 Complaint  \\\n",
       "3277011  In accordance with the Fair Credit Reporting A...   \n",
       "2844354  My mother XXXX and has an outstanding home equ...   \n",
       "\n",
       "                                        Company  \\\n",
       "3277011  TRANSUNION INTERMEDIATE HOLDINGS, INC.   \n",
       "2844354                   WELLS FARGO & COMPANY   \n",
       "\n",
       "                                                    tokens  \\\n",
       "3277011  [accordance, fair, credit, reporting, act, xxx...   \n",
       "2844354  [mother, xxxx, outstanding, home, equity, loan...   \n",
       "\n",
       "                                              clean_tokens  \\\n",
       "3277011  [accordance, fair, credit, reporting, act, acc...   \n",
       "2844354  [mother, outstanding, home, equity, loan, maki...   \n",
       "\n",
       "                                                    lemmas  \n",
       "3277011  [accordance, fair, credit, reporting, act, acc...  \n",
       "2844354  [mother, outstanding, home, equity, loan, make...  "
      ]
     },
     "execution_count": 18,
     "metadata": {},
     "output_type": "execute_result"
    }
   ],
   "source": [
    "X_val['tokens'] = X_val.Complaint.map(preprocessing.get_tokens)\n",
    "\n",
    "X_val['clean_tokens'] = preprocessing.remove_redactions(X_val['tokens'])\n",
    "\n",
    "X_val['lemmas'] = preprocessing.lemmatize(X_val['clean_tokens'])\n",
    "\n",
    "X_val.head(2)"
   ]
  },
  {
   "cell_type": "markdown",
   "metadata": {},
   "source": [
    "Repeat preprocessing for the test set."
   ]
  },
  {
   "cell_type": "code",
   "execution_count": 117,
   "metadata": {},
   "outputs": [
    {
     "name": "stderr",
     "output_type": "stream",
     "text": [
      "<ipython-input-117-1d58079803f5>:1: SettingWithCopyWarning: \n",
      "A value is trying to be set on a copy of a slice from a DataFrame.\n",
      "Try using .loc[row_indexer,col_indexer] = value instead\n",
      "\n",
      "See the caveats in the documentation: https://pandas.pydata.org/pandas-docs/stable/user_guide/indexing.html#returning-a-view-versus-a-copy\n",
      "  X_test['tokens'] = X_test.Complaint.map(preprocessing.get_tokens)\n"
     ]
    }
   ],
   "source": [
    "X_test['tokens'] = X_test.Complaint.map(preprocessing.get_tokens)"
   ]
  },
  {
   "cell_type": "code",
   "execution_count": 118,
   "metadata": {},
   "outputs": [
    {
     "name": "stderr",
     "output_type": "stream",
     "text": [
      "<ipython-input-118-52c0716974a7>:1: SettingWithCopyWarning: \n",
      "A value is trying to be set on a copy of a slice from a DataFrame.\n",
      "Try using .loc[row_indexer,col_indexer] = value instead\n",
      "\n",
      "See the caveats in the documentation: https://pandas.pydata.org/pandas-docs/stable/user_guide/indexing.html#returning-a-view-versus-a-copy\n",
      "  X_test['clean_tokens'] = preprocessing.remove_redactions(X_test['tokens'])\n"
     ]
    }
   ],
   "source": [
    "X_test['clean_tokens'] = preprocessing.remove_redactions(X_test['tokens'])"
   ]
  },
  {
   "cell_type": "code",
   "execution_count": 119,
   "metadata": {},
   "outputs": [
    {
     "name": "stderr",
     "output_type": "stream",
     "text": [
      "<ipython-input-119-0bbc611f082d>:1: SettingWithCopyWarning: \n",
      "A value is trying to be set on a copy of a slice from a DataFrame.\n",
      "Try using .loc[row_indexer,col_indexer] = value instead\n",
      "\n",
      "See the caveats in the documentation: https://pandas.pydata.org/pandas-docs/stable/user_guide/indexing.html#returning-a-view-versus-a-copy\n",
      "  X_test['lemmas'] = preprocessing.lemmatize(X_test['clean_tokens'])\n"
     ]
    }
   ],
   "source": [
    "X_test['lemmas'] = preprocessing.lemmatize(X_test['clean_tokens'])"
   ]
  },
  {
   "cell_type": "code",
   "execution_count": 120,
   "metadata": {},
   "outputs": [
    {
     "data": {
      "text/html": [
       "<div>\n",
       "<style scoped>\n",
       "    .dataframe tbody tr th:only-of-type {\n",
       "        vertical-align: middle;\n",
       "    }\n",
       "\n",
       "    .dataframe tbody tr th {\n",
       "        vertical-align: top;\n",
       "    }\n",
       "\n",
       "    .dataframe thead th {\n",
       "        text-align: right;\n",
       "    }\n",
       "</style>\n",
       "<table border=\"1\" class=\"dataframe\">\n",
       "  <thead>\n",
       "    <tr style=\"text-align: right;\">\n",
       "      <th></th>\n",
       "      <th>Complaint</th>\n",
       "      <th>Company</th>\n",
       "      <th>tokens</th>\n",
       "      <th>clean_tokens</th>\n",
       "      <th>lemmas</th>\n",
       "    </tr>\n",
       "  </thead>\n",
       "  <tbody>\n",
       "    <tr>\n",
       "      <th>2766785</th>\n",
       "      <td>Hello I've recently in XX/XX/XXXX attempted to...</td>\n",
       "      <td>Experian Information Solutions Inc.</td>\n",
       "      <td>[hello, 've, recently, xx/xx/xxxx, attempted, ...</td>\n",
       "      <td>[hello, 've, recently, attempted, dispute, inc...</td>\n",
       "      <td>[hello, 've, recently, attempt, dispute, incor...</td>\n",
       "    </tr>\n",
       "    <tr>\n",
       "      <th>2173377</th>\n",
       "      <td>XXXX XXXX XXXX XXXX XXXX XXXX XXXX XXXX, FL XX...</td>\n",
       "      <td>Fidelity National Information Services, Inc. (...</td>\n",
       "      <td>[xxxx, xxxx, xxxx, xxxx, xxxx, xxxx, xxxx, xxx...</td>\n",
       "      <td>[fl, consumer, id, brought, attention, inaccur...</td>\n",
       "      <td>[fl, consumer, id, bring, attention, inaccurat...</td>\n",
       "    </tr>\n",
       "  </tbody>\n",
       "</table>\n",
       "</div>"
      ],
      "text/plain": [
       "                                                 Complaint  \\\n",
       "2766785  Hello I've recently in XX/XX/XXXX attempted to...   \n",
       "2173377  XXXX XXXX XXXX XXXX XXXX XXXX XXXX XXXX, FL XX...   \n",
       "\n",
       "                                                   Company  \\\n",
       "2766785                Experian Information Solutions Inc.   \n",
       "2173377  Fidelity National Information Services, Inc. (...   \n",
       "\n",
       "                                                    tokens  \\\n",
       "2766785  [hello, 've, recently, xx/xx/xxxx, attempted, ...   \n",
       "2173377  [xxxx, xxxx, xxxx, xxxx, xxxx, xxxx, xxxx, xxx...   \n",
       "\n",
       "                                              clean_tokens  \\\n",
       "2766785  [hello, 've, recently, attempted, dispute, inc...   \n",
       "2173377  [fl, consumer, id, brought, attention, inaccur...   \n",
       "\n",
       "                                                    lemmas  \n",
       "2766785  [hello, 've, recently, attempt, dispute, incor...  \n",
       "2173377  [fl, consumer, id, bring, attention, inaccurat...  "
      ]
     },
     "execution_count": 120,
     "metadata": {},
     "output_type": "execute_result"
    }
   ],
   "source": [
    "X_test.head(2)"
   ]
  },
  {
   "cell_type": "markdown",
   "metadata": {},
   "source": [
    "Preprocessing the training and validation data takes a while, so let's store them on disk."
   ]
  },
  {
   "cell_type": "code",
   "execution_count": 122,
   "metadata": {},
   "outputs": [],
   "source": [
    "with open('data/train-test-split/train', 'w') as f:\n",
    "    X_train.to_csv(f)\n",
    "    \n",
    "with open('data/train-test-split/val', 'w') as f:\n",
    "    X_val.to_csv(f)\n",
    "    \n",
    "with open('data/train-test-split/ytrain', 'w') as f:\n",
    "    y_train.to_csv(f)\n",
    "    \n",
    "with open('data/train-test-split/yval', 'w') as f:\n",
    "    y_val.to_csv(f)\n",
    "    \n",
    "with open('data/train-test-split/test', 'w') as f:\n",
    "    X_test.to_csv(f)\n",
    "    \n",
    "with open('data/train-test-split/ytest', 'w') as f:\n",
    "    y_test.to_csv(f)"
   ]
  },
  {
   "cell_type": "markdown",
   "metadata": {},
   "source": [
    "## Model Building"
   ]
  },
  {
   "cell_type": "code",
   "execution_count": 133,
   "metadata": {
    "scrolled": true
   },
   "outputs": [
    {
     "data": {
      "text/html": [
       "<div>\n",
       "<style scoped>\n",
       "    .dataframe tbody tr th:only-of-type {\n",
       "        vertical-align: middle;\n",
       "    }\n",
       "\n",
       "    .dataframe tbody tr th {\n",
       "        vertical-align: top;\n",
       "    }\n",
       "\n",
       "    .dataframe thead th {\n",
       "        text-align: right;\n",
       "    }\n",
       "</style>\n",
       "<table border=\"1\" class=\"dataframe\">\n",
       "  <thead>\n",
       "    <tr style=\"text-align: right;\">\n",
       "      <th></th>\n",
       "      <th>Complaint</th>\n",
       "      <th>Company</th>\n",
       "      <th>tokens</th>\n",
       "      <th>clean_tokens</th>\n",
       "      <th>lemmas</th>\n",
       "    </tr>\n",
       "  </thead>\n",
       "  <tbody>\n",
       "    <tr>\n",
       "      <th>364212</th>\n",
       "      <td>This is XXXX XXXX, who is submitting this CFPB...</td>\n",
       "      <td>EQUIFAX, INC.</td>\n",
       "      <td>['xxxx', 'xxxx', 'submitting', 'cfpb', 'compla...</td>\n",
       "      <td>['submitting', 'cfpb', 'complaint', 'inform', ...</td>\n",
       "      <td>['submit', 'cfpb', 'complaint', 'inform', 'thi...</td>\n",
       "    </tr>\n",
       "    <tr>\n",
       "      <th>2207116</th>\n",
       "      <td>I am disputing a couple of inaccurate items on...</td>\n",
       "      <td>EQUIFAX, INC.</td>\n",
       "      <td>['disputing', 'couple', 'inaccurate', 'items',...</td>\n",
       "      <td>['disputing', 'couple', 'inaccurate', 'items',...</td>\n",
       "      <td>['dispute', 'couple', 'inaccurate', 'item', 'c...</td>\n",
       "    </tr>\n",
       "    <tr>\n",
       "      <th>1015564</th>\n",
       "      <td>I have contacted this company on several occas...</td>\n",
       "      <td>Penn Credit Corporation</td>\n",
       "      <td>['contacted', 'company', 'several', 'occassion...</td>\n",
       "      <td>['contacted', 'company', 'several', 'occassion...</td>\n",
       "      <td>['contact', 'company', 'several', 'occassions'...</td>\n",
       "    </tr>\n",
       "    <tr>\n",
       "      <th>1647648</th>\n",
       "      <td>My mother was contacted by an XXXX representat...</td>\n",
       "      <td>BTH Management</td>\n",
       "      <td>['mother', 'contacted', 'xxxx', 'representativ...</td>\n",
       "      <td>['mother', 'contacted', 'representative', 'sha...</td>\n",
       "      <td>['mother', 'contact', 'representative', 'share...</td>\n",
       "    </tr>\n",
       "    <tr>\n",
       "      <th>2082209</th>\n",
       "      <td>On XXXX XXXX I sent a letter regarding an accu...</td>\n",
       "      <td>EQUIFAX, INC.</td>\n",
       "      <td>['xxxx', 'xxxx', 'sent', 'letter', 'regarding'...</td>\n",
       "      <td>['sent', 'letter', 'regarding', 'accurate', 'u...</td>\n",
       "      <td>['sent', 'letter', 'regard', 'accurate', 'unkn...</td>\n",
       "    </tr>\n",
       "  </tbody>\n",
       "</table>\n",
       "</div>"
      ],
      "text/plain": [
       "                                                 Complaint  \\\n",
       "364212   This is XXXX XXXX, who is submitting this CFPB...   \n",
       "2207116  I am disputing a couple of inaccurate items on...   \n",
       "1015564  I have contacted this company on several occas...   \n",
       "1647648  My mother was contacted by an XXXX representat...   \n",
       "2082209  On XXXX XXXX I sent a letter regarding an accu...   \n",
       "\n",
       "                         Company  \\\n",
       "364212             EQUIFAX, INC.   \n",
       "2207116            EQUIFAX, INC.   \n",
       "1015564  Penn Credit Corporation   \n",
       "1647648           BTH Management   \n",
       "2082209            EQUIFAX, INC.   \n",
       "\n",
       "                                                    tokens  \\\n",
       "364212   ['xxxx', 'xxxx', 'submitting', 'cfpb', 'compla...   \n",
       "2207116  ['disputing', 'couple', 'inaccurate', 'items',...   \n",
       "1015564  ['contacted', 'company', 'several', 'occassion...   \n",
       "1647648  ['mother', 'contacted', 'xxxx', 'representativ...   \n",
       "2082209  ['xxxx', 'xxxx', 'sent', 'letter', 'regarding'...   \n",
       "\n",
       "                                              clean_tokens  \\\n",
       "364212   ['submitting', 'cfpb', 'complaint', 'inform', ...   \n",
       "2207116  ['disputing', 'couple', 'inaccurate', 'items',...   \n",
       "1015564  ['contacted', 'company', 'several', 'occassion...   \n",
       "1647648  ['mother', 'contacted', 'representative', 'sha...   \n",
       "2082209  ['sent', 'letter', 'regarding', 'accurate', 'u...   \n",
       "\n",
       "                                                    lemmas  \n",
       "364212   ['submit', 'cfpb', 'complaint', 'inform', 'thi...  \n",
       "2207116  ['dispute', 'couple', 'inaccurate', 'item', 'c...  \n",
       "1015564  ['contact', 'company', 'several', 'occassions'...  \n",
       "1647648  ['mother', 'contact', 'representative', 'share...  \n",
       "2082209  ['sent', 'letter', 'regard', 'accurate', 'unkn...  "
      ]
     },
     "execution_count": 133,
     "metadata": {},
     "output_type": "execute_result"
    }
   ],
   "source": [
    "# load X_train\n",
    "X_train = pd.read_csv('data/train-test-split/train')\n",
    "X_train.set_index('Unnamed: 0', inplace=True)\n",
    "X_train.index.name = None\n",
    "X_train.head()"
   ]
  },
  {
   "cell_type": "code",
   "execution_count": 134,
   "metadata": {
    "scrolled": true
   },
   "outputs": [
    {
     "data": {
      "text/html": [
       "<div>\n",
       "<style scoped>\n",
       "    .dataframe tbody tr th:only-of-type {\n",
       "        vertical-align: middle;\n",
       "    }\n",
       "\n",
       "    .dataframe tbody tr th {\n",
       "        vertical-align: top;\n",
       "    }\n",
       "\n",
       "    .dataframe thead th {\n",
       "        text-align: right;\n",
       "    }\n",
       "</style>\n",
       "<table border=\"1\" class=\"dataframe\">\n",
       "  <thead>\n",
       "    <tr style=\"text-align: right;\">\n",
       "      <th></th>\n",
       "      <th>Complaint</th>\n",
       "      <th>Company</th>\n",
       "      <th>tokens</th>\n",
       "      <th>clean_tokens</th>\n",
       "      <th>lemmas</th>\n",
       "    </tr>\n",
       "  </thead>\n",
       "  <tbody>\n",
       "    <tr>\n",
       "      <th>3277011</th>\n",
       "      <td>In accordance with the Fair Credit Reporting A...</td>\n",
       "      <td>TRANSUNION INTERMEDIATE HOLDINGS, INC.</td>\n",
       "      <td>['accordance', 'fair', 'credit', 'reporting', ...</td>\n",
       "      <td>['accordance', 'fair', 'credit', 'reporting', ...</td>\n",
       "      <td>['accordance', 'fair', 'credit', 'reporting', ...</td>\n",
       "    </tr>\n",
       "    <tr>\n",
       "      <th>2844354</th>\n",
       "      <td>My mother XXXX and has an outstanding home equ...</td>\n",
       "      <td>WELLS FARGO &amp; COMPANY</td>\n",
       "      <td>['mother', 'xxxx', 'outstanding', 'home', 'equ...</td>\n",
       "      <td>['mother', 'outstanding', 'home', 'equity', 'l...</td>\n",
       "      <td>['mother', 'outstanding', 'home', 'equity', 'l...</td>\n",
       "    </tr>\n",
       "    <tr>\n",
       "      <th>2614963</th>\n",
       "      <td>My balance actually goes UP every month. I hav...</td>\n",
       "      <td>Navient Solutions, LLC.</td>\n",
       "      <td>['balance', 'actually', 'goes', 'every', 'mont...</td>\n",
       "      <td>['balance', 'actually', 'goes', 'every', 'mont...</td>\n",
       "      <td>['balance', 'actually', 'go', 'every', 'month'...</td>\n",
       "    </tr>\n",
       "    <tr>\n",
       "      <th>1063901</th>\n",
       "      <td>We have reached CitiMortgage four times in dif...</td>\n",
       "      <td>CITIBANK, N.A.</td>\n",
       "      <td>['reached', 'citimortgage', 'four', 'times', '...</td>\n",
       "      <td>['reached', 'citimortgage', 'four', 'times', '...</td>\n",
       "      <td>['reach', 'citimortgage', 'four', 'time', 'dif...</td>\n",
       "    </tr>\n",
       "    <tr>\n",
       "      <th>2936020</th>\n",
       "      <td>I am requesting verification of the validation...</td>\n",
       "      <td>HW Holding, Inc</td>\n",
       "      <td>['requesting', 'verification', 'validation', '...</td>\n",
       "      <td>['requesting', 'verification', 'validation', '...</td>\n",
       "      <td>['request', 'verification', 'validation', 'ele...</td>\n",
       "    </tr>\n",
       "  </tbody>\n",
       "</table>\n",
       "</div>"
      ],
      "text/plain": [
       "                                                 Complaint  \\\n",
       "3277011  In accordance with the Fair Credit Reporting A...   \n",
       "2844354  My mother XXXX and has an outstanding home equ...   \n",
       "2614963  My balance actually goes UP every month. I hav...   \n",
       "1063901  We have reached CitiMortgage four times in dif...   \n",
       "2936020  I am requesting verification of the validation...   \n",
       "\n",
       "                                        Company  \\\n",
       "3277011  TRANSUNION INTERMEDIATE HOLDINGS, INC.   \n",
       "2844354                   WELLS FARGO & COMPANY   \n",
       "2614963                 Navient Solutions, LLC.   \n",
       "1063901                          CITIBANK, N.A.   \n",
       "2936020                         HW Holding, Inc   \n",
       "\n",
       "                                                    tokens  \\\n",
       "3277011  ['accordance', 'fair', 'credit', 'reporting', ...   \n",
       "2844354  ['mother', 'xxxx', 'outstanding', 'home', 'equ...   \n",
       "2614963  ['balance', 'actually', 'goes', 'every', 'mont...   \n",
       "1063901  ['reached', 'citimortgage', 'four', 'times', '...   \n",
       "2936020  ['requesting', 'verification', 'validation', '...   \n",
       "\n",
       "                                              clean_tokens  \\\n",
       "3277011  ['accordance', 'fair', 'credit', 'reporting', ...   \n",
       "2844354  ['mother', 'outstanding', 'home', 'equity', 'l...   \n",
       "2614963  ['balance', 'actually', 'goes', 'every', 'mont...   \n",
       "1063901  ['reached', 'citimortgage', 'four', 'times', '...   \n",
       "2936020  ['requesting', 'verification', 'validation', '...   \n",
       "\n",
       "                                                    lemmas  \n",
       "3277011  ['accordance', 'fair', 'credit', 'reporting', ...  \n",
       "2844354  ['mother', 'outstanding', 'home', 'equity', 'l...  \n",
       "2614963  ['balance', 'actually', 'go', 'every', 'month'...  \n",
       "1063901  ['reach', 'citimortgage', 'four', 'time', 'dif...  \n",
       "2936020  ['request', 'verification', 'validation', 'ele...  "
      ]
     },
     "execution_count": 134,
     "metadata": {},
     "output_type": "execute_result"
    }
   ],
   "source": [
    "# load X_val\n",
    "X_val = pd.read_csv('data/train-test-split/val')\n",
    "X_val.set_index('Unnamed: 0', inplace=True)\n",
    "X_val.index.name = None\n",
    "X_val.head()"
   ]
  },
  {
   "cell_type": "code",
   "execution_count": 135,
   "metadata": {},
   "outputs": [],
   "source": [
    "# load val_train and y_val\n",
    "y_train = pd.read_csv('data/train-test-split/ytrain')\n",
    "y_train.set_index('Unnamed: 0', inplace=True)\n",
    "y_train.index.name = None\n",
    "y_train = y_train.squeeze()\n",
    "\n",
    "y_val = pd.read_csv('data/train-test-split/yval')\n",
    "y_val.set_index('Unnamed: 0', inplace=True)\n",
    "y_val.index.name = None\n",
    "y_val = y_val.squeeze()"
   ]
  },
  {
   "cell_type": "code",
   "execution_count": 136,
   "metadata": {},
   "outputs": [
    {
     "name": "stdout",
     "output_type": "stream",
     "text": [
      "(60000,)\n",
      "(20000,)\n"
     ]
    },
    {
     "data": {
      "text/plain": [
       "array([3, 3, 4, ..., 3, 4, 3])"
      ]
     },
     "execution_count": 136,
     "metadata": {},
     "output_type": "execute_result"
    }
   ],
   "source": [
    "from sklearn.preprocessing import LabelEncoder\n",
    "\n",
    "le = LabelEncoder()\n",
    "\n",
    "train_labels = le.fit_transform(y_train)\n",
    "val_labels = le.transform(y_val)\n",
    "\n",
    "print(train_labels.shape)\n",
    "print(val_labels.shape)\n",
    "train_labels"
   ]
  },
  {
   "cell_type": "markdown",
   "metadata": {},
   "source": [
    "Next, the lemmas for each complaint are vectorized using term frequency - inverse document frequency."
   ]
  },
  {
   "cell_type": "code",
   "execution_count": 7,
   "metadata": {},
   "outputs": [],
   "source": [
    "from sklearn.feature_extraction.text import TfidfVectorizer"
   ]
  },
  {
   "cell_type": "code",
   "execution_count": 8,
   "metadata": {},
   "outputs": [
    {
     "data": {
      "text/html": [
       "<div>\n",
       "<style scoped>\n",
       "    .dataframe tbody tr th:only-of-type {\n",
       "        vertical-align: middle;\n",
       "    }\n",
       "\n",
       "    .dataframe tbody tr th {\n",
       "        vertical-align: top;\n",
       "    }\n",
       "\n",
       "    .dataframe thead th {\n",
       "        text-align: right;\n",
       "    }\n",
       "</style>\n",
       "<table border=\"1\" class=\"dataframe\">\n",
       "  <thead>\n",
       "    <tr style=\"text-align: right;\">\n",
       "      <th></th>\n",
       "      <th>submit</th>\n",
       "      <th>cfpb</th>\n",
       "      <th>complaint</th>\n",
       "      <th>inform</th>\n",
       "      <th>third</th>\n",
       "      <th>party</th>\n",
       "      <th>involved</th>\n",
       "      <th>process</th>\n",
       "      <th>send</th>\n",
       "      <th>letter</th>\n",
       "      <th>...</th>\n",
       "      <th>verififcation</th>\n",
       "      <th>clarifiy</th>\n",
       "      <th>affliate</th>\n",
       "      <th>refuting</th>\n",
       "      <th>penatgon</th>\n",
       "      <th>attatching</th>\n",
       "      <th>conatact</th>\n",
       "      <th>cherrington</th>\n",
       "      <th>candy</th>\n",
       "      <th>acquantained</th>\n",
       "    </tr>\n",
       "  </thead>\n",
       "  <tbody>\n",
       "    <tr>\n",
       "      <th>364212</th>\n",
       "      <td>0.0</td>\n",
       "      <td>0.0</td>\n",
       "      <td>0.0</td>\n",
       "      <td>0.0</td>\n",
       "      <td>0.0</td>\n",
       "      <td>0.0</td>\n",
       "      <td>0.0</td>\n",
       "      <td>0.0</td>\n",
       "      <td>0.0</td>\n",
       "      <td>0.0</td>\n",
       "      <td>...</td>\n",
       "      <td>0.0</td>\n",
       "      <td>0.0</td>\n",
       "      <td>0.0</td>\n",
       "      <td>0.0</td>\n",
       "      <td>0.0</td>\n",
       "      <td>0.0</td>\n",
       "      <td>0.0</td>\n",
       "      <td>0.0</td>\n",
       "      <td>0.0</td>\n",
       "      <td>0.0</td>\n",
       "    </tr>\n",
       "    <tr>\n",
       "      <th>2207116</th>\n",
       "      <td>0.0</td>\n",
       "      <td>0.0</td>\n",
       "      <td>0.0</td>\n",
       "      <td>0.0</td>\n",
       "      <td>0.0</td>\n",
       "      <td>0.0</td>\n",
       "      <td>0.0</td>\n",
       "      <td>0.0</td>\n",
       "      <td>0.0</td>\n",
       "      <td>0.0</td>\n",
       "      <td>...</td>\n",
       "      <td>0.0</td>\n",
       "      <td>0.0</td>\n",
       "      <td>0.0</td>\n",
       "      <td>0.0</td>\n",
       "      <td>0.0</td>\n",
       "      <td>0.0</td>\n",
       "      <td>0.0</td>\n",
       "      <td>0.0</td>\n",
       "      <td>0.0</td>\n",
       "      <td>0.0</td>\n",
       "    </tr>\n",
       "  </tbody>\n",
       "</table>\n",
       "<p>2 rows × 35352 columns</p>\n",
       "</div>"
      ],
      "text/plain": [
       "         submit  cfpb  complaint  inform  third  party  involved  process  \\\n",
       "364212      0.0   0.0        0.0     0.0    0.0    0.0       0.0      0.0   \n",
       "2207116     0.0   0.0        0.0     0.0    0.0    0.0       0.0      0.0   \n",
       "\n",
       "         send  letter  ...  verififcation  clarifiy  affliate  refuting  \\\n",
       "364212    0.0     0.0  ...            0.0       0.0       0.0       0.0   \n",
       "2207116   0.0     0.0  ...            0.0       0.0       0.0       0.0   \n",
       "\n",
       "         penatgon  attatching  conatact  cherrington  candy  acquantained  \n",
       "364212        0.0         0.0       0.0          0.0    0.0           0.0  \n",
       "2207116       0.0         0.0       0.0          0.0    0.0           0.0  \n",
       "\n",
       "[2 rows x 35352 columns]"
      ]
     },
     "execution_count": 8,
     "metadata": {},
     "output_type": "execute_result"
    }
   ],
   "source": [
    "tfidf_vec = TfidfVectorizer()\n",
    "\n",
    "vectorized_words = pd.DataFrame(\n",
    "    tfidf_vec.fit_transform(X_train['lemmas']).todense(),\n",
    "    columns=list(tfidf_vec.vocabulary_.keys()),\n",
    "    index=X_train.index)\n",
    "\n",
    "vectorized_words.head(2)"
   ]
  },
  {
   "cell_type": "markdown",
   "metadata": {},
   "source": [
    "Do the same to the validation data, but don't re-fit the vectorizer."
   ]
  },
  {
   "cell_type": "code",
   "execution_count": 9,
   "metadata": {},
   "outputs": [
    {
     "data": {
      "text/html": [
       "<div>\n",
       "<style scoped>\n",
       "    .dataframe tbody tr th:only-of-type {\n",
       "        vertical-align: middle;\n",
       "    }\n",
       "\n",
       "    .dataframe tbody tr th {\n",
       "        vertical-align: top;\n",
       "    }\n",
       "\n",
       "    .dataframe thead th {\n",
       "        text-align: right;\n",
       "    }\n",
       "</style>\n",
       "<table border=\"1\" class=\"dataframe\">\n",
       "  <thead>\n",
       "    <tr style=\"text-align: right;\">\n",
       "      <th></th>\n",
       "      <th>submit</th>\n",
       "      <th>cfpb</th>\n",
       "      <th>complaint</th>\n",
       "      <th>inform</th>\n",
       "      <th>third</th>\n",
       "      <th>party</th>\n",
       "      <th>involved</th>\n",
       "      <th>process</th>\n",
       "      <th>send</th>\n",
       "      <th>letter</th>\n",
       "      <th>...</th>\n",
       "      <th>verififcation</th>\n",
       "      <th>clarifiy</th>\n",
       "      <th>affliate</th>\n",
       "      <th>refuting</th>\n",
       "      <th>penatgon</th>\n",
       "      <th>attatching</th>\n",
       "      <th>conatact</th>\n",
       "      <th>cherrington</th>\n",
       "      <th>candy</th>\n",
       "      <th>acquantained</th>\n",
       "    </tr>\n",
       "  </thead>\n",
       "  <tbody>\n",
       "    <tr>\n",
       "      <th>3277011</th>\n",
       "      <td>0.000000</td>\n",
       "      <td>0.0</td>\n",
       "      <td>0.0</td>\n",
       "      <td>0.0</td>\n",
       "      <td>0.0</td>\n",
       "      <td>0.0</td>\n",
       "      <td>0.0</td>\n",
       "      <td>0.0</td>\n",
       "      <td>0.0</td>\n",
       "      <td>0.0</td>\n",
       "      <td>...</td>\n",
       "      <td>0.0</td>\n",
       "      <td>0.0</td>\n",
       "      <td>0.0</td>\n",
       "      <td>0.0</td>\n",
       "      <td>0.0</td>\n",
       "      <td>0.0</td>\n",
       "      <td>0.0</td>\n",
       "      <td>0.0</td>\n",
       "      <td>0.0</td>\n",
       "      <td>0.0</td>\n",
       "    </tr>\n",
       "    <tr>\n",
       "      <th>2844354</th>\n",
       "      <td>0.095702</td>\n",
       "      <td>0.0</td>\n",
       "      <td>0.0</td>\n",
       "      <td>0.0</td>\n",
       "      <td>0.0</td>\n",
       "      <td>0.0</td>\n",
       "      <td>0.0</td>\n",
       "      <td>0.0</td>\n",
       "      <td>0.0</td>\n",
       "      <td>0.0</td>\n",
       "      <td>...</td>\n",
       "      <td>0.0</td>\n",
       "      <td>0.0</td>\n",
       "      <td>0.0</td>\n",
       "      <td>0.0</td>\n",
       "      <td>0.0</td>\n",
       "      <td>0.0</td>\n",
       "      <td>0.0</td>\n",
       "      <td>0.0</td>\n",
       "      <td>0.0</td>\n",
       "      <td>0.0</td>\n",
       "    </tr>\n",
       "  </tbody>\n",
       "</table>\n",
       "<p>2 rows × 35352 columns</p>\n",
       "</div>"
      ],
      "text/plain": [
       "           submit  cfpb  complaint  inform  third  party  involved  process  \\\n",
       "3277011  0.000000   0.0        0.0     0.0    0.0    0.0       0.0      0.0   \n",
       "2844354  0.095702   0.0        0.0     0.0    0.0    0.0       0.0      0.0   \n",
       "\n",
       "         send  letter  ...  verififcation  clarifiy  affliate  refuting  \\\n",
       "3277011   0.0     0.0  ...            0.0       0.0       0.0       0.0   \n",
       "2844354   0.0     0.0  ...            0.0       0.0       0.0       0.0   \n",
       "\n",
       "         penatgon  attatching  conatact  cherrington  candy  acquantained  \n",
       "3277011       0.0         0.0       0.0          0.0    0.0           0.0  \n",
       "2844354       0.0         0.0       0.0          0.0    0.0           0.0  \n",
       "\n",
       "[2 rows x 35352 columns]"
      ]
     },
     "execution_count": 9,
     "metadata": {},
     "output_type": "execute_result"
    }
   ],
   "source": [
    "val_vectorized_words = pd.DataFrame(\n",
    "    tfidf_vec.transform(X_val['lemmas']).todense(),\n",
    "    columns=list(tfidf_vec.vocabulary_.keys()),\n",
    "    index=X_val.index)\n",
    "\n",
    "val_vectorized_words.head(2)"
   ]
  },
  {
   "cell_type": "markdown",
   "metadata": {},
   "source": [
    "Finally, a baseline model is constructed using Naive Bayes. I'm going to store each model as well as the train and validation scores for the model, in the dictionary \"model_scores\"."
   ]
  },
  {
   "cell_type": "code",
   "execution_count": 10,
   "metadata": {},
   "outputs": [
    {
     "data": {
      "text/plain": [
       "{'baseline': {'model': MultinomialNB(),\n",
       "  'train': 0.7224333333333334,\n",
       "  'test': 0.6991}}"
      ]
     },
     "execution_count": 10,
     "metadata": {},
     "output_type": "execute_result"
    }
   ],
   "source": [
    "from sklearn.naive_bayes import MultinomialNB\n",
    "\n",
    "baseline = MultinomialNB()\n",
    "baseline.fit(vectorized_words, train_labels)\n",
    "\n",
    "from sklearn.base import clone\n",
    "\n",
    "model_scores = {'baseline': {\n",
    "    'model': clone(baseline),\n",
    "    'train': baseline.score(vectorized_words, train_labels),\n",
    "    'test': baseline.score(val_vectorized_words, val_labels)}\n",
    "               }\n",
    "\n",
    "model_scores"
   ]
  },
  {
   "cell_type": "markdown",
   "metadata": {},
   "source": [
    "There is certainly room for improvement, but this is not a terrible score to start. (A classifier which picks the majority class would have an accuracy of ~51% for this training set.)\n",
    "\n",
    "Let's try to understand where this model goes wrong, and see if it suggests any particular avenues for improvement."
   ]
  },
  {
   "cell_type": "code",
   "execution_count": 11,
   "metadata": {},
   "outputs": [],
   "source": [
    "from sklearn.metrics import confusion_matrix, ConfusionMatrixDisplay"
   ]
  },
  {
   "cell_type": "code",
   "execution_count": null,
   "metadata": {},
   "outputs": [],
   "source": [
    "fig, ax = plt.subplots(figsize=(12, 8))\n",
    "\n",
    "ConfusionMatrixDisplay(confusion_matrix(train_labels, baseline.predict(vectorized_words)))\\\n",
    ".plot(ax=ax);"
   ]
  },
  {
   "cell_type": "markdown",
   "metadata": {},
   "source": [
    "It is difficult to interpret a raw count confusion matrix because the classes are heavily imbalanced. Normalize along each row to improve interpretability."
   ]
  },
  {
   "cell_type": "code",
   "execution_count": null,
   "metadata": {},
   "outputs": [],
   "source": [
    "fig, ax = plt.subplots(figsize=(12, 8))\n",
    "\n",
    "ConfusionMatrixDisplay(confusion_matrix(train_labels,\n",
    "                                        baseline.predict(vectorized_words),\n",
    "                                        normalize='true')).plot(ax=ax);"
   ]
  },
  {
   "cell_type": "markdown",
   "metadata": {},
   "source": [
    "Unsurprisingly, the heavy-majority class has 99% accuracy while most other classes struggle.\n",
    "\n",
    "Here is the distribution of product categories in the training set:"
   ]
  },
  {
   "cell_type": "code",
   "execution_count": null,
   "metadata": {},
   "outputs": [],
   "source": [
    "y_train.value_counts()"
   ]
  },
  {
   "cell_type": "markdown",
   "metadata": {},
   "source": [
    "The ability of the baseline model to correctly predict the class of a complaint is (loosely) correlated to the size of that class in the training data.\n",
    "\n",
    "View the top words in each category:"
   ]
  },
  {
   "cell_type": "markdown",
   "metadata": {},
   "source": [
    "The cell below concatenates the product information with the lemmas for the complaint, then creates a list of all lemmas in a particular product category and stores this in a dictionary (key = product.)"
   ]
  },
  {
   "cell_type": "code",
   "execution_count": 12,
   "metadata": {},
   "outputs": [],
   "source": [
    "train = pd.concat([X_train, y_train], axis=1)\n",
    "\n",
    "from collections import defaultdict\n",
    "product_lemmas = defaultdict()\n",
    "\n",
    "for product in np.unique(train.Product):\n",
    "    product_lemmas[product] = []\n",
    "    for row in train.loc[train.Product == product, 'lemmas']:\n",
    "        product_lemmas[product].extend(row)"
   ]
  },
  {
   "cell_type": "markdown",
   "metadata": {},
   "source": [
    "Next, we iterate over each product and get the counts for the top 5 words in that product category using nltk's FreqDist function. Create a plot for each product."
   ]
  },
  {
   "cell_type": "code",
   "execution_count": null,
   "metadata": {},
   "outputs": [],
   "source": [
    "from nltk import FreqDist\n",
    "\n",
    "n = 5\n",
    "\n",
    "fig, ax = plt.subplots(nrows=4, ncols=3, figsize=(12, 8))\n",
    "\n",
    "for i, product in enumerate(np.unique(train.Product)):\n",
    "    fdist = FreqDist(product_lemmas[product])\n",
    "    labels = [x[0] for x in fdist.most_common(n)]\n",
    "    counts = [x[1] for x in fdist.most_common(n)]\n",
    "    \n",
    "    current_ax = ax[i // 3][i % 3]\n",
    "    plt.sca(current_ax)\n",
    "    plt.barh(y=np.linspace(1,n,n), width=counts)\n",
    "    current_ax.set_yticks(np.linspace(1,n,n))\n",
    "    current_ax.set_yticklabels(labels)\n",
    "    fig.suptitle(f'Top {n} words in complaints related to...')\n",
    "    current_ax.set_title(product)\n",
    "    \n",
    "fig.tight_layout();"
   ]
  },
  {
   "cell_type": "markdown",
   "metadata": {},
   "source": [
    "Based on these plots, I realize that forcing the model to ignore words which occur in every category (or even most categories) could improve the model's performance.\n",
    "\n",
    "Including bigrams could also help the model to distinguish between product categories (ex: \"credit card\" vs. \"credit report\".)"
   ]
  },
  {
   "cell_type": "code",
   "execution_count": 13,
   "metadata": {},
   "outputs": [
    {
     "data": {
      "text/html": [
       "<div>\n",
       "<style scoped>\n",
       "    .dataframe tbody tr th:only-of-type {\n",
       "        vertical-align: middle;\n",
       "    }\n",
       "\n",
       "    .dataframe tbody tr th {\n",
       "        vertical-align: top;\n",
       "    }\n",
       "\n",
       "    .dataframe thead th {\n",
       "        text-align: right;\n",
       "    }\n",
       "</style>\n",
       "<table border=\"1\" class=\"dataframe\">\n",
       "  <thead>\n",
       "    <tr style=\"text-align: right;\">\n",
       "      <th></th>\n",
       "      <th>submit</th>\n",
       "      <th>complaint</th>\n",
       "      <th>inform</th>\n",
       "      <th>third</th>\n",
       "      <th>party</th>\n",
       "      <th>process</th>\n",
       "      <th>send</th>\n",
       "      <th>letter</th>\n",
       "      <th>equifax</th>\n",
       "      <th>credit</th>\n",
       "      <th>...</th>\n",
       "      <th>wrong</th>\n",
       "      <th>way</th>\n",
       "      <th>purchase</th>\n",
       "      <th>victim</th>\n",
       "      <th>stop</th>\n",
       "      <th>statement</th>\n",
       "      <th>score</th>\n",
       "      <th>transfer</th>\n",
       "      <th>online</th>\n",
       "      <th>already</th>\n",
       "    </tr>\n",
       "  </thead>\n",
       "  <tbody>\n",
       "    <tr>\n",
       "      <th>364212</th>\n",
       "      <td>0.0</td>\n",
       "      <td>0.0</td>\n",
       "      <td>0.0</td>\n",
       "      <td>0.000000</td>\n",
       "      <td>0.0</td>\n",
       "      <td>0.0</td>\n",
       "      <td>0.0</td>\n",
       "      <td>0.081658</td>\n",
       "      <td>0.0</td>\n",
       "      <td>0.157253</td>\n",
       "      <td>...</td>\n",
       "      <td>0.0</td>\n",
       "      <td>0.0</td>\n",
       "      <td>0.000000</td>\n",
       "      <td>0.0</td>\n",
       "      <td>0.0</td>\n",
       "      <td>0.000000</td>\n",
       "      <td>0.0</td>\n",
       "      <td>0.0</td>\n",
       "      <td>0.0</td>\n",
       "      <td>0.000000</td>\n",
       "    </tr>\n",
       "    <tr>\n",
       "      <th>2207116</th>\n",
       "      <td>0.0</td>\n",
       "      <td>0.0</td>\n",
       "      <td>0.0</td>\n",
       "      <td>0.062139</td>\n",
       "      <td>0.0</td>\n",
       "      <td>0.0</td>\n",
       "      <td>0.0</td>\n",
       "      <td>0.000000</td>\n",
       "      <td>0.0</td>\n",
       "      <td>0.054401</td>\n",
       "      <td>...</td>\n",
       "      <td>0.0</td>\n",
       "      <td>0.0</td>\n",
       "      <td>0.061215</td>\n",
       "      <td>0.0</td>\n",
       "      <td>0.0</td>\n",
       "      <td>0.043737</td>\n",
       "      <td>0.0</td>\n",
       "      <td>0.0</td>\n",
       "      <td>0.0</td>\n",
       "      <td>0.194373</td>\n",
       "    </tr>\n",
       "  </tbody>\n",
       "</table>\n",
       "<p>2 rows × 246 columns</p>\n",
       "</div>"
      ],
      "text/plain": [
       "         submit  complaint  inform     third  party  process  send    letter  \\\n",
       "364212      0.0        0.0     0.0  0.000000    0.0      0.0   0.0  0.081658   \n",
       "2207116     0.0        0.0     0.0  0.062139    0.0      0.0   0.0  0.000000   \n",
       "\n",
       "         equifax    credit  ...  wrong  way  purchase  victim  stop  \\\n",
       "364212       0.0  0.157253  ...    0.0  0.0  0.000000     0.0   0.0   \n",
       "2207116      0.0  0.054401  ...    0.0  0.0  0.061215     0.0   0.0   \n",
       "\n",
       "         statement  score  transfer  online   already  \n",
       "364212    0.000000    0.0       0.0     0.0  0.000000  \n",
       "2207116   0.043737    0.0       0.0     0.0  0.194373  \n",
       "\n",
       "[2 rows x 246 columns]"
      ]
     },
     "execution_count": 13,
     "metadata": {},
     "output_type": "execute_result"
    }
   ],
   "source": [
    "tfidf_vec2 = TfidfVectorizer(min_df=0.05, max_df=0.95)\n",
    "\n",
    "vectorized_words2 = pd.DataFrame(\n",
    "    tfidf_vec2.fit_transform(X_train['lemmas']).todense(),\n",
    "    columns=list(tfidf_vec2.vocabulary_.keys()),\n",
    "    index=X_train.index)\n",
    "\n",
    "vectorized_words2.head(2)"
   ]
  },
  {
   "cell_type": "code",
   "execution_count": 14,
   "metadata": {},
   "outputs": [
    {
     "data": {
      "text/html": [
       "<div>\n",
       "<style scoped>\n",
       "    .dataframe tbody tr th:only-of-type {\n",
       "        vertical-align: middle;\n",
       "    }\n",
       "\n",
       "    .dataframe tbody tr th {\n",
       "        vertical-align: top;\n",
       "    }\n",
       "\n",
       "    .dataframe thead th {\n",
       "        text-align: right;\n",
       "    }\n",
       "</style>\n",
       "<table border=\"1\" class=\"dataframe\">\n",
       "  <thead>\n",
       "    <tr style=\"text-align: right;\">\n",
       "      <th></th>\n",
       "      <th>submit</th>\n",
       "      <th>complaint</th>\n",
       "      <th>inform</th>\n",
       "      <th>third</th>\n",
       "      <th>party</th>\n",
       "      <th>process</th>\n",
       "      <th>send</th>\n",
       "      <th>letter</th>\n",
       "      <th>equifax</th>\n",
       "      <th>credit</th>\n",
       "      <th>...</th>\n",
       "      <th>wrong</th>\n",
       "      <th>way</th>\n",
       "      <th>purchase</th>\n",
       "      <th>victim</th>\n",
       "      <th>stop</th>\n",
       "      <th>statement</th>\n",
       "      <th>score</th>\n",
       "      <th>transfer</th>\n",
       "      <th>online</th>\n",
       "      <th>already</th>\n",
       "    </tr>\n",
       "  </thead>\n",
       "  <tbody>\n",
       "    <tr>\n",
       "      <th>3277011</th>\n",
       "      <td>0.000000</td>\n",
       "      <td>0.31106</td>\n",
       "      <td>0.376439</td>\n",
       "      <td>0.0</td>\n",
       "      <td>0.0</td>\n",
       "      <td>0.0</td>\n",
       "      <td>0.186292</td>\n",
       "      <td>0.156645</td>\n",
       "      <td>0.0</td>\n",
       "      <td>0.15083</td>\n",
       "      <td>...</td>\n",
       "      <td>0.0</td>\n",
       "      <td>0.0</td>\n",
       "      <td>0.0</td>\n",
       "      <td>0.13876</td>\n",
       "      <td>0.000000</td>\n",
       "      <td>0.0</td>\n",
       "      <td>0.143111</td>\n",
       "      <td>0.0</td>\n",
       "      <td>0.0</td>\n",
       "      <td>0.0</td>\n",
       "    </tr>\n",
       "    <tr>\n",
       "      <th>2844354</th>\n",
       "      <td>0.216687</td>\n",
       "      <td>0.00000</td>\n",
       "      <td>0.000000</td>\n",
       "      <td>0.0</td>\n",
       "      <td>0.0</td>\n",
       "      <td>0.0</td>\n",
       "      <td>0.000000</td>\n",
       "      <td>0.000000</td>\n",
       "      <td>0.0</td>\n",
       "      <td>0.00000</td>\n",
       "      <td>...</td>\n",
       "      <td>0.0</td>\n",
       "      <td>0.0</td>\n",
       "      <td>0.0</td>\n",
       "      <td>0.00000</td>\n",
       "      <td>0.327832</td>\n",
       "      <td>0.0</td>\n",
       "      <td>0.000000</td>\n",
       "      <td>0.0</td>\n",
       "      <td>0.0</td>\n",
       "      <td>0.0</td>\n",
       "    </tr>\n",
       "  </tbody>\n",
       "</table>\n",
       "<p>2 rows × 246 columns</p>\n",
       "</div>"
      ],
      "text/plain": [
       "           submit  complaint    inform  third  party  process      send  \\\n",
       "3277011  0.000000    0.31106  0.376439    0.0    0.0      0.0  0.186292   \n",
       "2844354  0.216687    0.00000  0.000000    0.0    0.0      0.0  0.000000   \n",
       "\n",
       "           letter  equifax   credit  ...  wrong  way  purchase   victim  \\\n",
       "3277011  0.156645      0.0  0.15083  ...    0.0  0.0       0.0  0.13876   \n",
       "2844354  0.000000      0.0  0.00000  ...    0.0  0.0       0.0  0.00000   \n",
       "\n",
       "             stop  statement     score  transfer  online  already  \n",
       "3277011  0.000000        0.0  0.143111       0.0     0.0      0.0  \n",
       "2844354  0.327832        0.0  0.000000       0.0     0.0      0.0  \n",
       "\n",
       "[2 rows x 246 columns]"
      ]
     },
     "execution_count": 14,
     "metadata": {},
     "output_type": "execute_result"
    }
   ],
   "source": [
    "val_vectorized_words2 = pd.DataFrame(\n",
    "    tfidf_vec2.transform(X_val['lemmas']).todense(),\n",
    "    columns=list(tfidf_vec2.vocabulary_.keys()),\n",
    "    index=X_val.index)\n",
    "\n",
    "val_vectorized_words2.head(2)"
   ]
  },
  {
   "cell_type": "code",
   "execution_count": 15,
   "metadata": {},
   "outputs": [
    {
     "data": {
      "text/plain": [
       "{'baseline': {'model': MultinomialNB(),\n",
       "  'train': 0.7224333333333334,\n",
       "  'test': 0.6991},\n",
       " 'min_max_df': {'model': MultinomialNB(),\n",
       "  'train': 0.7403666666666666,\n",
       "  'test': 0.73935}}"
      ]
     },
     "execution_count": 15,
     "metadata": {},
     "output_type": "execute_result"
    }
   ],
   "source": [
    "min_max_df = MultinomialNB()\n",
    "min_max_df.fit(vectorized_words2, train_labels)\n",
    "\n",
    "model_scores['min_max_df'] = {\n",
    "    'model': clone(min_max_df),\n",
    "    'train': min_max_df.score(vectorized_words2, train_labels),\n",
    "    'test': min_max_df.score(val_vectorized_words2, val_labels)\n",
    "}\n",
    "\n",
    "model_scores"
   ]
  },
  {
   "cell_type": "markdown",
   "metadata": {},
   "source": [
    "Ignoring words which have extremely high or extremely low document frequency was helpful - it increased the accuracy of our model on the validation set by ~4%. The model is also less overfit."
   ]
  },
  {
   "cell_type": "markdown",
   "metadata": {},
   "source": [
    "Try adding bigrams."
   ]
  },
  {
   "cell_type": "code",
   "execution_count": 16,
   "metadata": {},
   "outputs": [],
   "source": [
    "tfidf_vec_w_bigrams = TfidfVectorizer(min_df=0.05, max_df=0.95, ngram_range=(1,2))\n",
    "\n",
    "vectorized_words3 = pd.DataFrame(\n",
    "    tfidf_vec_w_bigrams.fit_transform(X_train['lemmas']).todense(),\n",
    "    columns=list(tfidf_vec_w_bigrams.vocabulary_.keys()),\n",
    "    index=X_train.index)\n",
    "\n",
    "val_vectorized_words3 = pd.DataFrame(\n",
    "    tfidf_vec_w_bigrams.transform(X_val['lemmas']).todense(),\n",
    "    columns=list(tfidf_vec_w_bigrams.vocabulary_.keys()),\n",
    "    index=X_val.index)"
   ]
  },
  {
   "cell_type": "code",
   "execution_count": 17,
   "metadata": {},
   "outputs": [
    {
     "data": {
      "text/plain": [
       "{'baseline': {'model': MultinomialNB(),\n",
       "  'train': 0.7224333333333334,\n",
       "  'test': 0.6991},\n",
       " 'min_max_df': {'model': MultinomialNB(),\n",
       "  'train': 0.7403666666666666,\n",
       "  'test': 0.73935},\n",
       " 'include_bigrams': {'model': MultinomialNB(), 'train': 0.743, 'test': 0.7445}}"
      ]
     },
     "execution_count": 17,
     "metadata": {},
     "output_type": "execute_result"
    }
   ],
   "source": [
    "include_bigrams = MultinomialNB()\n",
    "include_bigrams.fit(vectorized_words3, train_labels)\n",
    "\n",
    "model_scores['include_bigrams'] = {\n",
    "    'model': clone(include_bigrams),\n",
    "    'train': include_bigrams.score(vectorized_words3, train_labels),\n",
    "    'test': include_bigrams.score(val_vectorized_words3, val_labels)\n",
    "}\n",
    "\n",
    "model_scores"
   ]
  },
  {
   "cell_type": "markdown",
   "metadata": {},
   "source": [
    "This is the best result yet, but we are still landing at a validation accuracy of 74.45%."
   ]
  },
  {
   "cell_type": "markdown",
   "metadata": {},
   "source": [
    "Try undersampling:"
   ]
  },
  {
   "cell_type": "markdown",
   "metadata": {},
   "source": [
    "Get a random undersample of the majority class, and keep all data on other classes."
   ]
  },
  {
   "cell_type": "code",
   "execution_count": 23,
   "metadata": {},
   "outputs": [],
   "source": [
    "majority_class='Credit reporting, credit repair services, or other personal consumer reports'\n",
    "\n",
    "# get indices for undersampled\n",
    "majority_indices = train.loc[train.Product==majority_class].sample(10000,\n",
    "                                                                   random_state=seed).index\n",
    "minority_indices = train.loc[train.Product!=majority_class].index\n",
    "undersampled_indices = list(set(majority_indices).union(set(minority_indices)))\n",
    "\n",
    "undersampled_X_train = X_train.loc[undersampled_indices]\n",
    "\n",
    "undersampled_train_labels = le.fit_transform(y_train[undersampled_indices])"
   ]
  },
  {
   "cell_type": "markdown",
   "metadata": {},
   "source": [
    "Vectorize this data."
   ]
  },
  {
   "cell_type": "code",
   "execution_count": 24,
   "metadata": {},
   "outputs": [],
   "source": [
    "vectorized_words4 = pd.DataFrame(\n",
    "    tfidf_vec_w_bigrams.fit_transform(\n",
    "        undersampled_X_train['lemmas']).todense(),\n",
    "        columns=list(tfidf_vec_w_bigrams.vocabulary_.keys()),\n",
    "        index=undersampled_X_train.index)\n",
    "\n",
    "val_vectorized_words4 = pd.DataFrame(\n",
    "    tfidf_vec_w_bigrams.transform(X_val['lemmas']).todense(),\n",
    "    columns=list(tfidf_vec_w_bigrams.vocabulary_.keys()),\n",
    "    index=X_val.index)"
   ]
  },
  {
   "cell_type": "markdown",
   "metadata": {},
   "source": [
    "Fit a model to vectorized, undersampled data."
   ]
  },
  {
   "cell_type": "code",
   "execution_count": 25,
   "metadata": {},
   "outputs": [
    {
     "data": {
      "text/plain": [
       "{'baseline': {'model': MultinomialNB(),\n",
       "  'train': 0.7224333333333334,\n",
       "  'test': 0.6991},\n",
       " 'min_max_df': {'model': MultinomialNB(),\n",
       "  'train': 0.7403666666666666,\n",
       "  'test': 0.73935},\n",
       " 'include_bigrams': {'model': MultinomialNB(), 'train': 0.743, 'test': 0.7445},\n",
       " 'undersampled': {'model': MultinomialNB(),\n",
       "  'train': 0.6756054702421881,\n",
       "  'test': 0.7163}}"
      ]
     },
     "execution_count": 25,
     "metadata": {},
     "output_type": "execute_result"
    }
   ],
   "source": [
    "undersampled = MultinomialNB()\n",
    "undersampled.fit(vectorized_words4, undersampled_train_labels)\n",
    "\n",
    "model_scores['undersampled'] = {\n",
    "    'model': clone(undersampled),\n",
    "    'train': undersampled.score(vectorized_words4, undersampled_train_labels),\n",
    "    'test': undersampled.score(val_vectorized_words4, val_labels)\n",
    "}\n",
    "\n",
    "model_scores"
   ]
  },
  {
   "cell_type": "markdown",
   "metadata": {},
   "source": [
    "Undersampling produced worse results."
   ]
  },
  {
   "cell_type": "markdown",
   "metadata": {},
   "source": [
    "Try a different type of classifier."
   ]
  },
  {
   "cell_type": "code",
   "execution_count": 26,
   "metadata": {},
   "outputs": [
    {
     "data": {
      "text/plain": [
       "{'baseline': {'model': MultinomialNB(),\n",
       "  'train': 0.7224333333333334,\n",
       "  'test': 0.6991},\n",
       " 'min_max_df': {'model': MultinomialNB(),\n",
       "  'train': 0.7403666666666666,\n",
       "  'test': 0.73935},\n",
       " 'include_bigrams': {'model': MultinomialNB(), 'train': 0.743, 'test': 0.7445},\n",
       " 'undersampled': {'model': MultinomialNB(),\n",
       "  'train': 0.6756054702421881,\n",
       "  'test': 0.7163},\n",
       " 'rf': {'model': RandomForestClassifier(random_state=839),\n",
       "  'train': 0.9970333333333333,\n",
       "  'test': 0.791}}"
      ]
     },
     "execution_count": 26,
     "metadata": {},
     "output_type": "execute_result"
    }
   ],
   "source": [
    "from sklearn.ensemble import RandomForestClassifier\n",
    "\n",
    "rf = RandomForestClassifier(random_state=seed)\n",
    "rf.fit(vectorized_words3, train_labels)\n",
    "\n",
    "model_scores['rf'] = {\n",
    "    'model': clone(rf),\n",
    "    'train': rf.score(vectorized_words3, train_labels),\n",
    "    'test': rf.score(val_vectorized_words3, val_labels)\n",
    "}\n",
    "\n",
    "model_scores"
   ]
  },
  {
   "cell_type": "markdown",
   "metadata": {},
   "source": [
    "The scores we obtained with the random forest classifier are our best yet, though the model is clearly overfit to the training data.\n",
    "\n",
    "The current random forest model has trees with depth close to 140. Each tree has between 10,000 and 12,000 leaves:"
   ]
  },
  {
   "cell_type": "code",
   "execution_count": 27,
   "metadata": {},
   "outputs": [
    {
     "data": {
      "text/plain": [
       "array([  144.55, 10657.02])"
      ]
     },
     "execution_count": 27,
     "metadata": {},
     "output_type": "execute_result"
    }
   ],
   "source": [
    "# checking depth and number of leaves for each tree in \"baseline\" random forest\n",
    "np.mean([(estimator.get_depth(), estimator.get_n_leaves()) for estimator in rf.estimators_],\n",
    "       axis=0)"
   ]
  },
  {
   "cell_type": "markdown",
   "metadata": {},
   "source": [
    "Tune some parameters to encourage the model not to overfit:\n",
    "\n",
    "Increasing the number of estimators should reduce overfitting, though it also increases the complexity of the model."
   ]
  },
  {
   "cell_type": "code",
   "execution_count": 46,
   "metadata": {},
   "outputs": [],
   "source": [
    "scores=[]\n",
    "for n in [int(x) for x in np.linspace(100, 300, 5)]:\n",
    "    rf2 = RandomForestClassifier(n_estimators=n, random_state=seed)\n",
    "    rf2.fit(vectorized_words3, train_labels)\n",
    "    scores.append(rf2.score(val_vectorized_words3, val_labels))"
   ]
  },
  {
   "cell_type": "code",
   "execution_count": 38,
   "metadata": {},
   "outputs": [
    {
     "data": {
      "image/png": "[encoded data removed]",
      "text/plain": [
       "<Figure size 432x288 with 1 Axes>"
      ]
     },
     "metadata": {
      "needs_background": "light"
     },
     "output_type": "display_data"
    }
   ],
   "source": [
    "fig, ax = plt.subplots()\n",
    "\n",
    "plt.plot(np.linspace(100, 300, 5), scores)\n",
    "ax.set(title='Increasing Number of Estimators in Random Forest',\n",
    "       ylabel='Validation Accuracy',\n",
    "       xlabel='Number of Estimators');"
   ]
  },
  {
   "cell_type": "markdown",
   "metadata": {},
   "source": [
    "Increasing the number of estimators did increase the validation accuracy, but not by much."
   ]
  },
  {
   "cell_type": "code",
   "execution_count": null,
   "metadata": {},
   "outputs": [],
   "source": [
    "model_scores['rf2'] = {\n",
    "    'model': clone(rf2)),\n",
    "    'train': None,\n",
    "    'test': np.max(scores)\n",
    "}\n",
    "model_scores"
   ]
  },
  {
   "cell_type": "markdown",
   "metadata": {},
   "source": [
    "Let's try decreasing the number of features included at each split, to discourage overfitting. Currently, the model selects about 6% of the total number of features to include at each split."
   ]
  },
  {
   "cell_type": "code",
   "execution_count": 42,
   "metadata": {},
   "outputs": [
    {
     "data": {
      "text/plain": [
       "0.06178020632152155"
      ]
     },
     "execution_count": 42,
     "metadata": {},
     "output_type": "execute_result"
    }
   ],
   "source": [
    "np.sqrt(vectorized_words3.shape[1]) / vectorized_words3.shape[1]"
   ]
  },
  {
   "cell_type": "code",
   "execution_count": 44,
   "metadata": {},
   "outputs": [],
   "source": [
    "train_scores=[]\n",
    "scores=[]\n",
    "\n",
    "for n in np.linspace(0.01, 0.06, 5):\n",
    "    rf3 = RandomForestClassifier(max_features=n, random_state=seed)\n",
    "    rf3.fit(vectorized_words3, train_labels)\n",
    "    train_scores.append(rf3.score(vectorized_words3, train_labels))\n",
    "    scores.append(rf2.score(val_vectorized_words3, val_labels))"
   ]
  },
  {
   "cell_type": "code",
   "execution_count": 45,
   "metadata": {},
   "outputs": [
    {
     "data": {
      "image/png": "[encoded data removed]",
      "text/plain": [
       "<Figure size 432x288 with 1 Axes>"
      ]
     },
     "metadata": {
      "needs_background": "light"
     },
     "output_type": "display_data"
    }
   ],
   "source": [
    "fig, ax = plt.subplots()\n",
    "\n",
    "plt.plot(np.linspace(0.01, 0.06, 5), train_scores, label='train')\n",
    "plt.plot(np.linspace(0.01, 0.06, 5), scores, label='validation')\n",
    "ax.legend()\n",
    "ax.set(title='Decreasing Percentage of Features Considered at Each Split',\n",
    "       xlabel='Percentage of Features',\n",
    "       ylabel='Accuracy');"
   ]
  },
  {
   "cell_type": "markdown",
   "metadata": {},
   "source": [
    "Decreasing the percentage of features considered at each split had NO effect whatsoever on the model's train OR validation accuracy!"
   ]
  },
  {
   "cell_type": "code",
   "execution_count": null,
   "metadata": {},
   "outputs": [],
   "source": [
    "model_scores['rf3'] = {\n",
    "    'model': clone(rf3),\n",
    "    'train': train_scores[np.argmax(scores)],\n",
    "    'test': np.max(scores)\n",
    "}\n",
    "model_scores"
   ]
  },
  {
   "cell_type": "markdown",
   "metadata": {},
   "source": [
    "Try starting with a low max_depth, then increasing until best accuracy is achieved."
   ]
  },
  {
   "cell_type": "code",
   "execution_count": 49,
   "metadata": {},
   "outputs": [],
   "source": [
    "train_scores=[]\n",
    "scores=[]\n",
    "\n",
    "for n in [int(x) for x in np.linspace(5, 150, 10)]:\n",
    "    rf4 = RandomForestClassifier(max_depth=n, random_state=seed)\n",
    "    rf4.fit(vectorized_words3, train_labels)\n",
    "    train_scores.append(rf4.score(vectorized_words3, train_labels))\n",
    "    scores.append(rf4.score(val_vectorized_words3, val_labels))"
   ]
  },
  {
   "cell_type": "code",
   "execution_count": 50,
   "metadata": {},
   "outputs": [
    {
     "data": {
      "image/png": "[encoded data removed]",
      "text/plain": [
       "<Figure size 432x288 with 1 Axes>"
      ]
     },
     "metadata": {
      "needs_background": "light"
     },
     "output_type": "display_data"
    }
   ],
   "source": [
    "fig, ax = plt.subplots()\n",
    "\n",
    "plt.plot([int(x) for x in np.linspace(5, 150, 10)], train_scores, label='train')\n",
    "plt.plot([int(x) for x in np.linspace(5, 150, 10)], scores, label='test')\n",
    "ax.legend()\n",
    "ax.set(title='Checking Max Depths for Optimal Accuracy',\n",
    "       xlabel='Max Depth',\n",
    "       ylabel='Accuracy');"
   ]
  },
  {
   "cell_type": "markdown",
   "metadata": {},
   "source": [
    "The model reaches its peak validation accuracy at a maximum depth of 40, where accuracy levels off. We can reduce the model complexity without sacrificing accuracy."
   ]
  },
  {
   "cell_type": "code",
   "execution_count": 52,
   "metadata": {},
   "outputs": [
    {
     "data": {
      "text/plain": [
       "{'baseline': {'model': MultinomialNB(),\n",
       "  'train': 0.7224333333333334,\n",
       "  'test': 0.6991},\n",
       " 'min_max_df': {'model': MultinomialNB(),\n",
       "  'train': 0.7403666666666666,\n",
       "  'test': 0.73935},\n",
       " 'include_bigrams': {'model': MultinomialNB(), 'train': 0.743, 'test': 0.7445},\n",
       " 'undersampled': {'model': MultinomialNB(),\n",
       "  'train': 0.6756054702421881,\n",
       "  'test': 0.7163},\n",
       " 'rf': {'model': RandomForestClassifier(random_state=839),\n",
       "  'train': 0.9970333333333333,\n",
       "  'test': 0.791},\n",
       " 'rf4': {'model': RandomForestClassifier(max_depth=40, random_state=839),\n",
       "  'train': 0.99695,\n",
       "  'test': 0.7918}}"
      ]
     },
     "execution_count": 52,
     "metadata": {},
     "output_type": "execute_result"
    }
   ],
   "source": [
    "model_scores['rf4'] = {\n",
    "    'model': RandomForestClassifier(max_depth=40, random_state=seed),\n",
    "    'train': train_scores[np.argmax(scores)],\n",
    "    'test': np.max(scores)\n",
    "}\n",
    "model_scores"
   ]
  },
  {
   "cell_type": "markdown",
   "metadata": {},
   "source": [
    "Our model may just need more data.\n",
    "\n",
    "As a final attempt to increase the model accuracy, try increasing the minimum number of samples left in each leaf."
   ]
  },
  {
   "cell_type": "code",
   "execution_count": 53,
   "metadata": {},
   "outputs": [],
   "source": [
    "train_scores=[]\n",
    "scores=[]\n",
    "\n",
    "for n in [int(x) for x in np.linspace(10, 50, 5)]:\n",
    "    rf5 = RandomForestClassifier(min_samples_leaf=n, n_estimators=40, random_state=seed)\n",
    "    rf5.fit(vectorized_words3, train_labels)\n",
    "    train_scores.append(rf5.score(vectorized_words3, train_labels))\n",
    "    scores.append(rf5.score(val_vectorized_words3, val_labels))"
   ]
  },
  {
   "cell_type": "code",
   "execution_count": 54,
   "metadata": {},
   "outputs": [
    {
     "data": {
      "image/png": "[encoded data removed]",
      "text/plain": [
       "<Figure size 432x288 with 1 Axes>"
      ]
     },
     "metadata": {
      "needs_background": "light"
     },
     "output_type": "display_data"
    }
   ],
   "source": [
    "fig, ax = plt.subplots()\n",
    "\n",
    "plt.plot([int(x) for x in np.linspace(10, 50, 5)], train_scores, label='train')\n",
    "plt.plot([int(x) for x in np.linspace(10, 50, 5)], scores, label='test')\n",
    "ax.legend()\n",
    "ax.set(title='Checking Min Samples per Leaf for Optimal Accuracy',\n",
    "       xlabel='Min Samples Leaf',\n",
    "       ylabel='Accuracy');"
   ]
  },
  {
   "cell_type": "markdown",
   "metadata": {},
   "source": [
    "Increasing the minimum number of samples remaining in each leaf at the end of training decreased both train and validation accuracy."
   ]
  },
  {
   "cell_type": "code",
   "execution_count": 55,
   "metadata": {},
   "outputs": [],
   "source": [
    "train_scores=[]\n",
    "scores=[]\n",
    "\n",
    "for n in [int(x) for x in np.linspace(1, 10, 10)]:\n",
    "    rf6 = RandomForestClassifier(min_samples_leaf=n, n_estimators=40, random_state=seed)\n",
    "    rf6.fit(vectorized_words3, train_labels)\n",
    "    train_scores.append(rf6.score(vectorized_words3, train_labels))\n",
    "    scores.append(rf6.score(val_vectorized_words3, val_labels))"
   ]
  },
  {
   "cell_type": "code",
   "execution_count": 56,
   "metadata": {},
   "outputs": [
    {
     "data": {
      "image/png": "[encoded data removed]",
      "text/plain": [
       "<Figure size 432x288 with 1 Axes>"
      ]
     },
     "metadata": {
      "needs_background": "light"
     },
     "output_type": "display_data"
    }
   ],
   "source": [
    "fig, ax = plt.subplots()\n",
    "\n",
    "plt.plot([int(x) for x in np.linspace(1, 10, 10)], train_scores, label='train')\n",
    "plt.plot([int(x) for x in np.linspace(1, 10, 10)], scores, label='test')\n",
    "ax.legend()\n",
    "ax.set(title='Checking Min Samples per Leaf (Part 2) for Optimal Accuracy',\n",
    "       xlabel='Min Samples Leaf',\n",
    "       ylabel='Accuracy');"
   ]
  },
  {
   "cell_type": "markdown",
   "metadata": {},
   "source": [
    "The default value for min_samples_leaf turns out to be the best."
   ]
  },
  {
   "cell_type": "code",
   "execution_count": 67,
   "metadata": {},
   "outputs": [
    {
     "data": {
      "text/plain": [
       "{'baseline': {'model': MultinomialNB(),\n",
       "  'train': 0.7224333333333334,\n",
       "  'test': 0.6991},\n",
       " 'min_max_df': {'model': MultinomialNB(),\n",
       "  'train': 0.7403666666666666,\n",
       "  'test': 0.73935},\n",
       " 'include_bigrams': {'model': MultinomialNB(), 'train': 0.743, 'test': 0.7445},\n",
       " 'undersampled': {'model': MultinomialNB(),\n",
       "  'train': 0.6756054702421881,\n",
       "  'test': 0.7163},\n",
       " 'rf': {'model': RandomForestClassifier(random_state=839),\n",
       "  'train': 0.9970333333333333,\n",
       "  'test': 0.791},\n",
       " 'rf4': {'model': RandomForestClassifier(max_depth=40, random_state=839),\n",
       "  'train': 0.99695,\n",
       "  'test': 0.7918},\n",
       " 'rf6': {'model': RandomForestClassifier(max_depth=40, random_state=839),\n",
       "  'train': 0.9968666666666667,\n",
       "  'test': 0.78645}}"
      ]
     },
     "execution_count": 67,
     "metadata": {},
     "output_type": "execute_result"
    }
   ],
   "source": [
    "model_scores['rf6'] = {\n",
    "    'model': RandomForestClassifier(min_samples_leaf=1, max_depth=40, random_state=seed),\n",
    "    'train': train_scores[np.argmax(scores)],\n",
    "    'test': np.max(scores)\n",
    "}\n",
    "model_scores"
   ]
  },
  {
   "cell_type": "code",
   "execution_count": 68,
   "metadata": {},
   "outputs": [],
   "source": [
    "# takes a long time to run; investigate why\n",
    "\n",
    "# from skopt import BayesSearchCV\n",
    "\n",
    "# rf2 = RandomForestClassifier()\n",
    "# params = {'n_estimators': (50, 300),\n",
    "#           'max_features': (0.1, 1.0, 'uniform'),\n",
    "#           'max_depth': (5, 150),\n",
    "#           'min_samples_leaf': (10, 50)}\n",
    "# bayes_search = BayesSearchCV(rf2, params, n_iter=10)\n",
    "# bayes_search.fit(vectorized_words3, train_labels)"
   ]
  },
  {
   "cell_type": "markdown",
   "metadata": {},
   "source": [
    "Try balancing the class weight."
   ]
  },
  {
   "cell_type": "code",
   "execution_count": 69,
   "metadata": {},
   "outputs": [
    {
     "data": {
      "text/plain": [
       "{'baseline': {'model': MultinomialNB(),\n",
       "  'train': 0.7224333333333334,\n",
       "  'test': 0.6991},\n",
       " 'min_max_df': {'model': MultinomialNB(),\n",
       "  'train': 0.7403666666666666,\n",
       "  'test': 0.73935},\n",
       " 'include_bigrams': {'model': MultinomialNB(), 'train': 0.743, 'test': 0.7445},\n",
       " 'undersampled': {'model': MultinomialNB(),\n",
       "  'train': 0.6756054702421881,\n",
       "  'test': 0.7163},\n",
       " 'rf': {'model': RandomForestClassifier(random_state=839),\n",
       "  'train': 0.9970333333333333,\n",
       "  'test': 0.791},\n",
       " 'rf4': {'model': RandomForestClassifier(max_depth=40, random_state=839),\n",
       "  'train': 0.99695,\n",
       "  'test': 0.7918},\n",
       " 'rf6': {'model': RandomForestClassifier(max_depth=40, random_state=839),\n",
       "  'train': 0.9968666666666667,\n",
       "  'test': 0.78645},\n",
       " 'rf7': {'model': RandomForestClassifier(class_weight='balanced', max_depth=40, random_state=839),\n",
       "  'train': 0.9871666666666666,\n",
       "  'test': 0.7894}}"
      ]
     },
     "execution_count": 69,
     "metadata": {},
     "output_type": "execute_result"
    }
   ],
   "source": [
    "rf7 = RandomForestClassifier(class_weight='balanced', max_depth=40, random_state=seed)\n",
    "\n",
    "rf7.fit(vectorized_words3, train_labels)\n",
    "\n",
    "model_scores['rf7'] = {\n",
    "    'model': clone(rf7),\n",
    "    'train': rf7.score(vectorized_words3, train_labels),\n",
    "    'test': rf7.score(val_vectorized_words3, val_labels)\n",
    "}\n",
    "\n",
    "model_scores"
   ]
  },
  {
   "cell_type": "markdown",
   "metadata": {},
   "source": [
    "Balancing the class weights actually decreases the performance of the model (compared to rf4.)\n",
    "\n",
    "I doubt that we can do better with a logistic regression model, but let's fit one to see if we can deliver decent results with a simpler, less memory intensive type of model."
   ]
  },
  {
   "cell_type": "code",
   "execution_count": 70,
   "metadata": {
    "scrolled": true
   },
   "outputs": [
    {
     "name": "stderr",
     "output_type": "stream",
     "text": [
      "/Users/user/opt/anaconda3/envs/learn-env/lib/python3.8/site-packages/sklearn/linear_model/_logistic.py:762: ConvergenceWarning: lbfgs failed to converge (status=1):\n",
      "STOP: TOTAL NO. of ITERATIONS REACHED LIMIT.\n",
      "\n",
      "Increase the number of iterations (max_iter) or scale the data as shown in:\n",
      "    https://scikit-learn.org/stable/modules/preprocessing.html\n",
      "Please also refer to the documentation for alternative solver options:\n",
      "    https://scikit-learn.org/stable/modules/linear_model.html#logistic-regression\n",
      "  n_iter_i = _check_optimize_result(\n"
     ]
    },
    {
     "data": {
      "text/plain": [
       "{'baseline': {'model': MultinomialNB(),\n",
       "  'train': 0.7224333333333334,\n",
       "  'test': 0.6991},\n",
       " 'min_max_df': {'model': MultinomialNB(),\n",
       "  'train': 0.7403666666666666,\n",
       "  'test': 0.73935},\n",
       " 'include_bigrams': {'model': MultinomialNB(), 'train': 0.743, 'test': 0.7445},\n",
       " 'undersampled': {'model': MultinomialNB(),\n",
       "  'train': 0.6756054702421881,\n",
       "  'test': 0.7163},\n",
       " 'rf': {'model': RandomForestClassifier(random_state=839),\n",
       "  'train': 0.9970333333333333,\n",
       "  'test': 0.791},\n",
       " 'rf4': {'model': RandomForestClassifier(max_depth=40, random_state=839),\n",
       "  'train': 0.99695,\n",
       "  'test': 0.7918},\n",
       " 'rf6': {'model': RandomForestClassifier(max_depth=40, random_state=839),\n",
       "  'train': 0.9968666666666667,\n",
       "  'test': 0.78645},\n",
       " 'rf7': {'model': RandomForestClassifier(class_weight='balanced', max_depth=40, random_state=839),\n",
       "  'train': 0.9871666666666666,\n",
       "  'test': 0.7894},\n",
       " 'logreg': {'model': LogisticRegression(random_state=839),\n",
       "  'train': 0.7954666666666667,\n",
       "  'test': 0.7901}}"
      ]
     },
     "execution_count": 70,
     "metadata": {},
     "output_type": "execute_result"
    }
   ],
   "source": [
    "from sklearn.linear_model import LogisticRegression\n",
    "\n",
    "logreg = LogisticRegression(random_state=seed)\n",
    "logreg.fit(vectorized_words3, train_labels)\n",
    "\n",
    "model_scores['logreg'] = {\n",
    "    'model': clone(logreg),\n",
    "    'train': logreg.score(vectorized_words3, train_labels),\n",
    "    'test': logreg.score(val_vectorized_words3, val_labels)\n",
    "}\n",
    "\n",
    "model_scores"
   ]
  },
  {
   "cell_type": "markdown",
   "metadata": {},
   "source": [
    "A vanilla logistic regression performed almost as well as the best random forest so far, and it didn't even converge (nor is it overfit to the training data.)\n",
    "\n",
    "Try decreasing the regularization strength to see if this caused the failure to converge (and possibly also prevented overfitting.)"
   ]
  },
  {
   "cell_type": "code",
   "execution_count": 71,
   "metadata": {},
   "outputs": [
    {
     "name": "stderr",
     "output_type": "stream",
     "text": [
      "/Users/user/opt/anaconda3/envs/learn-env/lib/python3.8/site-packages/sklearn/linear_model/_logistic.py:762: ConvergenceWarning: lbfgs failed to converge (status=1):\n",
      "STOP: TOTAL NO. of ITERATIONS REACHED LIMIT.\n",
      "\n",
      "Increase the number of iterations (max_iter) or scale the data as shown in:\n",
      "    https://scikit-learn.org/stable/modules/preprocessing.html\n",
      "Please also refer to the documentation for alternative solver options:\n",
      "    https://scikit-learn.org/stable/modules/linear_model.html#logistic-regression\n",
      "  n_iter_i = _check_optimize_result(\n"
     ]
    },
    {
     "data": {
      "text/plain": [
       "{'baseline': {'model': MultinomialNB(),\n",
       "  'train': 0.7224333333333334,\n",
       "  'test': 0.6991},\n",
       " 'min_max_df': {'model': MultinomialNB(),\n",
       "  'train': 0.7403666666666666,\n",
       "  'test': 0.73935},\n",
       " 'include_bigrams': {'model': MultinomialNB(), 'train': 0.743, 'test': 0.7445},\n",
       " 'undersampled': {'model': MultinomialNB(),\n",
       "  'train': 0.6756054702421881,\n",
       "  'test': 0.7163},\n",
       " 'rf': {'model': RandomForestClassifier(random_state=839),\n",
       "  'train': 0.9970333333333333,\n",
       "  'test': 0.791},\n",
       " 'rf4': {'model': RandomForestClassifier(max_depth=40, random_state=839),\n",
       "  'train': 0.99695,\n",
       "  'test': 0.7918},\n",
       " 'rf6': {'model': RandomForestClassifier(max_depth=40, random_state=839),\n",
       "  'train': 0.9968666666666667,\n",
       "  'test': 0.78645},\n",
       " 'rf7': {'model': RandomForestClassifier(class_weight='balanced', max_depth=40, random_state=839),\n",
       "  'train': 0.9871666666666666,\n",
       "  'test': 0.7894},\n",
       " 'logreg': {'model': LogisticRegression(random_state=839),\n",
       "  'train': 0.7954666666666667,\n",
       "  'test': 0.7901},\n",
       " 'logreg2': {'model': LogisticRegression(C=10000, random_state=839),\n",
       "  'train': 0.7972333333333333,\n",
       "  'test': 0.78915}}"
      ]
     },
     "execution_count": 71,
     "metadata": {},
     "output_type": "execute_result"
    }
   ],
   "source": [
    "logreg2 = LogisticRegression(C=10000, random_state=seed)\n",
    "\n",
    "logreg2.fit(vectorized_words3, train_labels)\n",
    "\n",
    "model_scores['logreg2'] = {\n",
    "    'model': clone(logreg2),\n",
    "    'train': logreg2.score(vectorized_words3, train_labels),\n",
    "    'test': logreg2.score(val_vectorized_words3, val_labels)\n",
    "}\n",
    "\n",
    "model_scores"
   ]
  },
  {
   "cell_type": "markdown",
   "metadata": {},
   "source": [
    "Interestingly, increasing the regularization strength didn't fix the convergence problem.\n",
    "\n",
    "Increase the maximum number of iterations performed."
   ]
  },
  {
   "cell_type": "code",
   "execution_count": 72,
   "metadata": {},
   "outputs": [
    {
     "data": {
      "text/plain": [
       "{'baseline': {'model': MultinomialNB(),\n",
       "  'train': 0.7224333333333334,\n",
       "  'test': 0.6991},\n",
       " 'min_max_df': {'model': MultinomialNB(),\n",
       "  'train': 0.7403666666666666,\n",
       "  'test': 0.73935},\n",
       " 'include_bigrams': {'model': MultinomialNB(), 'train': 0.743, 'test': 0.7445},\n",
       " 'undersampled': {'model': MultinomialNB(),\n",
       "  'train': 0.6756054702421881,\n",
       "  'test': 0.7163},\n",
       " 'rf': {'model': RandomForestClassifier(random_state=839),\n",
       "  'train': 0.9970333333333333,\n",
       "  'test': 0.791},\n",
       " 'rf4': {'model': RandomForestClassifier(max_depth=40, random_state=839),\n",
       "  'train': 0.99695,\n",
       "  'test': 0.7918},\n",
       " 'rf6': {'model': RandomForestClassifier(max_depth=40, random_state=839),\n",
       "  'train': 0.9968666666666667,\n",
       "  'test': 0.78645},\n",
       " 'rf7': {'model': RandomForestClassifier(class_weight='balanced', max_depth=40, random_state=839),\n",
       "  'train': 0.9871666666666666,\n",
       "  'test': 0.7894},\n",
       " 'logreg': {'model': LogisticRegression(random_state=839),\n",
       "  'train': 0.7954666666666667,\n",
       "  'test': 0.7901},\n",
       " 'logreg2': {'model': LogisticRegression(C=10000, random_state=839),\n",
       "  'train': 0.7972333333333333,\n",
       "  'test': 0.78915},\n",
       " 'logreg3': {'model': LogisticRegression(max_iter=10000, random_state=839),\n",
       "  'train': 0.7954666666666667,\n",
       "  'test': 0.7902}}"
      ]
     },
     "execution_count": 72,
     "metadata": {},
     "output_type": "execute_result"
    }
   ],
   "source": [
    "logreg3 = LogisticRegression(max_iter=10000, random_state=seed)\n",
    "\n",
    "logreg3.fit(vectorized_words3, train_labels)\n",
    "\n",
    "model_scores['logreg3'] = {\n",
    "    'model': clone(logreg3),\n",
    "    'train': logreg3.score(vectorized_words3, train_labels),\n",
    "    'test': logreg3.score(val_vectorized_words3, val_labels)\n",
    "}\n",
    "\n",
    "model_scores"
   ]
  },
  {
   "cell_type": "markdown",
   "metadata": {},
   "source": [
    "Increasing the number of iterations fixes the lack of convergence problem, and it technically improves performance on the test set, but not by much.\n",
    "\n",
    "The model is not particularly overfit. Try decreasing regularization to see if the model is underfit."
   ]
  },
  {
   "cell_type": "code",
   "execution_count": 74,
   "metadata": {},
   "outputs": [],
   "source": [
    "from sklearn.model_selection import GridSearchCV"
   ]
  },
  {
   "cell_type": "code",
   "execution_count": 75,
   "metadata": {},
   "outputs": [
    {
     "data": {
      "text/plain": [
       "{'baseline': {'model': MultinomialNB(),\n",
       "  'train': 0.7224333333333334,\n",
       "  'test': 0.6991},\n",
       " 'min_max_df': {'model': MultinomialNB(),\n",
       "  'train': 0.7403666666666666,\n",
       "  'test': 0.73935},\n",
       " 'include_bigrams': {'model': MultinomialNB(), 'train': 0.743, 'test': 0.7445},\n",
       " 'undersampled': {'model': MultinomialNB(),\n",
       "  'train': 0.6756054702421881,\n",
       "  'test': 0.7163},\n",
       " 'rf': {'model': RandomForestClassifier(random_state=839),\n",
       "  'train': 0.9970333333333333,\n",
       "  'test': 0.791},\n",
       " 'rf4': {'model': RandomForestClassifier(max_depth=40, random_state=839),\n",
       "  'train': 0.99695,\n",
       "  'test': 0.7918},\n",
       " 'rf6': {'model': RandomForestClassifier(max_depth=40, random_state=839),\n",
       "  'train': 0.9968666666666667,\n",
       "  'test': 0.78645},\n",
       " 'rf7': {'model': RandomForestClassifier(class_weight='balanced', max_depth=40, random_state=839),\n",
       "  'train': 0.9871666666666666,\n",
       "  'test': 0.7894},\n",
       " 'logreg': {'model': LogisticRegression(random_state=839),\n",
       "  'train': 0.7954666666666667,\n",
       "  'test': 0.7901},\n",
       " 'logreg2': {'model': LogisticRegression(C=10000, random_state=839),\n",
       "  'train': 0.7972333333333333,\n",
       "  'test': 0.78915},\n",
       " 'logreg3': {'model': LogisticRegression(max_iter=10000, random_state=839),\n",
       "  'train': 0.7954666666666667,\n",
       "  'test': 0.7902},\n",
       " 'logreg_grid_search1': {'model': LogisticRegression(C=1, max_iter=10000, random_state=839),\n",
       "  'train': 0.7967166666666666,\n",
       "  'test': 0.7850833333333334}}"
      ]
     },
     "execution_count": 75,
     "metadata": {},
     "output_type": "execute_result"
    }
   ],
   "source": [
    "grid = {'C': [1, 10, 100],\n",
    "        'max_iter': [10000],\n",
    "        'random_state': [seed]}\n",
    "\n",
    "logreg4 = LogisticRegression()\n",
    "grid_search = GridSearchCV(logreg4, grid, scoring='accuracy', return_train_score=True, cv=2)\n",
    "grid_search.fit(vectorized_words3, train_labels)\n",
    "\n",
    "model_scores['logreg_grid_search1'] = {\n",
    "    'model': clone(grid_search.best_estimator_),\n",
    "    'train': grid_search.cv_results_['mean_train_score'][grid_search.best_index_],\n",
    "    'test': grid_search.best_score_\n",
    "}\n",
    "\n",
    "model_scores"
   ]
  },
  {
   "cell_type": "markdown",
   "metadata": {},
   "source": [
    "Decreasing regularization strength caused our model to underfit somehow.\n",
    "\n",
    "Visualize the best model's performance so far."
   ]
  },
  {
   "cell_type": "code",
   "execution_count": 81,
   "metadata": {},
   "outputs": [
    {
     "data": {
      "image/png": "[encoded data removed]",
      "text/plain": [
       "<Figure size 864x576 with 2 Axes>"
      ]
     },
     "metadata": {
      "needs_background": "light"
     },
     "output_type": "display_data"
    }
   ],
   "source": [
    "fig, ax = plt.subplots(figsize=(12, 8))\n",
    "\n",
    "ConfusionMatrixDisplay(confusion_matrix(val_labels,\n",
    "                                        rf4.predict(\n",
    "                                            val_vectorized_words3),\n",
    "                                        normalize='true')).plot(ax=ax);"
   ]
  },
  {
   "cell_type": "code",
   "execution_count": 85,
   "metadata": {},
   "outputs": [
    {
     "name": "stdout",
     "output_type": "stream",
     "text": [
      "The model struggles to classifying the following types of complaints:\n",
      "\n",
      "Money transfer, virtual currency, or money service\n",
      "Other financial service\n",
      "Payday loan, title loan, or personal loan\n",
      "Vehicle loan or lease\n"
     ]
    },
    {
     "data": {
      "text/plain": [
       "[None, None, None, None]"
      ]
     },
     "execution_count": 85,
     "metadata": {},
     "output_type": "execute_result"
    }
   ],
   "source": [
    "print('The model struggles to classifying the following types of complaints:\\n')\n",
    "[print(le.classes_[i]) for i in [5, 7, 8, 10]]"
   ]
  },
  {
   "cell_type": "markdown",
   "metadata": {},
   "source": [
    "I'm OK with the model struggling with \"Other financial service\".\n",
    "\n",
    "Money transfer, virtual currency or money service is mis-classified as Bank account or service 50% of the time."
   ]
  },
  {
   "cell_type": "markdown",
   "metadata": {},
   "source": [
    "Try performing PCA before fitting the model."
   ]
  },
  {
   "cell_type": "code",
   "execution_count": 79,
   "metadata": {},
   "outputs": [],
   "source": [
    "from sklearn.decomposition import PCA"
   ]
  },
  {
   "cell_type": "code",
   "execution_count": 77,
   "metadata": {},
   "outputs": [],
   "source": [
    "best_model_so_far = clone(rf4)"
   ]
  },
  {
   "cell_type": "code",
   "execution_count": 78,
   "metadata": {},
   "outputs": [
    {
     "data": {
      "text/plain": [
       "(60000, 262)"
      ]
     },
     "execution_count": 78,
     "metadata": {},
     "output_type": "execute_result"
    }
   ],
   "source": [
    "vectorized_words3.shape"
   ]
  },
  {
   "cell_type": "code",
   "execution_count": 80,
   "metadata": {},
   "outputs": [],
   "source": [
    "pca = PCA(n_components=131, random_state=seed) # keep half of original number of components\n",
    "train_transformed = pca.fit_transform(vectorized_words3)\n",
    "best_model_so_far.fit(train_transformed, train_labels)\n",
    "model_scores['pca_131'] = {\n",
    "    'model': clone(best_model_so_far),\n",
    "    'train': best_model_so_far.score(train_transformed, train_labels),\n",
    "    'test': best_model_so_far.score(pca.transform(val_vectorized_words3), val_labels)\n",
    "}\n",
    "model_scores"
   ]
  },
  {
   "cell_type": "code",
   "execution_count": 88,
   "metadata": {},
   "outputs": [
    {
     "data": {
      "text/plain": [
       "{'baseline': {'model': MultinomialNB(),\n",
       "  'train': 0.7224333333333334,\n",
       "  'test': 0.6991},\n",
       " 'min_max_df': {'model': MultinomialNB(),\n",
       "  'train': 0.7403666666666666,\n",
       "  'test': 0.73935},\n",
       " 'include_bigrams': {'model': MultinomialNB(), 'train': 0.743, 'test': 0.7445},\n",
       " 'undersampled': {'model': MultinomialNB(),\n",
       "  'train': 0.6756054702421881,\n",
       "  'test': 0.7163},\n",
       " 'rf': {'model': RandomForestClassifier(random_state=839),\n",
       "  'train': 0.9970333333333333,\n",
       "  'test': 0.791},\n",
       " 'rf4': {'model': RandomForestClassifier(max_depth=40, random_state=839),\n",
       "  'train': 0.99695,\n",
       "  'test': 0.7918},\n",
       " 'rf6': {'model': RandomForestClassifier(max_depth=40, random_state=839),\n",
       "  'train': 0.9968666666666667,\n",
       "  'test': 0.78645},\n",
       " 'rf7': {'model': RandomForestClassifier(class_weight='balanced', max_depth=40, random_state=839),\n",
       "  'train': 0.9871666666666666,\n",
       "  'test': 0.7894},\n",
       " 'logreg': {'model': LogisticRegression(random_state=839),\n",
       "  'train': 0.7954666666666667,\n",
       "  'test': 0.7901},\n",
       " 'logreg2': {'model': LogisticRegression(C=10000, random_state=839),\n",
       "  'train': 0.7972333333333333,\n",
       "  'test': 0.78915},\n",
       " 'logreg3': {'model': LogisticRegression(max_iter=10000, random_state=839),\n",
       "  'train': 0.7954666666666667,\n",
       "  'test': 0.7902},\n",
       " 'logreg_grid_search1': {'model': LogisticRegression(C=1, max_iter=10000, random_state=839),\n",
       "  'train': 0.7967166666666666,\n",
       "  'test': 0.7850833333333334},\n",
       " 'pca_131': {'model': RandomForestClassifier(max_depth=150, random_state=839),\n",
       "  'train': 0.9970333333333333,\n",
       "  'test': 0.77065}}"
      ]
     },
     "execution_count": 88,
     "metadata": {},
     "output_type": "execute_result"
    }
   ],
   "source": [
    "model_scores"
   ]
  },
  {
   "cell_type": "markdown",
   "metadata": {},
   "source": [
    "Keeping only half of the number of original components didn't perform very well.\n",
    "\n",
    "Try keeping additional components."
   ]
  },
  {
   "cell_type": "code",
   "execution_count": 91,
   "metadata": {},
   "outputs": [],
   "source": [
    "train_scores=[]\n",
    "scores=[]\n",
    "\n",
    "for n in [int(x) for x in np.linspace(131, 262, 5)]:\n",
    "    pca2 = PCA(n_components=n, random_state=seed)\n",
    "    train_transformed2 = pca2.fit_transform(vectorized_words3)\n",
    "    best_model_so_far.fit(train_transformed2, train_labels)\n",
    "    train_scores.append(best_model_so_far.score(train_transformed2, train_labels))\n",
    "    scores.append(best_model_so_far.score(pca2.transform(val_vectorized_words3), val_labels))"
   ]
  },
  {
   "cell_type": "code",
   "execution_count": 92,
   "metadata": {},
   "outputs": [
    {
     "data": {
      "image/png": "[encoded data removed]",
      "text/plain": [
       "<Figure size 432x288 with 1 Axes>"
      ]
     },
     "metadata": {
      "needs_background": "light"
     },
     "output_type": "display_data"
    }
   ],
   "source": [
    "fig, ax = plt.subplots()\n",
    "\n",
    "plt.plot([int(x) for x in np.linspace(131, 262, 5)], train_scores, label='train')\n",
    "plt.plot([int(x) for x in np.linspace(131, 262, 5)], scores, label='val')\n",
    "ax.legend()\n",
    "ax.set(title='Different Numbers of Components for PCA',\n",
    "       xlabel='Number of Components',\n",
    "       ylabel='Accuracy');"
   ]
  },
  {
   "cell_type": "code",
   "execution_count": 93,
   "metadata": {},
   "outputs": [
    {
     "data": {
      "text/plain": [
       "{'baseline': {'model': MultinomialNB(),\n",
       "  'train': 0.7224333333333334,\n",
       "  'test': 0.6991},\n",
       " 'min_max_df': {'model': MultinomialNB(),\n",
       "  'train': 0.7403666666666666,\n",
       "  'test': 0.73935},\n",
       " 'include_bigrams': {'model': MultinomialNB(), 'train': 0.743, 'test': 0.7445},\n",
       " 'undersampled': {'model': MultinomialNB(),\n",
       "  'train': 0.6756054702421881,\n",
       "  'test': 0.7163},\n",
       " 'rf': {'model': RandomForestClassifier(random_state=839),\n",
       "  'train': 0.9970333333333333,\n",
       "  'test': 0.791},\n",
       " 'rf4': {'model': RandomForestClassifier(max_depth=40, random_state=839),\n",
       "  'train': 0.99695,\n",
       "  'test': 0.7918},\n",
       " 'rf6': {'model': RandomForestClassifier(max_depth=40, random_state=839),\n",
       "  'train': 0.9968666666666667,\n",
       "  'test': 0.78645},\n",
       " 'rf7': {'model': RandomForestClassifier(class_weight='balanced', max_depth=40, random_state=839),\n",
       "  'train': 0.9871666666666666,\n",
       "  'test': 0.7894},\n",
       " 'logreg': {'model': LogisticRegression(random_state=839),\n",
       "  'train': 0.7954666666666667,\n",
       "  'test': 0.7901},\n",
       " 'logreg2': {'model': LogisticRegression(C=10000, random_state=839),\n",
       "  'train': 0.7972333333333333,\n",
       "  'test': 0.78915},\n",
       " 'logreg3': {'model': LogisticRegression(max_iter=10000, random_state=839),\n",
       "  'train': 0.7954666666666667,\n",
       "  'test': 0.7902},\n",
       " 'logreg_grid_search1': {'model': LogisticRegression(C=1, max_iter=10000, random_state=839),\n",
       "  'train': 0.7967166666666666,\n",
       "  'test': 0.7850833333333334},\n",
       " 'pca_131': {'model': RandomForestClassifier(max_depth=150, random_state=839),\n",
       "  'train': 0.9970333333333333,\n",
       "  'test': 0.77065},\n",
       " 'pca2': {'model': RandomForestClassifier(max_depth=150, random_state=839),\n",
       "  'train': 0.9970333333333333,\n",
       "  'test': 0.7707}}"
      ]
     },
     "execution_count": 93,
     "metadata": {},
     "output_type": "execute_result"
    }
   ],
   "source": [
    "model_scores['pca2'] = {\n",
    "    'model': clone(best_model_so_far),\n",
    "    'train': train_scores[np.argmax(scores)],\n",
    "    'test': np.max(scores)\n",
    "}\n",
    "\n",
    "model_scores"
   ]
  },
  {
   "cell_type": "markdown",
   "metadata": {},
   "source": [
    "First, find the best model so far:"
   ]
  },
  {
   "cell_type": "code",
   "execution_count": 94,
   "metadata": {},
   "outputs": [],
   "source": [
    "results = pd.DataFrame({'model': list(model_scores.keys()),\n",
    "                        'train': [model['train'] for model in list(model_scores.values())],\n",
    "                        'test': [model['test'] for model in list(model_scores.values())]}\n",
    "            )"
   ]
  },
  {
   "cell_type": "code",
   "execution_count": 95,
   "metadata": {},
   "outputs": [
    {
     "data": {
      "text/html": [
       "<div>\n",
       "<style scoped>\n",
       "    .dataframe tbody tr th:only-of-type {\n",
       "        vertical-align: middle;\n",
       "    }\n",
       "\n",
       "    .dataframe tbody tr th {\n",
       "        vertical-align: top;\n",
       "    }\n",
       "\n",
       "    .dataframe thead th {\n",
       "        text-align: right;\n",
       "    }\n",
       "</style>\n",
       "<table border=\"1\" class=\"dataframe\">\n",
       "  <thead>\n",
       "    <tr style=\"text-align: right;\">\n",
       "      <th></th>\n",
       "      <th>model</th>\n",
       "      <th>train</th>\n",
       "      <th>test</th>\n",
       "    </tr>\n",
       "  </thead>\n",
       "  <tbody>\n",
       "    <tr>\n",
       "      <th>5</th>\n",
       "      <td>rf4</td>\n",
       "      <td>0.99695</td>\n",
       "      <td>0.7918</td>\n",
       "    </tr>\n",
       "  </tbody>\n",
       "</table>\n",
       "</div>"
      ],
      "text/plain": [
       "  model    train    test\n",
       "5   rf4  0.99695  0.7918"
      ]
     },
     "execution_count": 95,
     "metadata": {},
     "output_type": "execute_result"
    }
   ],
   "source": [
    "results.loc[results.test == results.test.max()]"
   ]
  },
  {
   "cell_type": "code",
   "execution_count": 97,
   "metadata": {},
   "outputs": [],
   "source": [
    "best_model_so_far = model_scores['rf4']['model']"
   ]
  },
  {
   "cell_type": "code",
   "execution_count": 101,
   "metadata": {},
   "outputs": [
    {
     "data": {
      "text/plain": [
       "RandomForestClassifier(max_depth=40, random_state=839)"
      ]
     },
     "execution_count": 101,
     "metadata": {},
     "output_type": "execute_result"
    }
   ],
   "source": [
    "best_model_so_far"
   ]
  },
  {
   "cell_type": "code",
   "execution_count": 103,
   "metadata": {},
   "outputs": [
    {
     "data": {
      "text/plain": [
       "0.9970333333333333"
      ]
     },
     "execution_count": 103,
     "metadata": {},
     "output_type": "execute_result"
    }
   ],
   "source": [
    "big_rf = RandomForestClassifier(n_estimators=300, random_state=seed)\n",
    "big_rf.fit(vectorized_words3, train_labels)\n",
    "big_rf.score(vectorized_words3, train_labels)"
   ]
  },
  {
   "cell_type": "code",
   "execution_count": 104,
   "metadata": {
    "scrolled": true
   },
   "outputs": [
    {
     "data": {
      "text/plain": [
       "0.7935"
      ]
     },
     "execution_count": 104,
     "metadata": {},
     "output_type": "execute_result"
    }
   ],
   "source": [
    "big_rf.score(val_vectorized_words3, val_labels)"
   ]
  },
  {
   "cell_type": "code",
   "execution_count": 107,
   "metadata": {},
   "outputs": [
    {
     "data": {
      "text/plain": [
       "{'baseline': {'model': MultinomialNB(),\n",
       "  'train': 0.7224333333333334,\n",
       "  'test': 0.6991},\n",
       " 'min_max_df': {'model': MultinomialNB(),\n",
       "  'train': 0.7403666666666666,\n",
       "  'test': 0.73935},\n",
       " 'include_bigrams': {'model': MultinomialNB(), 'train': 0.743, 'test': 0.7445},\n",
       " 'undersampled': {'model': MultinomialNB(),\n",
       "  'train': 0.6756054702421881,\n",
       "  'test': 0.7163},\n",
       " 'rf': {'model': RandomForestClassifier(random_state=839),\n",
       "  'train': 0.9970333333333333,\n",
       "  'test': 0.791},\n",
       " 'rf4': {'model': RandomForestClassifier(max_depth=40, random_state=839),\n",
       "  'train': 0.99695,\n",
       "  'test': 0.7918},\n",
       " 'rf6': {'model': RandomForestClassifier(max_depth=40, random_state=839),\n",
       "  'train': 0.9968666666666667,\n",
       "  'test': 0.78645},\n",
       " 'rf7': {'model': RandomForestClassifier(class_weight='balanced', max_depth=40, random_state=839),\n",
       "  'train': 0.9871666666666666,\n",
       "  'test': 0.7894},\n",
       " 'logreg': {'model': LogisticRegression(random_state=839),\n",
       "  'train': 0.7954666666666667,\n",
       "  'test': 0.7901},\n",
       " 'logreg2': {'model': LogisticRegression(C=10000, random_state=839),\n",
       "  'train': 0.7972333333333333,\n",
       "  'test': 0.78915},\n",
       " 'logreg3': {'model': LogisticRegression(max_iter=10000, random_state=839),\n",
       "  'train': 0.7954666666666667,\n",
       "  'test': 0.7902},\n",
       " 'logreg_grid_search1': {'model': LogisticRegression(C=1, max_iter=10000, random_state=839),\n",
       "  'train': 0.7967166666666666,\n",
       "  'test': 0.7850833333333334},\n",
       " 'pca_131': {'model': RandomForestClassifier(max_depth=150, random_state=839),\n",
       "  'train': 0.9970333333333333,\n",
       "  'test': 0.77065},\n",
       " 'pca2': {'model': RandomForestClassifier(max_depth=150, random_state=839),\n",
       "  'train': 0.9970333333333333,\n",
       "  'test': 0.7707},\n",
       " 'big_rf': {'model': RandomForestClassifier(n_estimators=300, random_state=839),\n",
       "  'train': 0.9970333333333333,\n",
       "  'test': 0.7935}}"
      ]
     },
     "execution_count": 107,
     "metadata": {},
     "output_type": "execute_result"
    }
   ],
   "source": [
    "model_scores['big_rf'] = {\n",
    "    'model': clone(big_rf),\n",
    "    'train': big_rf.score(vectorized_words3, train_labels),\n",
    "    'test': big_rf.score(val_vectorized_words3, val_labels),\n",
    "}\n",
    "model_scores"
   ]
  },
  {
   "cell_type": "code",
   "execution_count": 109,
   "metadata": {},
   "outputs": [
    {
     "data": {
      "text/html": [
       "<div>\n",
       "<style scoped>\n",
       "    .dataframe tbody tr th:only-of-type {\n",
       "        vertical-align: middle;\n",
       "    }\n",
       "\n",
       "    .dataframe tbody tr th {\n",
       "        vertical-align: top;\n",
       "    }\n",
       "\n",
       "    .dataframe thead th {\n",
       "        text-align: right;\n",
       "    }\n",
       "</style>\n",
       "<table border=\"1\" class=\"dataframe\">\n",
       "  <thead>\n",
       "    <tr style=\"text-align: right;\">\n",
       "      <th></th>\n",
       "      <th>model</th>\n",
       "      <th>train</th>\n",
       "      <th>test</th>\n",
       "    </tr>\n",
       "  </thead>\n",
       "  <tbody>\n",
       "    <tr>\n",
       "      <th>0</th>\n",
       "      <td>baseline</td>\n",
       "      <td>0.722433</td>\n",
       "      <td>0.699100</td>\n",
       "    </tr>\n",
       "    <tr>\n",
       "      <th>1</th>\n",
       "      <td>min_max_df</td>\n",
       "      <td>0.740367</td>\n",
       "      <td>0.739350</td>\n",
       "    </tr>\n",
       "    <tr>\n",
       "      <th>2</th>\n",
       "      <td>include_bigrams</td>\n",
       "      <td>0.743000</td>\n",
       "      <td>0.744500</td>\n",
       "    </tr>\n",
       "    <tr>\n",
       "      <th>3</th>\n",
       "      <td>undersampled</td>\n",
       "      <td>0.675605</td>\n",
       "      <td>0.716300</td>\n",
       "    </tr>\n",
       "    <tr>\n",
       "      <th>4</th>\n",
       "      <td>rf</td>\n",
       "      <td>0.997033</td>\n",
       "      <td>0.791000</td>\n",
       "    </tr>\n",
       "    <tr>\n",
       "      <th>5</th>\n",
       "      <td>rf4</td>\n",
       "      <td>0.996950</td>\n",
       "      <td>0.791800</td>\n",
       "    </tr>\n",
       "    <tr>\n",
       "      <th>6</th>\n",
       "      <td>rf6</td>\n",
       "      <td>0.996867</td>\n",
       "      <td>0.786450</td>\n",
       "    </tr>\n",
       "    <tr>\n",
       "      <th>7</th>\n",
       "      <td>rf7</td>\n",
       "      <td>0.987167</td>\n",
       "      <td>0.789400</td>\n",
       "    </tr>\n",
       "    <tr>\n",
       "      <th>8</th>\n",
       "      <td>logreg</td>\n",
       "      <td>0.795467</td>\n",
       "      <td>0.790100</td>\n",
       "    </tr>\n",
       "    <tr>\n",
       "      <th>9</th>\n",
       "      <td>logreg2</td>\n",
       "      <td>0.797233</td>\n",
       "      <td>0.789150</td>\n",
       "    </tr>\n",
       "    <tr>\n",
       "      <th>10</th>\n",
       "      <td>logreg3</td>\n",
       "      <td>0.795467</td>\n",
       "      <td>0.790200</td>\n",
       "    </tr>\n",
       "    <tr>\n",
       "      <th>11</th>\n",
       "      <td>logreg_grid_search1</td>\n",
       "      <td>0.796717</td>\n",
       "      <td>0.785083</td>\n",
       "    </tr>\n",
       "    <tr>\n",
       "      <th>12</th>\n",
       "      <td>pca_131</td>\n",
       "      <td>0.997033</td>\n",
       "      <td>0.770650</td>\n",
       "    </tr>\n",
       "    <tr>\n",
       "      <th>13</th>\n",
       "      <td>pca2</td>\n",
       "      <td>0.997033</td>\n",
       "      <td>0.770700</td>\n",
       "    </tr>\n",
       "    <tr>\n",
       "      <th>14</th>\n",
       "      <td>big_rf</td>\n",
       "      <td>0.997033</td>\n",
       "      <td>0.793500</td>\n",
       "    </tr>\n",
       "  </tbody>\n",
       "</table>\n",
       "</div>"
      ],
      "text/plain": [
       "                  model     train      test\n",
       "0              baseline  0.722433  0.699100\n",
       "1            min_max_df  0.740367  0.739350\n",
       "2       include_bigrams  0.743000  0.744500\n",
       "3          undersampled  0.675605  0.716300\n",
       "4                    rf  0.997033  0.791000\n",
       "5                   rf4  0.996950  0.791800\n",
       "6                   rf6  0.996867  0.786450\n",
       "7                   rf7  0.987167  0.789400\n",
       "8                logreg  0.795467  0.790100\n",
       "9               logreg2  0.797233  0.789150\n",
       "10              logreg3  0.795467  0.790200\n",
       "11  logreg_grid_search1  0.796717  0.785083\n",
       "12              pca_131  0.997033  0.770650\n",
       "13                 pca2  0.997033  0.770700\n",
       "14               big_rf  0.997033  0.793500"
      ]
     },
     "execution_count": 109,
     "metadata": {},
     "output_type": "execute_result"
    }
   ],
   "source": [
    "results = pd.DataFrame({'model': list(model_scores.keys()),\n",
    "                        'train': [model['train'] for model in list(model_scores.values())],\n",
    "                        'test': [model['test'] for model in list(model_scores.values())]}\n",
    "            )\n",
    "\n",
    "results"
   ]
  },
  {
   "cell_type": "markdown",
   "metadata": {},
   "source": [
    "## Conclusion"
   ]
  },
  {
   "cell_type": "markdown",
   "metadata": {},
   "source": [
    "Our best model so far is a random forest with 300 estimators, achieving an accuracy of 79.35% on the validation data. (A random forest with 100 estimators has a similar accuracy - a quarter of a percentage point less - so this solution could be used if time to train / model complexity is an issue.)"
   ]
  },
  {
   "cell_type": "code",
   "execution_count": 131,
   "metadata": {},
   "outputs": [],
   "source": [
    "best_model = model_scores['big_rf']['model']"
   ]
  },
  {
   "cell_type": "markdown",
   "metadata": {},
   "source": [
    "Confirm model performance on the test set:"
   ]
  },
  {
   "cell_type": "code",
   "execution_count": 124,
   "metadata": {
    "scrolled": true
   },
   "outputs": [
    {
     "data": {
      "text/html": [
       "<div>\n",
       "<style scoped>\n",
       "    .dataframe tbody tr th:only-of-type {\n",
       "        vertical-align: middle;\n",
       "    }\n",
       "\n",
       "    .dataframe tbody tr th {\n",
       "        vertical-align: top;\n",
       "    }\n",
       "\n",
       "    .dataframe thead th {\n",
       "        text-align: right;\n",
       "    }\n",
       "</style>\n",
       "<table border=\"1\" class=\"dataframe\">\n",
       "  <thead>\n",
       "    <tr style=\"text-align: right;\">\n",
       "      <th></th>\n",
       "      <th>Complaint</th>\n",
       "      <th>Company</th>\n",
       "      <th>tokens</th>\n",
       "      <th>clean_tokens</th>\n",
       "      <th>lemmas</th>\n",
       "    </tr>\n",
       "  </thead>\n",
       "  <tbody>\n",
       "    <tr>\n",
       "      <th>2766785</th>\n",
       "      <td>Hello I've recently in XX/XX/XXXX attempted to...</td>\n",
       "      <td>Experian Information Solutions Inc.</td>\n",
       "      <td>['hello', \"'ve\", 'recently', 'xx/xx/xxxx', 'at...</td>\n",
       "      <td>['hello', \"'ve\", 'recently', 'attempted', 'dis...</td>\n",
       "      <td>['hello', \"'ve\", 'recently', 'attempt', 'dispu...</td>\n",
       "    </tr>\n",
       "    <tr>\n",
       "      <th>2173377</th>\n",
       "      <td>XXXX XXXX XXXX XXXX XXXX XXXX XXXX XXXX, FL XX...</td>\n",
       "      <td>Fidelity National Information Services, Inc. (...</td>\n",
       "      <td>['xxxx', 'xxxx', 'xxxx', 'xxxx', 'xxxx', 'xxxx...</td>\n",
       "      <td>['fl', 'consumer', 'id', 'brought', 'attention...</td>\n",
       "      <td>['fl', 'consumer', 'id', 'bring', 'attention',...</td>\n",
       "    </tr>\n",
       "    <tr>\n",
       "      <th>1967270</th>\n",
       "      <td>Its worth XXXX XXXX XXXX I called them they sa...</td>\n",
       "      <td>Professional Finance Company, Inc.</td>\n",
       "      <td>['worth', 'xxxx', 'xxxx', 'xxxx', 'called', 's...</td>\n",
       "      <td>['worth', 'called', 'said', 'dont', 'account',...</td>\n",
       "      <td>['worth', 'call', 'say', 'dont', 'account', 'n...</td>\n",
       "    </tr>\n",
       "    <tr>\n",
       "      <th>570871</th>\n",
       "      <td>Greetings I have been patient with the credit ...</td>\n",
       "      <td>TRANSUNION INTERMEDIATE HOLDINGS, INC.</td>\n",
       "      <td>['greetings', 'patient', 'credit', 'bureaus', ...</td>\n",
       "      <td>['greetings', 'patient', 'credit', 'bureaus', ...</td>\n",
       "      <td>['greeting', 'patient', 'credit', 'bureau', 'y...</td>\n",
       "    </tr>\n",
       "    <tr>\n",
       "      <th>2807234</th>\n",
       "      <td>XXXX XXXX is making multiple false report to m...</td>\n",
       "      <td>EQUIFAX, INC.</td>\n",
       "      <td>['xxxx', 'xxxx', 'making', 'multiple', 'false'...</td>\n",
       "      <td>['making', 'multiple', 'false', 'report', 'cre...</td>\n",
       "      <td>['make', 'multiple', 'false', 'report', 'credi...</td>\n",
       "    </tr>\n",
       "  </tbody>\n",
       "</table>\n",
       "</div>"
      ],
      "text/plain": [
       "                                                 Complaint  \\\n",
       "2766785  Hello I've recently in XX/XX/XXXX attempted to...   \n",
       "2173377  XXXX XXXX XXXX XXXX XXXX XXXX XXXX XXXX, FL XX...   \n",
       "1967270  Its worth XXXX XXXX XXXX I called them they sa...   \n",
       "570871   Greetings I have been patient with the credit ...   \n",
       "2807234  XXXX XXXX is making multiple false report to m...   \n",
       "\n",
       "                                                   Company  \\\n",
       "2766785                Experian Information Solutions Inc.   \n",
       "2173377  Fidelity National Information Services, Inc. (...   \n",
       "1967270                 Professional Finance Company, Inc.   \n",
       "570871              TRANSUNION INTERMEDIATE HOLDINGS, INC.   \n",
       "2807234                                      EQUIFAX, INC.   \n",
       "\n",
       "                                                    tokens  \\\n",
       "2766785  ['hello', \"'ve\", 'recently', 'xx/xx/xxxx', 'at...   \n",
       "2173377  ['xxxx', 'xxxx', 'xxxx', 'xxxx', 'xxxx', 'xxxx...   \n",
       "1967270  ['worth', 'xxxx', 'xxxx', 'xxxx', 'called', 's...   \n",
       "570871   ['greetings', 'patient', 'credit', 'bureaus', ...   \n",
       "2807234  ['xxxx', 'xxxx', 'making', 'multiple', 'false'...   \n",
       "\n",
       "                                              clean_tokens  \\\n",
       "2766785  ['hello', \"'ve\", 'recently', 'attempted', 'dis...   \n",
       "2173377  ['fl', 'consumer', 'id', 'brought', 'attention...   \n",
       "1967270  ['worth', 'called', 'said', 'dont', 'account',...   \n",
       "570871   ['greetings', 'patient', 'credit', 'bureaus', ...   \n",
       "2807234  ['making', 'multiple', 'false', 'report', 'cre...   \n",
       "\n",
       "                                                    lemmas  \n",
       "2766785  ['hello', \"'ve\", 'recently', 'attempt', 'dispu...  \n",
       "2173377  ['fl', 'consumer', 'id', 'bring', 'attention',...  \n",
       "1967270  ['worth', 'call', 'say', 'dont', 'account', 'n...  \n",
       "570871   ['greeting', 'patient', 'credit', 'bureau', 'y...  \n",
       "2807234  ['make', 'multiple', 'false', 'report', 'credi...  "
      ]
     },
     "execution_count": 124,
     "metadata": {},
     "output_type": "execute_result"
    }
   ],
   "source": [
    "# load test data\n",
    "X_test = pd.read_csv('data/train-test-split/test')\n",
    "X_test.set_index('Unnamed: 0', inplace=True)\n",
    "X_test.index.name = None\n",
    "X_test.head()"
   ]
  },
  {
   "cell_type": "code",
   "execution_count": 153,
   "metadata": {},
   "outputs": [],
   "source": [
    "y_test = pd.read_csv('data/train-test-split/ytest')\n",
    "y_test.set_index('Unnamed: 0', inplace=True)\n",
    "y_test.index.name=None"
   ]
  },
  {
   "cell_type": "code",
   "execution_count": 141,
   "metadata": {},
   "outputs": [],
   "source": [
    "full_X_train = pd.concat([X_train, X_val], axis=0)\n",
    "full_y_train = pd.concat([y_train, y_val], axis=0)\n",
    "full_train_labels = le.fit_transform(full_y_train)"
   ]
  },
  {
   "cell_type": "code",
   "execution_count": 151,
   "metadata": {
    "scrolled": true
   },
   "outputs": [
    {
     "data": {
      "text/html": [
       "<div>\n",
       "<style scoped>\n",
       "    .dataframe tbody tr th:only-of-type {\n",
       "        vertical-align: middle;\n",
       "    }\n",
       "\n",
       "    .dataframe tbody tr th {\n",
       "        vertical-align: top;\n",
       "    }\n",
       "\n",
       "    .dataframe thead th {\n",
       "        text-align: right;\n",
       "    }\n",
       "</style>\n",
       "<table border=\"1\" class=\"dataframe\">\n",
       "  <thead>\n",
       "    <tr style=\"text-align: right;\">\n",
       "      <th></th>\n",
       "      <th>submit</th>\n",
       "      <th>complaint</th>\n",
       "      <th>inform</th>\n",
       "      <th>third</th>\n",
       "      <th>party</th>\n",
       "      <th>process</th>\n",
       "      <th>send</th>\n",
       "      <th>letter</th>\n",
       "      <th>equifax</th>\n",
       "      <th>credit</th>\n",
       "      <th>...</th>\n",
       "      <th>way</th>\n",
       "      <th>purchase</th>\n",
       "      <th>victim</th>\n",
       "      <th>stop</th>\n",
       "      <th>statement</th>\n",
       "      <th>score</th>\n",
       "      <th>credit score</th>\n",
       "      <th>transfer</th>\n",
       "      <th>online</th>\n",
       "      <th>already</th>\n",
       "    </tr>\n",
       "  </thead>\n",
       "  <tbody>\n",
       "    <tr>\n",
       "      <th>364212</th>\n",
       "      <td>0.0</td>\n",
       "      <td>0.0</td>\n",
       "      <td>0.0</td>\n",
       "      <td>0.000000</td>\n",
       "      <td>0.0</td>\n",
       "      <td>0.0</td>\n",
       "      <td>0.0</td>\n",
       "      <td>0.0</td>\n",
       "      <td>0.078713</td>\n",
       "      <td>0.0</td>\n",
       "      <td>...</td>\n",
       "      <td>0.0</td>\n",
       "      <td>0.0</td>\n",
       "      <td>0.000000</td>\n",
       "      <td>0.0</td>\n",
       "      <td>0.0</td>\n",
       "      <td>0.00000</td>\n",
       "      <td>0.0</td>\n",
       "      <td>0.0</td>\n",
       "      <td>0.0</td>\n",
       "      <td>0.000000</td>\n",
       "    </tr>\n",
       "    <tr>\n",
       "      <th>2207116</th>\n",
       "      <td>0.0</td>\n",
       "      <td>0.0</td>\n",
       "      <td>0.0</td>\n",
       "      <td>0.053757</td>\n",
       "      <td>0.0</td>\n",
       "      <td>0.0</td>\n",
       "      <td>0.0</td>\n",
       "      <td>0.0</td>\n",
       "      <td>0.000000</td>\n",
       "      <td>0.0</td>\n",
       "      <td>...</td>\n",
       "      <td>0.0</td>\n",
       "      <td>0.0</td>\n",
       "      <td>0.052912</td>\n",
       "      <td>0.0</td>\n",
       "      <td>0.0</td>\n",
       "      <td>0.03785</td>\n",
       "      <td>0.0</td>\n",
       "      <td>0.0</td>\n",
       "      <td>0.0</td>\n",
       "      <td>0.168291</td>\n",
       "    </tr>\n",
       "  </tbody>\n",
       "</table>\n",
       "<p>2 rows × 261 columns</p>\n",
       "</div>"
      ],
      "text/plain": [
       "         submit  complaint  inform     third  party  process  send  letter  \\\n",
       "364212      0.0        0.0     0.0  0.000000    0.0      0.0   0.0     0.0   \n",
       "2207116     0.0        0.0     0.0  0.053757    0.0      0.0   0.0     0.0   \n",
       "\n",
       "          equifax  credit  ...  way  purchase    victim  stop  statement  \\\n",
       "364212   0.078713     0.0  ...  0.0       0.0  0.000000   0.0        0.0   \n",
       "2207116  0.000000     0.0  ...  0.0       0.0  0.052912   0.0        0.0   \n",
       "\n",
       "           score  credit score  transfer  online   already  \n",
       "364212   0.00000           0.0       0.0     0.0  0.000000  \n",
       "2207116  0.03785           0.0       0.0     0.0  0.168291  \n",
       "\n",
       "[2 rows x 261 columns]"
      ]
     },
     "execution_count": 151,
     "metadata": {},
     "output_type": "execute_result"
    }
   ],
   "source": [
    "transformed_full_X_train = tfidf_vec_w_bigrams.fit_transform(full_X_train.lemmas)\n",
    "transformed_full_X_train= pd.DataFrame(transformed_full_X_train.todense(),\n",
    "                                       columns=tfidf_vec_w_bigrams.vocabulary_,\n",
    "                                       index=full_X_train.index)\n",
    "transformed_full_X_train.head(2)"
   ]
  },
  {
   "cell_type": "code",
   "execution_count": 152,
   "metadata": {},
   "outputs": [
    {
     "data": {
      "text/plain": [
       "RandomForestClassifier(n_estimators=300, random_state=839)"
      ]
     },
     "execution_count": 152,
     "metadata": {},
     "output_type": "execute_result"
    }
   ],
   "source": [
    "best_model.fit(transformed_full_X_train, full_train_labels)"
   ]
  },
  {
   "cell_type": "code",
   "execution_count": 154,
   "metadata": {},
   "outputs": [
    {
     "name": "stderr",
     "output_type": "stream",
     "text": [
      "/Users/user/opt/anaconda3/envs/learn-env/lib/python3.8/site-packages/sklearn/utils/validation.py:72: DataConversionWarning: A column-vector y was passed when a 1d array was expected. Please change the shape of y to (n_samples, ), for example using ravel().\n",
      "  return f(**kwargs)\n"
     ]
    },
    {
     "data": {
      "text/plain": [
       "0.8012"
      ]
     },
     "execution_count": 154,
     "metadata": {},
     "output_type": "execute_result"
    }
   ],
   "source": [
    "transformed_X_test = tfidf_vec_w_bigrams.transform(X_test.lemmas)\n",
    "test_labels = le.transform(y_test)\n",
    "\n",
    "best_model.score(transformed_X_test, test_labels)"
   ]
  },
  {
   "cell_type": "markdown",
   "metadata": {},
   "source": [
    "Our model performs about as well as expected on the test data with an overall accuracy of 80%."
   ]
  },
  {
   "cell_type": "code",
   "execution_count": 162,
   "metadata": {},
   "outputs": [
    {
     "data": {
      "image/png": "[encoded data removed]",
      "text/plain": [
       "<Figure size 864x576 with 2 Axes>"
      ]
     },
     "metadata": {
      "needs_background": "light"
     },
     "output_type": "display_data"
    }
   ],
   "source": [
    "fig, ax = plt.subplots(figsize=(12, 8))\n",
    "\n",
    "ConfusionMatrixDisplay(confusion_matrix(\n",
    "    test_labels,\n",
    "    best_model.predict(transformed_X_test),\n",
    "    normalize='true'\n",
    ")\n",
    "                                       ).plot(ax=ax);"
   ]
  },
  {
   "cell_type": "markdown",
   "metadata": {},
   "source": [
    "Inspect the accuracy by class:"
   ]
  },
  {
   "cell_type": "code",
   "execution_count": 203,
   "metadata": {},
   "outputs": [
    {
     "data": {
      "text/plain": [
       "Credit reporting, credit repair services, or other personal consumer reports    0.944752\n",
       "Mortgage                                                                        0.804149\n",
       "Bank account or service                                                         0.719685\n",
       "Debt collection                                                                 0.716137\n",
       "Credit card or prepaid card                                                     0.693576\n",
       "Student loan                                                                    0.568696\n",
       "Money transfer, virtual currency, or money service                              0.382812\n",
       "Payday loan, title loan, or personal loan                                       0.039216\n",
       "Vehicle loan or lease                                                           0.014535\n",
       "Other financial service                                                         0.000000\n",
       "Consumer Loan                                                                   0.000000\n",
       "dtype: float64"
      ]
     },
     "execution_count": 203,
     "metadata": {},
     "output_type": "execute_result"
    }
   ],
   "source": [
    "confusion_matrix_values = confusion_matrix(\n",
    "    test_labels,\n",
    "    best_model.predict(transformed_X_test),\n",
    "    normalize='true'\n",
    ")\n",
    "\n",
    "class_accuracies = [confusion_matrix_values[i][i] for i in range(len(le.classes_))]\n",
    "pd.Series(class_accuracies, index=le.classes_).sort_values(ascending=False)"
   ]
  },
  {
   "cell_type": "markdown",
   "metadata": {},
   "source": [
    "Our model does not do as well when classifying loans or money transfers / money services / virtual currency.\n",
    "\n",
    "This somewhat corresponds with the amount of data we have in each product category. The model has less than 60% accuracy on products with fewer than 5000 complaints in the training data:"
   ]
  },
  {
   "cell_type": "code",
   "execution_count": 205,
   "metadata": {},
   "outputs": [
    {
     "data": {
      "text/plain": [
       "Credit reporting, credit repair services, or other personal consumer reports    41042\n",
       "Debt collection                                                                 12943\n",
       "Credit card or prepaid card                                                      7081\n",
       "Mortgage                                                                         6526\n",
       "Bank account or service                                                          5053\n",
       "Student loan                                                                     2200\n",
       "Money transfer, virtual currency, or money service                               1961\n",
       "Vehicle loan or lease                                                            1453\n",
       "Payday loan, title loan, or personal loan                                        1138\n",
       "Consumer Loan                                                                     581\n",
       "Other financial service                                                            22\n",
       "Name: Product, dtype: int64"
      ]
     },
     "execution_count": 205,
     "metadata": {},
     "output_type": "execute_result"
    }
   ],
   "source": [
    "full_y_train.value_counts()"
   ]
  },
  {
   "cell_type": "markdown",
   "metadata": {},
   "source": [
    "Explain model's decision making process:"
   ]
  },
  {
   "cell_type": "code",
   "execution_count": 174,
   "metadata": {},
   "outputs": [],
   "source": [
    "feat_importance_dict = dict(zip(tfidf_vec_w_bigrams.vocabulary_,\n",
    "                                best_model.feature_importances_))"
   ]
  },
  {
   "cell_type": "code",
   "execution_count": 190,
   "metadata": {},
   "outputs": [],
   "source": [
    "most_important_words = sorted(feat_importance_dict.items(), key=lambda x: x[1], reverse=True)"
   ]
  },
  {
   "cell_type": "code",
   "execution_count": 195,
   "metadata": {},
   "outputs": [
    {
     "data": {
      "image/png": "[encoded data removed]",
      "text/plain": [
       "<Figure size 432x288 with 1 Axes>"
      ]
     },
     "metadata": {
      "needs_background": "light"
     },
     "output_type": "display_data"
    }
   ],
   "source": [
    "labels = [tuple[0] for tuple in most_important_words[:10]]\n",
    "importances = [feat_importance_dict[key] for key in labels]\n",
    "\n",
    "fig, ax = plt.subplots()\n",
    "\n",
    "plt.sca(ax)\n",
    "plt.barh(y=np.linspace(1,10,10), width=importances)\n",
    "ax.set_yticks(np.linspace(1,10,10))\n",
    "ax.set_yticklabels(labels);"
   ]
  },
  {
   "cell_type": "markdown",
   "metadata": {},
   "source": [
    "There are some expected words, like \"equifax\", \"federal\", \"credit report\" and \"reporting\" that show up in the feature importances of our model; **however, some odd words like \"yet\" and \"right\", which don't seem to be particularly descriptive of a particular product category**, and the numerical object \"00\" also show up as important factors in the model's decision.\n",
    "\n",
    "This is worth exploring further - do these really have a stronger correlation with certain product categories? If so, why? If not, how can we preprocess our text further to force the model to focus on more relevant information?"
   ]
  },
  {
   "cell_type": "markdown",
   "metadata": {},
   "source": [
    "## Next Steps"
   ]
  },
  {
   "cell_type": "markdown",
   "metadata": {},
   "source": [
    "Explore preprocessing and training techniques to allow the model to better classify under-represented product categories (including removing additional \"stop words\" and \"numerical objects\" from the lemmas included in the model.)"
   ]
  }
 ],
 "metadata": {
  "kernelspec": {
   "display_name": "Python (learn-env)",
   "language": "python",
   "name": "learn-env"
  },
  "language_info": {
   "codemirror_mode": {
    "name": "ipython",
    "version": 3
   },
   "file_extension": ".py",
   "mimetype": "text/x-python",
   "name": "python",
   "nbconvert_exporter": "python",
   "pygments_lexer": "ipython3",
   "version": "3.8.5"
  },
  "toc": {
   "base_numbering": 1,
   "nav_menu": {},
   "number_sections": true,
   "sideBar": true,
   "skip_h1_title": true,
   "title_cell": "Table of Contents",
   "title_sidebar": "Contents",
   "toc_cell": true,
   "toc_position": {},
   "toc_section_display": true,
   "toc_window_display": false
  }
 },
 "nbformat": 4,
 "nbformat_minor": 4
}
