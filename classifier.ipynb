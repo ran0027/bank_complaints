{
 "cells": [
  {
   "cell_type": "markdown",
   "metadata": {},
   "source": []
  },
  {
   "cell_type": "code",
   "execution_count": 1,
   "metadata": {},
   "outputs": [
    {
     "name": "stderr",
     "output_type": "stream",
     "text": [
      "[nltk_data] Downloading package wordnet to /Users/user/nltk_data...\n",
      "[nltk_data]   Package wordnet is already up-to-date!\n",
      "[nltk_data] Downloading package tagsets to /Users/user/nltk_data...\n",
      "[nltk_data]   Package tagsets is already up-to-date!\n"
     ]
    }
   ],
   "source": [
    "import ipynb.fs.full.functions as preprocessing"
   ]
  },
  {
   "cell_type": "code",
   "execution_count": 2,
   "metadata": {},
   "outputs": [],
   "source": [
    "from zipfile import ZipFile\n",
    "\n",
    "import pandas as pd\n",
    "import numpy as np\n",
    "import matplotlib.pyplot as plt"
   ]
  },
  {
   "cell_type": "code",
   "execution_count": 3,
   "metadata": {},
   "outputs": [
    {
     "name": "stdout",
     "output_type": "stream",
     "text": [
      "CPU times: user 10.9 s, sys: 1.43 s, total: 12.3 s\n",
      "Wall time: 13.1 s\n"
     ]
    },
    {
     "data": {
      "text/html": [
       "<div>\n",
       "<style scoped>\n",
       "    .dataframe tbody tr th:only-of-type {\n",
       "        vertical-align: middle;\n",
       "    }\n",
       "\n",
       "    .dataframe tbody tr th {\n",
       "        vertical-align: top;\n",
       "    }\n",
       "\n",
       "    .dataframe thead th {\n",
       "        text-align: right;\n",
       "    }\n",
       "</style>\n",
       "<table border=\"1\" class=\"dataframe\">\n",
       "  <thead>\n",
       "    <tr style=\"text-align: right;\">\n",
       "      <th></th>\n",
       "      <th>Complaint</th>\n",
       "      <th>Company</th>\n",
       "      <th>Product</th>\n",
       "    </tr>\n",
       "  </thead>\n",
       "  <tbody>\n",
       "    <tr>\n",
       "      <th>84</th>\n",
       "      <td>I am a victim of identity theft. XXXX XXXX XXX...</td>\n",
       "      <td>EQUIFAX, INC.</td>\n",
       "      <td>Credit reporting, credit repair services, or o...</td>\n",
       "    </tr>\n",
       "    <tr>\n",
       "      <th>180</th>\n",
       "      <td>XXXX 2022 went just like any other XXXX of the...</td>\n",
       "      <td>Netspend Corporation</td>\n",
       "      <td>Bank account or service</td>\n",
       "    </tr>\n",
       "    <tr>\n",
       "      <th>369</th>\n",
       "      <td>In XXXX I fell behind on my mortgage payments ...</td>\n",
       "      <td>WELLS FARGO &amp; COMPANY</td>\n",
       "      <td>Mortgage</td>\n",
       "    </tr>\n",
       "    <tr>\n",
       "      <th>549</th>\n",
       "      <td>I immigrated to the United States in XX/XX/XXX...</td>\n",
       "      <td>EQUIFAX, INC.</td>\n",
       "      <td>Credit reporting, credit repair services, or o...</td>\n",
       "    </tr>\n",
       "    <tr>\n",
       "      <th>583</th>\n",
       "      <td>ATTN Fraud Department : Remove fraudulent acco...</td>\n",
       "      <td>EQUIFAX, INC.</td>\n",
       "      <td>Credit reporting, credit repair services, or o...</td>\n",
       "    </tr>\n",
       "  </tbody>\n",
       "</table>\n",
       "</div>"
      ],
      "text/plain": [
       "                                             Complaint                Company  \\\n",
       "84   I am a victim of identity theft. XXXX XXXX XXX...          EQUIFAX, INC.   \n",
       "180  XXXX 2022 went just like any other XXXX of the...   Netspend Corporation   \n",
       "369  In XXXX I fell behind on my mortgage payments ...  WELLS FARGO & COMPANY   \n",
       "549  I immigrated to the United States in XX/XX/XXX...          EQUIFAX, INC.   \n",
       "583  ATTN Fraud Department : Remove fraudulent acco...          EQUIFAX, INC.   \n",
       "\n",
       "                                               Product  \n",
       "84   Credit reporting, credit repair services, or o...  \n",
       "180                            Bank account or service  \n",
       "369                                           Mortgage  \n",
       "549  Credit reporting, credit repair services, or o...  \n",
       "583  Credit reporting, credit repair services, or o...  "
      ]
     },
     "execution_count": 3,
     "metadata": {},
     "output_type": "execute_result"
    }
   ],
   "source": [
    "%%time\n",
    "\n",
    "data = pd.read_csv('categorized_data.csv')\n",
    "\n",
    "# fix index\n",
    "data.set_index('Unnamed: 0', inplace=True)\n",
    "data.index.name = None\n",
    "\n",
    "data.head()"
   ]
  },
  {
   "cell_type": "markdown",
   "metadata": {},
   "source": [
    "Set a seed for reproducibility and get a sample of 100,000 records to build a proof of concept model."
   ]
  },
  {
   "cell_type": "code",
   "execution_count": 4,
   "metadata": {},
   "outputs": [],
   "source": [
    "# set a seed for reproducibility\n",
    "seed = 839"
   ]
  },
  {
   "cell_type": "code",
   "execution_count": 5,
   "metadata": {},
   "outputs": [],
   "source": [
    "# get 100,000 records to build a proof-of-concept model\n",
    "sample = data.sample(100000, random_state=seed).copy()"
   ]
  },
  {
   "cell_type": "code",
   "execution_count": 6,
   "metadata": {},
   "outputs": [
    {
     "data": {
      "text/html": [
       "<div>\n",
       "<style scoped>\n",
       "    .dataframe tbody tr th:only-of-type {\n",
       "        vertical-align: middle;\n",
       "    }\n",
       "\n",
       "    .dataframe tbody tr th {\n",
       "        vertical-align: top;\n",
       "    }\n",
       "\n",
       "    .dataframe thead th {\n",
       "        text-align: right;\n",
       "    }\n",
       "</style>\n",
       "<table border=\"1\" class=\"dataframe\">\n",
       "  <thead>\n",
       "    <tr style=\"text-align: right;\">\n",
       "      <th></th>\n",
       "      <th>Complaint</th>\n",
       "      <th>Company</th>\n",
       "      <th>Product</th>\n",
       "    </tr>\n",
       "  </thead>\n",
       "  <tbody>\n",
       "    <tr>\n",
       "      <th>3347590</th>\n",
       "      <td>XXXX XXXX XXXX XXXX : XXXX. XXXXXXXX XXXX XXXX...</td>\n",
       "      <td>EQUIFAX, INC.</td>\n",
       "      <td>Credit reporting, credit repair services, or o...</td>\n",
       "    </tr>\n",
       "    <tr>\n",
       "      <th>3273724</th>\n",
       "      <td>I have written you twice. Chase finds ways out...</td>\n",
       "      <td>JPMORGAN CHASE &amp; CO.</td>\n",
       "      <td>Mortgage</td>\n",
       "    </tr>\n",
       "    <tr>\n",
       "      <th>543587</th>\n",
       "      <td>I contacted Amex, who placed the inquiry, and ...</td>\n",
       "      <td>AMERICAN EXPRESS COMPANY</td>\n",
       "      <td>Credit reporting, credit repair services, or o...</td>\n",
       "    </tr>\n",
       "    <tr>\n",
       "      <th>1039197</th>\n",
       "      <td>In XXXX of 2018, I started getting calls from ...</td>\n",
       "      <td>CREDIT BUREAU OF NAPA COUNTY, INC.</td>\n",
       "      <td>Debt collection</td>\n",
       "    </tr>\n",
       "    <tr>\n",
       "      <th>1935540</th>\n",
       "      <td>On ( XX/XX/2022 ) I sent a letter regarding in...</td>\n",
       "      <td>EQUIFAX, INC.</td>\n",
       "      <td>Credit reporting, credit repair services, or o...</td>\n",
       "    </tr>\n",
       "  </tbody>\n",
       "</table>\n",
       "</div>"
      ],
      "text/plain": [
       "                                                 Complaint  \\\n",
       "3347590  XXXX XXXX XXXX XXXX : XXXX. XXXXXXXX XXXX XXXX...   \n",
       "3273724  I have written you twice. Chase finds ways out...   \n",
       "543587   I contacted Amex, who placed the inquiry, and ...   \n",
       "1039197  In XXXX of 2018, I started getting calls from ...   \n",
       "1935540  On ( XX/XX/2022 ) I sent a letter regarding in...   \n",
       "\n",
       "                                    Company  \\\n",
       "3347590                       EQUIFAX, INC.   \n",
       "3273724                JPMORGAN CHASE & CO.   \n",
       "543587             AMERICAN EXPRESS COMPANY   \n",
       "1039197  CREDIT BUREAU OF NAPA COUNTY, INC.   \n",
       "1935540                       EQUIFAX, INC.   \n",
       "\n",
       "                                                   Product  \n",
       "3347590  Credit reporting, credit repair services, or o...  \n",
       "3273724                                           Mortgage  \n",
       "543587   Credit reporting, credit repair services, or o...  \n",
       "1039197                                    Debt collection  \n",
       "1935540  Credit reporting, credit repair services, or o...  "
      ]
     },
     "execution_count": 6,
     "metadata": {},
     "output_type": "execute_result"
    }
   ],
   "source": [
    "sample.head()"
   ]
  },
  {
   "cell_type": "markdown",
   "metadata": {},
   "source": [
    "Split the data into train, test and validation sets, preprocess the complaint text, and fit a baseline model to the entire training set."
   ]
  },
  {
   "cell_type": "code",
   "execution_count": 7,
   "metadata": {},
   "outputs": [],
   "source": [
    "from sklearn.model_selection import train_test_split\n",
    "\n",
    "X = sample.drop(['Product'], axis=1).copy()\n",
    "y = sample.Product.copy()\n",
    "\n",
    "X_train, X_test, y_train, y_test = train_test_split(X, y, test_size=0.2, random_state=seed)"
   ]
  },
  {
   "cell_type": "code",
   "execution_count": 8,
   "metadata": {},
   "outputs": [],
   "source": [
    "# split training data into training and validation data\n",
    "\n",
    "X_train, X_val, y_train, y_val = train_test_split(X_train,\n",
    "                                                  y_train,\n",
    "                                                  test_size=0.25,\n",
    "                                                  random_state=seed)"
   ]
  },
  {
   "cell_type": "code",
   "execution_count": 9,
   "metadata": {},
   "outputs": [
    {
     "name": "stdout",
     "output_type": "stream",
     "text": [
      "(60000, 2)\n",
      "(20000, 2)\n",
      "(20000, 2)\n"
     ]
    }
   ],
   "source": [
    "print(X_train.shape)\n",
    "print(X_val.shape)\n",
    "print(X_test.shape)"
   ]
  },
  {
   "cell_type": "code",
   "execution_count": 10,
   "metadata": {},
   "outputs": [
    {
     "name": "stdout",
     "output_type": "stream",
     "text": [
      "(60000,)\n",
      "(20000,)\n"
     ]
    },
    {
     "data": {
      "text/plain": [
       "array([3, 3, 4, ..., 3, 4, 3])"
      ]
     },
     "execution_count": 10,
     "metadata": {},
     "output_type": "execute_result"
    }
   ],
   "source": [
    "from sklearn.preprocessing import LabelEncoder\n",
    "\n",
    "le = LabelEncoder()\n",
    "\n",
    "train_labels = le.fit_transform(y_train)\n",
    "val_labels = le.transform(y_val)\n",
    "\n",
    "print(train_labels.shape)\n",
    "print(val_labels.shape)\n",
    "train_labels"
   ]
  },
  {
   "cell_type": "code",
   "execution_count": 11,
   "metadata": {},
   "outputs": [
    {
     "data": {
      "text/html": [
       "<div>\n",
       "<style scoped>\n",
       "    .dataframe tbody tr th:only-of-type {\n",
       "        vertical-align: middle;\n",
       "    }\n",
       "\n",
       "    .dataframe tbody tr th {\n",
       "        vertical-align: top;\n",
       "    }\n",
       "\n",
       "    .dataframe thead th {\n",
       "        text-align: right;\n",
       "    }\n",
       "</style>\n",
       "<table border=\"1\" class=\"dataframe\">\n",
       "  <thead>\n",
       "    <tr style=\"text-align: right;\">\n",
       "      <th></th>\n",
       "      <th>Complaint</th>\n",
       "      <th>Company</th>\n",
       "    </tr>\n",
       "  </thead>\n",
       "  <tbody>\n",
       "    <tr>\n",
       "      <th>364212</th>\n",
       "      <td>This is XXXX XXXX, who is submitting this CFPB...</td>\n",
       "      <td>EQUIFAX, INC.</td>\n",
       "    </tr>\n",
       "    <tr>\n",
       "      <th>2207116</th>\n",
       "      <td>I am disputing a couple of inaccurate items on...</td>\n",
       "      <td>EQUIFAX, INC.</td>\n",
       "    </tr>\n",
       "  </tbody>\n",
       "</table>\n",
       "</div>"
      ],
      "text/plain": [
       "                                                 Complaint        Company\n",
       "364212   This is XXXX XXXX, who is submitting this CFPB...  EQUIFAX, INC.\n",
       "2207116  I am disputing a couple of inaccurate items on...  EQUIFAX, INC."
      ]
     },
     "execution_count": 11,
     "metadata": {},
     "output_type": "execute_result"
    }
   ],
   "source": [
    "X_train.head(2)"
   ]
  },
  {
   "cell_type": "markdown",
   "metadata": {},
   "source": [
    "Below, the complaints are mapped to a list of tokens, which are then mapped to a list of tokens with redacted material removed, and finally, those \"clean tokens\" are mapped to a list of lemmas for that particular complaint.\n",
    "\n",
    "The functions for performing this preprocessing are stored in a separate notebook (functions.ipynb.) If you are running this notebook in your own environment, make sure that you have the package \"ipynb\" installed. (It should have thrown an error at the top of this notebook if it's not already installed.)"
   ]
  },
  {
   "cell_type": "code",
   "execution_count": 12,
   "metadata": {
    "scrolled": true
   },
   "outputs": [
    {
     "data": {
      "text/html": [
       "<div>\n",
       "<style scoped>\n",
       "    .dataframe tbody tr th:only-of-type {\n",
       "        vertical-align: middle;\n",
       "    }\n",
       "\n",
       "    .dataframe tbody tr th {\n",
       "        vertical-align: top;\n",
       "    }\n",
       "\n",
       "    .dataframe thead th {\n",
       "        text-align: right;\n",
       "    }\n",
       "</style>\n",
       "<table border=\"1\" class=\"dataframe\">\n",
       "  <thead>\n",
       "    <tr style=\"text-align: right;\">\n",
       "      <th></th>\n",
       "      <th>Complaint</th>\n",
       "      <th>Company</th>\n",
       "      <th>tokens</th>\n",
       "      <th>clean_tokens</th>\n",
       "      <th>lemmas</th>\n",
       "    </tr>\n",
       "  </thead>\n",
       "  <tbody>\n",
       "    <tr>\n",
       "      <th>364212</th>\n",
       "      <td>This is XXXX XXXX, who is submitting this CFPB...</td>\n",
       "      <td>EQUIFAX, INC.</td>\n",
       "      <td>[xxxx, xxxx, submitting, cfpb, complaint, info...</td>\n",
       "      <td>[submitting, cfpb, complaint, inform, third, p...</td>\n",
       "      <td>[submit, cfpb, complaint, inform, third, party...</td>\n",
       "    </tr>\n",
       "    <tr>\n",
       "      <th>2207116</th>\n",
       "      <td>I am disputing a couple of inaccurate items on...</td>\n",
       "      <td>EQUIFAX, INC.</td>\n",
       "      <td>[disputing, couple, inaccurate, items, credit,...</td>\n",
       "      <td>[disputing, couple, inaccurate, items, credit,...</td>\n",
       "      <td>[dispute, couple, inaccurate, item, credit, re...</td>\n",
       "    </tr>\n",
       "  </tbody>\n",
       "</table>\n",
       "</div>"
      ],
      "text/plain": [
       "                                                 Complaint        Company  \\\n",
       "364212   This is XXXX XXXX, who is submitting this CFPB...  EQUIFAX, INC.   \n",
       "2207116  I am disputing a couple of inaccurate items on...  EQUIFAX, INC.   \n",
       "\n",
       "                                                    tokens  \\\n",
       "364212   [xxxx, xxxx, submitting, cfpb, complaint, info...   \n",
       "2207116  [disputing, couple, inaccurate, items, credit,...   \n",
       "\n",
       "                                              clean_tokens  \\\n",
       "364212   [submitting, cfpb, complaint, inform, third, p...   \n",
       "2207116  [disputing, couple, inaccurate, items, credit,...   \n",
       "\n",
       "                                                    lemmas  \n",
       "364212   [submit, cfpb, complaint, inform, third, party...  \n",
       "2207116  [dispute, couple, inaccurate, item, credit, re...  "
      ]
     },
     "execution_count": 12,
     "metadata": {},
     "output_type": "execute_result"
    }
   ],
   "source": [
    "X_train['tokens'] = X_train.Complaint.map(preprocessing.get_tokens)\n",
    "\n",
    "X_train['clean_tokens'] = preprocessing.remove_redactions(X_train['tokens'])\n",
    "\n",
    "X_train['lemmas'] = preprocessing.lemmatize(X_train['clean_tokens'])\n",
    "\n",
    "X_train.head(2)"
   ]
  },
  {
   "cell_type": "markdown",
   "metadata": {},
   "source": [
    "Let's repeat the above preprocessing work for the validation set."
   ]
  },
  {
   "cell_type": "code",
   "execution_count": 14,
   "metadata": {},
   "outputs": [
    {
     "data": {
      "text/html": [
       "<div>\n",
       "<style scoped>\n",
       "    .dataframe tbody tr th:only-of-type {\n",
       "        vertical-align: middle;\n",
       "    }\n",
       "\n",
       "    .dataframe tbody tr th {\n",
       "        vertical-align: top;\n",
       "    }\n",
       "\n",
       "    .dataframe thead th {\n",
       "        text-align: right;\n",
       "    }\n",
       "</style>\n",
       "<table border=\"1\" class=\"dataframe\">\n",
       "  <thead>\n",
       "    <tr style=\"text-align: right;\">\n",
       "      <th></th>\n",
       "      <th>submit</th>\n",
       "      <th>cfpb</th>\n",
       "      <th>complaint</th>\n",
       "      <th>inform</th>\n",
       "      <th>third</th>\n",
       "      <th>party</th>\n",
       "      <th>involved</th>\n",
       "      <th>process</th>\n",
       "      <th>send</th>\n",
       "      <th>letter</th>\n",
       "      <th>...</th>\n",
       "      <th>verififcation</th>\n",
       "      <th>clarifiy</th>\n",
       "      <th>affliate</th>\n",
       "      <th>refuting</th>\n",
       "      <th>penatgon</th>\n",
       "      <th>attatching</th>\n",
       "      <th>conatact</th>\n",
       "      <th>cherrington</th>\n",
       "      <th>candy</th>\n",
       "      <th>acquantained</th>\n",
       "    </tr>\n",
       "  </thead>\n",
       "  <tbody>\n",
       "    <tr>\n",
       "      <th>3277011</th>\n",
       "      <td>0.000000</td>\n",
       "      <td>0.0</td>\n",
       "      <td>0.0</td>\n",
       "      <td>0.0</td>\n",
       "      <td>0.0</td>\n",
       "      <td>0.0</td>\n",
       "      <td>0.0</td>\n",
       "      <td>0.0</td>\n",
       "      <td>0.0</td>\n",
       "      <td>0.0</td>\n",
       "      <td>...</td>\n",
       "      <td>0.0</td>\n",
       "      <td>0.0</td>\n",
       "      <td>0.0</td>\n",
       "      <td>0.0</td>\n",
       "      <td>0.0</td>\n",
       "      <td>0.0</td>\n",
       "      <td>0.0</td>\n",
       "      <td>0.0</td>\n",
       "      <td>0.0</td>\n",
       "      <td>0.0</td>\n",
       "    </tr>\n",
       "    <tr>\n",
       "      <th>2844354</th>\n",
       "      <td>0.095702</td>\n",
       "      <td>0.0</td>\n",
       "      <td>0.0</td>\n",
       "      <td>0.0</td>\n",
       "      <td>0.0</td>\n",
       "      <td>0.0</td>\n",
       "      <td>0.0</td>\n",
       "      <td>0.0</td>\n",
       "      <td>0.0</td>\n",
       "      <td>0.0</td>\n",
       "      <td>...</td>\n",
       "      <td>0.0</td>\n",
       "      <td>0.0</td>\n",
       "      <td>0.0</td>\n",
       "      <td>0.0</td>\n",
       "      <td>0.0</td>\n",
       "      <td>0.0</td>\n",
       "      <td>0.0</td>\n",
       "      <td>0.0</td>\n",
       "      <td>0.0</td>\n",
       "      <td>0.0</td>\n",
       "    </tr>\n",
       "  </tbody>\n",
       "</table>\n",
       "<p>2 rows × 35351 columns</p>\n",
       "</div>"
      ],
      "text/plain": [
       "           submit  cfpb  complaint  inform  third  party  involved  process  \\\n",
       "3277011  0.000000   0.0        0.0     0.0    0.0    0.0       0.0      0.0   \n",
       "2844354  0.095702   0.0        0.0     0.0    0.0    0.0       0.0      0.0   \n",
       "\n",
       "         send  letter  ...  verififcation  clarifiy  affliate  refuting  \\\n",
       "3277011   0.0     0.0  ...            0.0       0.0       0.0       0.0   \n",
       "2844354   0.0     0.0  ...            0.0       0.0       0.0       0.0   \n",
       "\n",
       "         penatgon  attatching  conatact  cherrington  candy  acquantained  \n",
       "3277011       0.0         0.0       0.0          0.0    0.0           0.0  \n",
       "2844354       0.0         0.0       0.0          0.0    0.0           0.0  \n",
       "\n",
       "[2 rows x 35351 columns]"
      ]
     },
     "execution_count": 14,
     "metadata": {},
     "output_type": "execute_result"
    }
   ],
   "source": [
    "X_val['tokens'] = X_val.Complaint.map(preprocessing.get_tokens)\n",
    "\n",
    "X_val['clean_tokens'] = preprocessing.remove_redactions(X_val['tokens'])\n",
    "\n",
    "X_val['lemmas'] = preprocessing.lemmatize(X_val['clean_tokens'])"
   ]
  },
  {
   "cell_type": "markdown",
   "metadata": {},
   "source": [
    "Preprocessing the training and validation data takes a while, so let's store them on disk."
   ]
  },
  {
   "cell_type": "code",
   "execution_count": 15,
   "metadata": {},
   "outputs": [],
   "source": [
    "with open('train-test-split/train', 'w') as f:\n",
    "    X_train.to_csv(f)\n",
    "    \n",
    "with open('train-test-split/val', 'w') as f:\n",
    "    X_val.to_csv(f)"
   ]
  },
  {
   "cell_type": "markdown",
   "metadata": {},
   "source": [
    "Next, the lemmas for each complaint are vectorized using term frequency - inverse document frequency."
   ]
  },
  {
   "cell_type": "code",
   "execution_count": 13,
   "metadata": {},
   "outputs": [
    {
     "data": {
      "text/html": [
       "<div>\n",
       "<style scoped>\n",
       "    .dataframe tbody tr th:only-of-type {\n",
       "        vertical-align: middle;\n",
       "    }\n",
       "\n",
       "    .dataframe tbody tr th {\n",
       "        vertical-align: top;\n",
       "    }\n",
       "\n",
       "    .dataframe thead th {\n",
       "        text-align: right;\n",
       "    }\n",
       "</style>\n",
       "<table border=\"1\" class=\"dataframe\">\n",
       "  <thead>\n",
       "    <tr style=\"text-align: right;\">\n",
       "      <th></th>\n",
       "      <th>submit</th>\n",
       "      <th>cfpb</th>\n",
       "      <th>complaint</th>\n",
       "      <th>inform</th>\n",
       "      <th>third</th>\n",
       "      <th>party</th>\n",
       "      <th>involved</th>\n",
       "      <th>process</th>\n",
       "      <th>send</th>\n",
       "      <th>letter</th>\n",
       "      <th>...</th>\n",
       "      <th>verififcation</th>\n",
       "      <th>clarifiy</th>\n",
       "      <th>affliate</th>\n",
       "      <th>refuting</th>\n",
       "      <th>penatgon</th>\n",
       "      <th>attatching</th>\n",
       "      <th>conatact</th>\n",
       "      <th>cherrington</th>\n",
       "      <th>candy</th>\n",
       "      <th>acquantained</th>\n",
       "    </tr>\n",
       "  </thead>\n",
       "  <tbody>\n",
       "    <tr>\n",
       "      <th>364212</th>\n",
       "      <td>0.0</td>\n",
       "      <td>0.0</td>\n",
       "      <td>0.0</td>\n",
       "      <td>0.0</td>\n",
       "      <td>0.0</td>\n",
       "      <td>0.0</td>\n",
       "      <td>0.0</td>\n",
       "      <td>0.0</td>\n",
       "      <td>0.0</td>\n",
       "      <td>0.0</td>\n",
       "      <td>...</td>\n",
       "      <td>0.0</td>\n",
       "      <td>0.0</td>\n",
       "      <td>0.0</td>\n",
       "      <td>0.0</td>\n",
       "      <td>0.0</td>\n",
       "      <td>0.0</td>\n",
       "      <td>0.0</td>\n",
       "      <td>0.0</td>\n",
       "      <td>0.0</td>\n",
       "      <td>0.0</td>\n",
       "    </tr>\n",
       "    <tr>\n",
       "      <th>2207116</th>\n",
       "      <td>0.0</td>\n",
       "      <td>0.0</td>\n",
       "      <td>0.0</td>\n",
       "      <td>0.0</td>\n",
       "      <td>0.0</td>\n",
       "      <td>0.0</td>\n",
       "      <td>0.0</td>\n",
       "      <td>0.0</td>\n",
       "      <td>0.0</td>\n",
       "      <td>0.0</td>\n",
       "      <td>...</td>\n",
       "      <td>0.0</td>\n",
       "      <td>0.0</td>\n",
       "      <td>0.0</td>\n",
       "      <td>0.0</td>\n",
       "      <td>0.0</td>\n",
       "      <td>0.0</td>\n",
       "      <td>0.0</td>\n",
       "      <td>0.0</td>\n",
       "      <td>0.0</td>\n",
       "      <td>0.0</td>\n",
       "    </tr>\n",
       "  </tbody>\n",
       "</table>\n",
       "<p>2 rows × 35351 columns</p>\n",
       "</div>"
      ],
      "text/plain": [
       "         submit  cfpb  complaint  inform  third  party  involved  process  \\\n",
       "364212      0.0   0.0        0.0     0.0    0.0    0.0       0.0      0.0   \n",
       "2207116     0.0   0.0        0.0     0.0    0.0    0.0       0.0      0.0   \n",
       "\n",
       "         send  letter  ...  verififcation  clarifiy  affliate  refuting  \\\n",
       "364212    0.0     0.0  ...            0.0       0.0       0.0       0.0   \n",
       "2207116   0.0     0.0  ...            0.0       0.0       0.0       0.0   \n",
       "\n",
       "         penatgon  attatching  conatact  cherrington  candy  acquantained  \n",
       "364212        0.0         0.0       0.0          0.0    0.0           0.0  \n",
       "2207116       0.0         0.0       0.0          0.0    0.0           0.0  \n",
       "\n",
       "[2 rows x 35351 columns]"
      ]
     },
     "execution_count": 13,
     "metadata": {},
     "output_type": "execute_result"
    }
   ],
   "source": [
    "from sklearn.feature_extraction.text import TfidfVectorizer\n",
    "\n",
    "tfidf_vec = TfidfVectorizer()\n",
    "\n",
    "vectorized_words = pd.DataFrame(\n",
    "    tfidf_vec.fit_transform(X_train['lemmas'].map(lambda x: ' '.join(x))).todense(),\n",
    "    columns=list(tfidf_vec.vocabulary_.keys()),\n",
    "    index=X_train.index)\n",
    "\n",
    "vectorized_words.head(2)"
   ]
  },
  {
   "cell_type": "markdown",
   "metadata": {},
   "source": [
    "Do the same to the validation data, but don't re-fit the vectorizer."
   ]
  },
  {
   "cell_type": "code",
   "execution_count": null,
   "metadata": {},
   "outputs": [],
   "source": [
    "val_vectorized_words = pd.DataFrame(\n",
    "    tfidf_vec.transform(X_val['lemmas'].map(lambda x: ' '.join(x))).todense(),\n",
    "    columns=list(tfidf_vec.vocabulary_.keys()),\n",
    "    index=X_val.index)\n",
    "\n",
    "val_vectorized_words.head(2)"
   ]
  },
  {
   "cell_type": "markdown",
   "metadata": {},
   "source": [
    "Finally, a baseline model is constructed using Naive Bayes. I'm going to store each model as well as the train and validation scores for the model, in the dictionary \"model_scores\"."
   ]
  },
  {
   "cell_type": "code",
   "execution_count": 18,
   "metadata": {},
   "outputs": [
    {
     "data": {
      "text/plain": [
       "{'baseline': {'model': MultinomialNB(),\n",
       "  'train': 0.7224333333333334,\n",
       "  'test': 0.6991}}"
      ]
     },
     "execution_count": 18,
     "metadata": {},
     "output_type": "execute_result"
    }
   ],
   "source": [
    "from sklearn.naive_bayes import MultinomialNB\n",
    "\n",
    "baseline = MultinomialNB()\n",
    "baseline.fit(vectorized_words, train_labels)\n",
    "\n",
    "from sklearn.base import clone\n",
    "\n",
    "model_scores = {'baseline': {\n",
    "    'model': clone(baseline),\n",
    "    'train': baseline.score(vectorized_words, train_labels),\n",
    "    'test': baseline.score(val_vectorized_words, val_labels)}\n",
    "               }\n",
    "\n",
    "model_scores"
   ]
  },
  {
   "cell_type": "markdown",
   "metadata": {},
   "source": [
    "There is certainly room for improvement, but this is not a terrible score to start. (A classifier which picks the majority class would have an accuracy of ~51% for this training set.)\n",
    "\n",
    "Let's try to understand where this model goes wrong, and see if it suggests any particular avenues for improvement."
   ]
  },
  {
   "cell_type": "code",
   "execution_count": 19,
   "metadata": {},
   "outputs": [
    {
     "data": {
      "image/png": "[encoded data removed]",
      "text/plain": [
       "<Figure size 864x576 with 2 Axes>"
      ]
     },
     "metadata": {
      "needs_background": "light"
     },
     "output_type": "display_data"
    }
   ],
   "source": [
    "from sklearn.metrics import confusion_matrix, ConfusionMatrixDisplay\n",
    "\n",
    "fig, ax = plt.subplots(figsize=(12, 8))\n",
    "\n",
    "ConfusionMatrixDisplay(confusion_matrix(train_labels, baseline.predict(vectorized_words)))\\\n",
    ".plot(ax=ax);"
   ]
  },
  {
   "cell_type": "markdown",
   "metadata": {},
   "source": [
    "It is difficult to interpret a raw count confusion matrix because the classes are heavily imbalanced. Normalize along each row to improve interpretability."
   ]
  },
  {
   "cell_type": "code",
   "execution_count": 42,
   "metadata": {},
   "outputs": [
    {
     "data": {
      "image/png": "[encoded data removed]",
      "text/plain": [
       "<Figure size 864x576 with 2 Axes>"
      ]
     },
     "metadata": {
      "needs_background": "light"
     },
     "output_type": "display_data"
    }
   ],
   "source": [
    "fig, ax = plt.subplots(figsize=(12, 8))\n",
    "\n",
    "ConfusionMatrixDisplay(confusion_matrix(train_labels,\n",
    "                                        baseline.predict(vectorized_words),\n",
    "                                        normalize='true')).plot(ax=ax);"
   ]
  },
  {
   "cell_type": "markdown",
   "metadata": {},
   "source": [
    "Unsurprisingly, the heavy-majority class has 99% accuracy while most other classes struggle.\n",
    "\n",
    "Here is the distribution of product categories in the training set:"
   ]
  },
  {
   "cell_type": "code",
   "execution_count": 44,
   "metadata": {},
   "outputs": [
    {
     "data": {
      "text/plain": [
       "Credit reporting, credit repair services, or other personal consumer reports    30733\n",
       "Debt collection                                                                  9742\n",
       "Credit card or prepaid card                                                      5295\n",
       "Mortgage                                                                         4905\n",
       "Bank account or service                                                          3775\n",
       "Student loan                                                                     1701\n",
       "Money transfer, virtual currency, or money service                               1468\n",
       "Vehicle loan or lease                                                            1091\n",
       "Payday loan, title loan, or personal loan                                         847\n",
       "Consumer Loan                                                                     427\n",
       "Other financial service                                                            16\n",
       "Name: Product, dtype: int64"
      ]
     },
     "execution_count": 44,
     "metadata": {},
     "output_type": "execute_result"
    }
   ],
   "source": [
    "y_train.value_counts()"
   ]
  },
  {
   "cell_type": "markdown",
   "metadata": {},
   "source": [
    "The ability of the baseline model to correctly predict the class of a complaint is (loosely) correlated to the size of that class in the training data.\n",
    "\n",
    "View the top words in each category:"
   ]
  },
  {
   "cell_type": "markdown",
   "metadata": {},
   "source": [
    "The cell below concatenates the product information with the lemmas for the complaint, then creates a list of all lemmas in a particular product category and stores this in a dictionary (key = product.)"
   ]
  },
  {
   "cell_type": "code",
   "execution_count": 20,
   "metadata": {},
   "outputs": [],
   "source": [
    "train = pd.concat([X_train, y_train], axis=1)\n",
    "\n",
    "from collections import defaultdict\n",
    "product_lemmas = defaultdict()\n",
    "\n",
    "for product in np.unique(train.Product):\n",
    "    product_lemmas[product] = []\n",
    "    for row in train.loc[train.Product == product, 'lemmas']:\n",
    "        product_lemmas[product].extend(row)"
   ]
  },
  {
   "cell_type": "markdown",
   "metadata": {},
   "source": [
    "Next, we iterate over each product and get the counts for the top 5 words in that product category using nltk's FreqDist function. Create a plot for each product."
   ]
  },
  {
   "cell_type": "code",
   "execution_count": 21,
   "metadata": {},
   "outputs": [
    {
     "data": {
      "image/png": "[encoded data removed]",
      "text/plain": [
       "<Figure size 864x576 with 12 Axes>"
      ]
     },
     "metadata": {
      "needs_background": "light"
     },
     "output_type": "display_data"
    }
   ],
   "source": [
    "from nltk import FreqDist\n",
    "\n",
    "n = 5\n",
    "\n",
    "fig, ax = plt.subplots(nrows=4, ncols=3, figsize=(12, 8))\n",
    "\n",
    "for i, product in enumerate(np.unique(train.Product)):\n",
    "    fdist = FreqDist(product_lemmas[product])\n",
    "    labels = [x[0] for x in fdist.most_common(n)]\n",
    "    counts = [x[1] for x in fdist.most_common(n)]\n",
    "    \n",
    "    current_ax = ax[i // 3][i % 3]\n",
    "    plt.sca(current_ax)\n",
    "    plt.barh(y=np.linspace(1,n,n), width=counts)\n",
    "    current_ax.set_yticks(np.linspace(1,n,n))\n",
    "    current_ax.set_yticklabels(labels)\n",
    "    fig.suptitle(f'Top {n} words in complaints related to...')\n",
    "    current_ax.set_title(product)\n",
    "    \n",
    "fig.tight_layout();"
   ]
  },
  {
   "cell_type": "markdown",
   "metadata": {},
   "source": [
    "Based on these plots, I realize that forcing the model to ignore words which occur in every category (or even most categories) could improve the model's performance.\n",
    "\n",
    "Including bigrams could also help the model to distinguish between product categories (ex: \"credit card\" vs. \"credit report\".)"
   ]
  },
  {
   "cell_type": "code",
   "execution_count": 22,
   "metadata": {},
   "outputs": [
    {
     "data": {
      "text/html": [
       "<div>\n",
       "<style scoped>\n",
       "    .dataframe tbody tr th:only-of-type {\n",
       "        vertical-align: middle;\n",
       "    }\n",
       "\n",
       "    .dataframe tbody tr th {\n",
       "        vertical-align: top;\n",
       "    }\n",
       "\n",
       "    .dataframe thead th {\n",
       "        text-align: right;\n",
       "    }\n",
       "</style>\n",
       "<table border=\"1\" class=\"dataframe\">\n",
       "  <thead>\n",
       "    <tr style=\"text-align: right;\">\n",
       "      <th></th>\n",
       "      <th>submit</th>\n",
       "      <th>complaint</th>\n",
       "      <th>inform</th>\n",
       "      <th>third</th>\n",
       "      <th>party</th>\n",
       "      <th>process</th>\n",
       "      <th>send</th>\n",
       "      <th>letter</th>\n",
       "      <th>equifax</th>\n",
       "      <th>credit</th>\n",
       "      <th>...</th>\n",
       "      <th>wrong</th>\n",
       "      <th>way</th>\n",
       "      <th>purchase</th>\n",
       "      <th>victim</th>\n",
       "      <th>stop</th>\n",
       "      <th>statement</th>\n",
       "      <th>score</th>\n",
       "      <th>transfer</th>\n",
       "      <th>online</th>\n",
       "      <th>already</th>\n",
       "    </tr>\n",
       "  </thead>\n",
       "  <tbody>\n",
       "    <tr>\n",
       "      <th>364212</th>\n",
       "      <td>0.0</td>\n",
       "      <td>0.0</td>\n",
       "      <td>0.0</td>\n",
       "      <td>0.000000</td>\n",
       "      <td>0.0</td>\n",
       "      <td>0.0</td>\n",
       "      <td>0.0</td>\n",
       "      <td>0.081658</td>\n",
       "      <td>0.0</td>\n",
       "      <td>0.157253</td>\n",
       "      <td>...</td>\n",
       "      <td>0.0</td>\n",
       "      <td>0.0</td>\n",
       "      <td>0.000000</td>\n",
       "      <td>0.0</td>\n",
       "      <td>0.0</td>\n",
       "      <td>0.000000</td>\n",
       "      <td>0.0</td>\n",
       "      <td>0.0</td>\n",
       "      <td>0.0</td>\n",
       "      <td>0.000000</td>\n",
       "    </tr>\n",
       "    <tr>\n",
       "      <th>2207116</th>\n",
       "      <td>0.0</td>\n",
       "      <td>0.0</td>\n",
       "      <td>0.0</td>\n",
       "      <td>0.062139</td>\n",
       "      <td>0.0</td>\n",
       "      <td>0.0</td>\n",
       "      <td>0.0</td>\n",
       "      <td>0.000000</td>\n",
       "      <td>0.0</td>\n",
       "      <td>0.054401</td>\n",
       "      <td>...</td>\n",
       "      <td>0.0</td>\n",
       "      <td>0.0</td>\n",
       "      <td>0.061215</td>\n",
       "      <td>0.0</td>\n",
       "      <td>0.0</td>\n",
       "      <td>0.043737</td>\n",
       "      <td>0.0</td>\n",
       "      <td>0.0</td>\n",
       "      <td>0.0</td>\n",
       "      <td>0.194373</td>\n",
       "    </tr>\n",
       "  </tbody>\n",
       "</table>\n",
       "<p>2 rows × 246 columns</p>\n",
       "</div>"
      ],
      "text/plain": [
       "         submit  complaint  inform     third  party  process  send    letter  \\\n",
       "364212      0.0        0.0     0.0  0.000000    0.0      0.0   0.0  0.081658   \n",
       "2207116     0.0        0.0     0.0  0.062139    0.0      0.0   0.0  0.000000   \n",
       "\n",
       "         equifax    credit  ...  wrong  way  purchase  victim  stop  \\\n",
       "364212       0.0  0.157253  ...    0.0  0.0  0.000000     0.0   0.0   \n",
       "2207116      0.0  0.054401  ...    0.0  0.0  0.061215     0.0   0.0   \n",
       "\n",
       "         statement  score  transfer  online   already  \n",
       "364212    0.000000    0.0       0.0     0.0  0.000000  \n",
       "2207116   0.043737    0.0       0.0     0.0  0.194373  \n",
       "\n",
       "[2 rows x 246 columns]"
      ]
     },
     "execution_count": 22,
     "metadata": {},
     "output_type": "execute_result"
    }
   ],
   "source": [
    "tfidf_vec2 = TfidfVectorizer(min_df=0.05, max_df=0.95)\n",
    "\n",
    "vectorized_words2 = pd.DataFrame(\n",
    "    tfidf_vec2.fit_transform(X_train['lemmas'].map(lambda x: ' '.join(x))).todense(),\n",
    "    columns=list(tfidf_vec2.vocabulary_.keys()),\n",
    "    index=X_train.index)\n",
    "\n",
    "vectorized_words2.head(2)"
   ]
  },
  {
   "cell_type": "code",
   "execution_count": 23,
   "metadata": {},
   "outputs": [
    {
     "data": {
      "text/html": [
       "<div>\n",
       "<style scoped>\n",
       "    .dataframe tbody tr th:only-of-type {\n",
       "        vertical-align: middle;\n",
       "    }\n",
       "\n",
       "    .dataframe tbody tr th {\n",
       "        vertical-align: top;\n",
       "    }\n",
       "\n",
       "    .dataframe thead th {\n",
       "        text-align: right;\n",
       "    }\n",
       "</style>\n",
       "<table border=\"1\" class=\"dataframe\">\n",
       "  <thead>\n",
       "    <tr style=\"text-align: right;\">\n",
       "      <th></th>\n",
       "      <th>submit</th>\n",
       "      <th>complaint</th>\n",
       "      <th>inform</th>\n",
       "      <th>third</th>\n",
       "      <th>party</th>\n",
       "      <th>process</th>\n",
       "      <th>send</th>\n",
       "      <th>letter</th>\n",
       "      <th>equifax</th>\n",
       "      <th>credit</th>\n",
       "      <th>...</th>\n",
       "      <th>wrong</th>\n",
       "      <th>way</th>\n",
       "      <th>purchase</th>\n",
       "      <th>victim</th>\n",
       "      <th>stop</th>\n",
       "      <th>statement</th>\n",
       "      <th>score</th>\n",
       "      <th>transfer</th>\n",
       "      <th>online</th>\n",
       "      <th>already</th>\n",
       "    </tr>\n",
       "  </thead>\n",
       "  <tbody>\n",
       "    <tr>\n",
       "      <th>3277011</th>\n",
       "      <td>0.000000</td>\n",
       "      <td>0.31106</td>\n",
       "      <td>0.376439</td>\n",
       "      <td>0.0</td>\n",
       "      <td>0.0</td>\n",
       "      <td>0.0</td>\n",
       "      <td>0.186292</td>\n",
       "      <td>0.156645</td>\n",
       "      <td>0.0</td>\n",
       "      <td>0.15083</td>\n",
       "      <td>...</td>\n",
       "      <td>0.0</td>\n",
       "      <td>0.0</td>\n",
       "      <td>0.0</td>\n",
       "      <td>0.13876</td>\n",
       "      <td>0.000000</td>\n",
       "      <td>0.0</td>\n",
       "      <td>0.143111</td>\n",
       "      <td>0.0</td>\n",
       "      <td>0.0</td>\n",
       "      <td>0.0</td>\n",
       "    </tr>\n",
       "    <tr>\n",
       "      <th>2844354</th>\n",
       "      <td>0.216687</td>\n",
       "      <td>0.00000</td>\n",
       "      <td>0.000000</td>\n",
       "      <td>0.0</td>\n",
       "      <td>0.0</td>\n",
       "      <td>0.0</td>\n",
       "      <td>0.000000</td>\n",
       "      <td>0.000000</td>\n",
       "      <td>0.0</td>\n",
       "      <td>0.00000</td>\n",
       "      <td>...</td>\n",
       "      <td>0.0</td>\n",
       "      <td>0.0</td>\n",
       "      <td>0.0</td>\n",
       "      <td>0.00000</td>\n",
       "      <td>0.327832</td>\n",
       "      <td>0.0</td>\n",
       "      <td>0.000000</td>\n",
       "      <td>0.0</td>\n",
       "      <td>0.0</td>\n",
       "      <td>0.0</td>\n",
       "    </tr>\n",
       "  </tbody>\n",
       "</table>\n",
       "<p>2 rows × 246 columns</p>\n",
       "</div>"
      ],
      "text/plain": [
       "           submit  complaint    inform  third  party  process      send  \\\n",
       "3277011  0.000000    0.31106  0.376439    0.0    0.0      0.0  0.186292   \n",
       "2844354  0.216687    0.00000  0.000000    0.0    0.0      0.0  0.000000   \n",
       "\n",
       "           letter  equifax   credit  ...  wrong  way  purchase   victim  \\\n",
       "3277011  0.156645      0.0  0.15083  ...    0.0  0.0       0.0  0.13876   \n",
       "2844354  0.000000      0.0  0.00000  ...    0.0  0.0       0.0  0.00000   \n",
       "\n",
       "             stop  statement     score  transfer  online  already  \n",
       "3277011  0.000000        0.0  0.143111       0.0     0.0      0.0  \n",
       "2844354  0.327832        0.0  0.000000       0.0     0.0      0.0  \n",
       "\n",
       "[2 rows x 246 columns]"
      ]
     },
     "execution_count": 23,
     "metadata": {},
     "output_type": "execute_result"
    }
   ],
   "source": [
    "val_vectorized_words2 = pd.DataFrame(\n",
    "    tfidf_vec2.transform(X_val['lemmas'].map(lambda x: ' '.join(x))).todense(),\n",
    "    columns=list(tfidf_vec2.vocabulary_.keys()),\n",
    "    index=X_val.index)\n",
    "\n",
    "val_vectorized_words2.head(2)"
   ]
  },
  {
   "cell_type": "code",
   "execution_count": 24,
   "metadata": {},
   "outputs": [
    {
     "data": {
      "text/plain": [
       "{'baseline': {'model': MultinomialNB(),\n",
       "  'train': 0.7224333333333334,\n",
       "  'test': 0.6991},\n",
       " 'min_max_df': {'model': MultinomialNB(),\n",
       "  'train': 0.7403666666666666,\n",
       "  'test': 0.73935}}"
      ]
     },
     "execution_count": 24,
     "metadata": {},
     "output_type": "execute_result"
    }
   ],
   "source": [
    "min_max_df = MultinomialNB()\n",
    "min_max_df.fit(vectorized_words2, train_labels)\n",
    "\n",
    "model_scores['min_max_df'] = {\n",
    "    'model': clone(min_max_df),\n",
    "    'train': min_max_df.score(vectorized_words2, train_labels),\n",
    "    'test': min_max_df.score(val_vectorized_words2, val_labels)\n",
    "}\n",
    "\n",
    "model_scores"
   ]
  },
  {
   "cell_type": "markdown",
   "metadata": {},
   "source": [
    "Ignoring words which have extremely high or extremely low document frequency was helpful - it increased the accuracy of our model on the validation set by ~4%. The model is also less overfit."
   ]
  },
  {
   "cell_type": "markdown",
   "metadata": {},
   "source": [
    "Try adding bigrams."
   ]
  },
  {
   "cell_type": "code",
   "execution_count": 25,
   "metadata": {},
   "outputs": [],
   "source": [
    "tfidf_vec_w_bigrams = TfidfVectorizer(min_df=0.05, max_df=0.95, ngram_range=(1,2))\n",
    "\n",
    "vectorized_words3 = pd.DataFrame(\n",
    "    tfidf_vec_w_bigrams.fit_transform(X_train['lemmas'].map(lambda x: ' '.join(x))).todense(),\n",
    "    columns=list(tfidf_vec_w_bigrams.vocabulary_.keys()),\n",
    "    index=X_train.index)\n",
    "\n",
    "val_vectorized_words3 = pd.DataFrame(\n",
    "    tfidf_vec_w_bigrams.transform(X_val['lemmas'].map(lambda x: ' '.join(x))).todense(),\n",
    "    columns=list(tfidf_vec_w_bigrams.vocabulary_.keys()),\n",
    "    index=X_val.index)"
   ]
  },
  {
   "cell_type": "code",
   "execution_count": 26,
   "metadata": {},
   "outputs": [
    {
     "data": {
      "text/plain": [
       "{'baseline': {'model': MultinomialNB(),\n",
       "  'train': 0.7224333333333334,\n",
       "  'test': 0.6991},\n",
       " 'min_max_df': {'model': MultinomialNB(),\n",
       "  'train': 0.7403666666666666,\n",
       "  'test': 0.73935},\n",
       " 'include_bigrams': {'model': MultinomialNB(), 'train': 0.743, 'test': 0.7445}}"
      ]
     },
     "execution_count": 26,
     "metadata": {},
     "output_type": "execute_result"
    }
   ],
   "source": [
    "include_bigrams = MultinomialNB()\n",
    "include_bigrams.fit(vectorized_words3, train_labels)\n",
    "\n",
    "model_scores['include_bigrams'] = {\n",
    "    'model': clone(include_bigrams),\n",
    "    'train': include_bigrams.score(vectorized_words3, train_labels),\n",
    "    'test': include_bigrams.score(val_vectorized_words3, val_labels)\n",
    "}\n",
    "\n",
    "model_scores"
   ]
  },
  {
   "cell_type": "markdown",
   "metadata": {},
   "source": [
    "This is the best result yet, but we are still landing at a validation accuracy of 74.45%."
   ]
  },
  {
   "cell_type": "markdown",
   "metadata": {},
   "source": [
    "Try undersampling:"
   ]
  },
  {
   "cell_type": "markdown",
   "metadata": {},
   "source": [
    "Get a random undersample of the majority class, and keep all data on other classes."
   ]
  },
  {
   "cell_type": "code",
   "execution_count": 52,
   "metadata": {},
   "outputs": [],
   "source": [
    "majority_class='Credit reporting, credit repair services, or other personal consumer reports'\n",
    "\n",
    "# get indices for undersampled\n",
    "majority_indices = train.loc[train.Product==majority_class].sample(10000,\n",
    "                                                                   random_state=seed).index\n",
    "minority_indices = train.loc[train.Product!=majority_class].index\n",
    "undersampled_indices = list(set(majority_indices).union(set(minority_indices)))\n",
    "\n",
    "undersampled_X_train = X_train.loc[undersampled_indices]\n",
    "\n",
    "undersampled_train_labels = le.fit_transform(y_train[undersampled_indices])"
   ]
  },
  {
   "cell_type": "markdown",
   "metadata": {},
   "source": [
    "Vectorize this data."
   ]
  },
  {
   "cell_type": "code",
   "execution_count": 47,
   "metadata": {},
   "outputs": [],
   "source": [
    "vectorized_words4 = pd.DataFrame(\n",
    "    tfidf_vec_w_bigrams.fit_transform(\n",
    "        undersampled_X_train['lemmas'].map(lambda x: ' '.join(x))).todense(),\n",
    "        columns=list(tfidf_vec_w_bigrams.vocabulary_.keys()),\n",
    "        index=undersampled_X_train.index)\n",
    "\n",
    "val_vectorized_words4 = pd.DataFrame(\n",
    "    tfidf_vec_w_bigrams.transform(X_val['lemmas'].map(lambda x: ' '.join(x))).todense(),\n",
    "    columns=list(tfidf_vec_w_bigrams.vocabulary_.keys()),\n",
    "    index=X_val.index)"
   ]
  },
  {
   "cell_type": "markdown",
   "metadata": {},
   "source": [
    "Fit a model to vectorized, undersampled data."
   ]
  },
  {
   "cell_type": "code",
   "execution_count": 54,
   "metadata": {},
   "outputs": [
    {
     "data": {
      "text/plain": [
       "{'baseline': {'model': MultinomialNB(),\n",
       "  'train': 0.7224333333333334,\n",
       "  'test': 0.6991},\n",
       " 'min_max_df': {'model': MultinomialNB(),\n",
       "  'train': 0.7403666666666666,\n",
       "  'test': 0.73935},\n",
       " 'include_bigrams': {'model': MultinomialNB(), 'train': 0.743, 'test': 0.7445},\n",
       " 'undersampled': {'model': MultinomialNB(),\n",
       "  'train': 0.6756054702421881,\n",
       "  'test': 0.7163}}"
      ]
     },
     "execution_count": 54,
     "metadata": {},
     "output_type": "execute_result"
    }
   ],
   "source": [
    "undersampled = MultinomialNB()\n",
    "undersampled.fit(vectorized_words4, undersampled_train_labels)\n",
    "\n",
    "model_scores['undersampled'] = {\n",
    "    'model': clone(undersampled),\n",
    "    'train': undersampled.score(vectorized_words4, undersampled_train_labels),\n",
    "    'test': undersampled.score(val_vectorized_words4, val_labels)\n",
    "}\n",
    "\n",
    "model_scores"
   ]
  },
  {
   "cell_type": "markdown",
   "metadata": {},
   "source": [
    "Undersampling produced worse results."
   ]
  },
  {
   "cell_type": "markdown",
   "metadata": {},
   "source": [
    "Try a different type of classifier."
   ]
  },
  {
   "cell_type": "code",
   "execution_count": 55,
   "metadata": {},
   "outputs": [
    {
     "data": {
      "text/plain": [
       "{'baseline': {'model': MultinomialNB(),\n",
       "  'train': 0.7224333333333334,\n",
       "  'test': 0.6991},\n",
       " 'min_max_df': {'model': MultinomialNB(),\n",
       "  'train': 0.7403666666666666,\n",
       "  'test': 0.73935},\n",
       " 'include_bigrams': {'model': MultinomialNB(), 'train': 0.743, 'test': 0.7445},\n",
       " 'undersampled': {'model': MultinomialNB(),\n",
       "  'train': 0.6756054702421881,\n",
       "  'test': 0.7163},\n",
       " 'rf': {'model': RandomForestClassifier(random_state=839),\n",
       "  'train': 0.9970333333333333,\n",
       "  'test': 0.791}}"
      ]
     },
     "execution_count": 55,
     "metadata": {},
     "output_type": "execute_result"
    }
   ],
   "source": [
    "from sklearn.ensemble import RandomForestClassifier\n",
    "\n",
    "rf = RandomForestClassifier(random_state=seed)\n",
    "rf.fit(vectorized_words3, train_labels)\n",
    "\n",
    "model_scores['rf'] = {\n",
    "    'model': clone(rf),\n",
    "    'train': rf.score(vectorized_words3, train_labels),\n",
    "    'test': rf.score(val_vectorized_words3, val_labels)\n",
    "}\n",
    "\n",
    "model_scores"
   ]
  },
  {
   "cell_type": "markdown",
   "metadata": {},
   "source": [
    "The scores we obtained with the random forest classifier are our best yet, though the model is clearly overfit to the training data.\n",
    "\n",
    "The current random forest model has trees with depth close to 140. Each tree has between 10,000 and 12,000 leaves:"
   ]
  },
  {
   "cell_type": "code",
   "execution_count": 61,
   "metadata": {},
   "outputs": [
    {
     "data": {
      "text/plain": [
       "array([  144.55, 10657.02])"
      ]
     },
     "execution_count": 61,
     "metadata": {},
     "output_type": "execute_result"
    }
   ],
   "source": [
    "# checking depth and number of leaves for each tree in \"baseline\" random forest\n",
    "np.mean([(estimator.get_depth(), estimator.get_n_leaves()) for estimator in rf.estimators_],\n",
    "       axis=0)"
   ]
  },
  {
   "cell_type": "markdown",
   "metadata": {},
   "source": [
    "Tune some parameters to encourage the model not to overfit."
   ]
  },
  {
   "cell_type": "code",
   "execution_count": 62,
   "metadata": {},
   "outputs": [
    {
     "data": {
      "text/plain": [
       "{'baseline': {'model': MultinomialNB(),\n",
       "  'train': 0.7224333333333334,\n",
       "  'test': 0.6991},\n",
       " 'min_max_df': {'model': MultinomialNB(),\n",
       "  'train': 0.7403666666666666,\n",
       "  'test': 0.73935},\n",
       " 'include_bigrams': {'model': MultinomialNB(), 'train': 0.743, 'test': 0.7445},\n",
       " 'undersampled': {'model': MultinomialNB(),\n",
       "  'train': 0.6756054702421881,\n",
       "  'test': 0.7163},\n",
       " 'rf': {'model': RandomForestClassifier(random_state=839),\n",
       "  'train': 0.9970333333333333,\n",
       "  'test': 0.791},\n",
       " 'rf_grid_search1': {'model': RandomForestClassifier(max_depth=100, max_leaf_nodes=10000, n_estimators=200,\n",
       "                         random_state=839),\n",
       "  'train': 0.9971916666666667,\n",
       "  'test': 0.7918333333333333}}"
      ]
     },
     "execution_count": 62,
     "metadata": {},
     "output_type": "execute_result"
    }
   ],
   "source": [
    "from sklearn.model_selection import GridSearchCV\n",
    "\n",
    "grid = {'n_estimators': [10, 100, 200],\n",
    "        'max_depth': [1, 50, 100, 150],\n",
    "        'max_leaf_nodes': [500, 10000],\n",
    "        'random_state': [seed]}\n",
    "\n",
    "rf2 = RandomForestClassifier()\n",
    "\n",
    "grid_search = GridSearchCV(rf2, grid, scoring='accuracy', return_train_score=True)\n",
    "\n",
    "grid_search.fit(vectorized_words3, train_labels)\n",
    "\n",
    "model_scores['rf_grid_search1'] = {\n",
    "    'model': clone(grid_search.best_estimator_),\n",
    "    'train': grid_search.cv_results_['mean_train_score'][grid_search.best_index_],\n",
    "    'test': grid_search.best_score_\n",
    "}\n",
    "\n",
    "model_scores"
   ]
  },
  {
   "cell_type": "markdown",
   "metadata": {},
   "source": [
    "Our best random forest classifier from the grid search has a similar accuracy to the original random forest, and in fact, it has close to the same parameters, except that the number of estimators is increased. (The max depth is decreased also.)\n",
    "\n",
    "Before we move on, let's see if we can improve the random forest classifier by balancing the class weights."
   ]
  },
  {
   "cell_type": "code",
   "execution_count": 63,
   "metadata": {},
   "outputs": [
    {
     "data": {
      "text/plain": [
       "{'baseline': {'model': MultinomialNB(),\n",
       "  'train': 0.7224333333333334,\n",
       "  'test': 0.6991},\n",
       " 'min_max_df': {'model': MultinomialNB(),\n",
       "  'train': 0.7403666666666666,\n",
       "  'test': 0.73935},\n",
       " 'include_bigrams': {'model': MultinomialNB(), 'train': 0.743, 'test': 0.7445},\n",
       " 'undersampled': {'model': MultinomialNB(),\n",
       "  'train': 0.6756054702421881,\n",
       "  'test': 0.7163},\n",
       " 'rf': {'model': RandomForestClassifier(random_state=839),\n",
       "  'train': 0.9970333333333333,\n",
       "  'test': 0.791},\n",
       " 'rf_grid_search1': {'model': RandomForestClassifier(max_depth=100, max_leaf_nodes=10000, n_estimators=200,\n",
       "                         random_state=839),\n",
       "  'train': 0.9971916666666667,\n",
       "  'test': 0.7918333333333333},\n",
       " 'rf2': {'model': RandomForestClassifier(class_weight='balanced', random_state=839),\n",
       "  'train': 0.9958833333333333,\n",
       "  'test': 0.78685}}"
      ]
     },
     "execution_count": 63,
     "metadata": {},
     "output_type": "execute_result"
    }
   ],
   "source": [
    "rf2 = RandomForestClassifier(class_weight='balanced', random_state=seed)\n",
    "\n",
    "rf2.fit(vectorized_words3, train_labels)\n",
    "\n",
    "model_scores['rf2'] = {\n",
    "    'model': clone(rf2),\n",
    "    'train': rf2.score(vectorized_words3, train_labels),\n",
    "    'test': rf2.score(val_vectorized_words3, val_labels)\n",
    "}\n",
    "\n",
    "model_scores"
   ]
  },
  {
   "cell_type": "markdown",
   "metadata": {},
   "source": [
    "Balancing the class weights actually decreases the performance of the model.\n",
    "\n",
    "I doubt that we can do better with a logistic regression model, but let's fit one to see if we can deliver decent results with a simpler, less memory intensive type of model."
   ]
  },
  {
   "cell_type": "code",
   "execution_count": 64,
   "metadata": {
    "scrolled": true
   },
   "outputs": [
    {
     "name": "stderr",
     "output_type": "stream",
     "text": [
      "/Users/user/opt/anaconda3/envs/learn-env/lib/python3.8/site-packages/sklearn/linear_model/_logistic.py:762: ConvergenceWarning: lbfgs failed to converge (status=1):\n",
      "STOP: TOTAL NO. of ITERATIONS REACHED LIMIT.\n",
      "\n",
      "Increase the number of iterations (max_iter) or scale the data as shown in:\n",
      "    https://scikit-learn.org/stable/modules/preprocessing.html\n",
      "Please also refer to the documentation for alternative solver options:\n",
      "    https://scikit-learn.org/stable/modules/linear_model.html#logistic-regression\n",
      "  n_iter_i = _check_optimize_result(\n"
     ]
    },
    {
     "data": {
      "text/plain": [
       "{'baseline': {'model': MultinomialNB(),\n",
       "  'train': 0.7224333333333334,\n",
       "  'test': 0.6991},\n",
       " 'min_max_df': {'model': MultinomialNB(),\n",
       "  'train': 0.7403666666666666,\n",
       "  'test': 0.73935},\n",
       " 'include_bigrams': {'model': MultinomialNB(), 'train': 0.743, 'test': 0.7445},\n",
       " 'undersampled': {'model': MultinomialNB(),\n",
       "  'train': 0.6756054702421881,\n",
       "  'test': 0.7163},\n",
       " 'rf': {'model': RandomForestClassifier(random_state=839),\n",
       "  'train': 0.9970333333333333,\n",
       "  'test': 0.791},\n",
       " 'rf_grid_search1': {'model': RandomForestClassifier(max_depth=100, max_leaf_nodes=10000, n_estimators=200,\n",
       "                         random_state=839),\n",
       "  'train': 0.9971916666666667,\n",
       "  'test': 0.7918333333333333},\n",
       " 'rf2': {'model': RandomForestClassifier(class_weight='balanced', random_state=839),\n",
       "  'train': 0.9958833333333333,\n",
       "  'test': 0.78685},\n",
       " 'logreg': {'model': LogisticRegression(random_state=839),\n",
       "  'train': 0.7954666666666667,\n",
       "  'test': 0.7901}}"
      ]
     },
     "execution_count": 64,
     "metadata": {},
     "output_type": "execute_result"
    }
   ],
   "source": [
    "from sklearn.linear_model import LogisticRegression\n",
    "\n",
    "logreg = LogisticRegression(random_state=seed)\n",
    "logreg.fit(vectorized_words3, train_labels)\n",
    "\n",
    "model_scores['logreg'] = {\n",
    "    'model': clone(logreg),\n",
    "    'train': logreg.score(vectorized_words3, train_labels),\n",
    "    'test': logreg.score(val_vectorized_words3, val_labels)\n",
    "}\n",
    "\n",
    "model_scores"
   ]
  },
  {
   "cell_type": "markdown",
   "metadata": {},
   "source": [
    "A vanilla logistic regression performed almost as well as the best random forest so far, and it didn't even converge (nor is it overfit to the training data.)\n",
    "\n",
    "Try decreasing the regularization strength to see if this caused the failure to converge (and possibly also prevented overfitting.)"
   ]
  },
  {
   "cell_type": "code",
   "execution_count": 65,
   "metadata": {},
   "outputs": [
    {
     "name": "stderr",
     "output_type": "stream",
     "text": [
      "/Users/user/opt/anaconda3/envs/learn-env/lib/python3.8/site-packages/sklearn/linear_model/_logistic.py:762: ConvergenceWarning: lbfgs failed to converge (status=1):\n",
      "STOP: TOTAL NO. of ITERATIONS REACHED LIMIT.\n",
      "\n",
      "Increase the number of iterations (max_iter) or scale the data as shown in:\n",
      "    https://scikit-learn.org/stable/modules/preprocessing.html\n",
      "Please also refer to the documentation for alternative solver options:\n",
      "    https://scikit-learn.org/stable/modules/linear_model.html#logistic-regression\n",
      "  n_iter_i = _check_optimize_result(\n"
     ]
    },
    {
     "data": {
      "text/plain": [
       "{'baseline': {'model': MultinomialNB(),\n",
       "  'train': 0.7224333333333334,\n",
       "  'test': 0.6991},\n",
       " 'min_max_df': {'model': MultinomialNB(),\n",
       "  'train': 0.7403666666666666,\n",
       "  'test': 0.73935},\n",
       " 'include_bigrams': {'model': MultinomialNB(), 'train': 0.743, 'test': 0.7445},\n",
       " 'undersampled': {'model': MultinomialNB(),\n",
       "  'train': 0.6756054702421881,\n",
       "  'test': 0.7163},\n",
       " 'rf': {'model': RandomForestClassifier(random_state=839),\n",
       "  'train': 0.9970333333333333,\n",
       "  'test': 0.791},\n",
       " 'rf_grid_search1': {'model': RandomForestClassifier(max_depth=100, max_leaf_nodes=10000, n_estimators=200,\n",
       "                         random_state=839),\n",
       "  'train': 0.9971916666666667,\n",
       "  'test': 0.7918333333333333},\n",
       " 'rf2': {'model': RandomForestClassifier(class_weight='balanced', random_state=839),\n",
       "  'train': 0.9958833333333333,\n",
       "  'test': 0.78685},\n",
       " 'logreg': {'model': LogisticRegression(random_state=839),\n",
       "  'train': 0.7954666666666667,\n",
       "  'test': 0.7901},\n",
       " 'logreg2': {'model': LogisticRegression(C=10000, random_state=839),\n",
       "  'train': 0.7972333333333333,\n",
       "  'test': 0.78915}}"
      ]
     },
     "execution_count": 65,
     "metadata": {},
     "output_type": "execute_result"
    }
   ],
   "source": [
    "logreg2 = LogisticRegression(C=10000, random_state=seed)\n",
    "\n",
    "logreg2.fit(vectorized_words3, train_labels)\n",
    "\n",
    "model_scores['logreg2'] = {\n",
    "    'model': clone(logreg2),\n",
    "    'train': logreg2.score(vectorized_words3, train_labels),\n",
    "    'test': logreg2.score(val_vectorized_words3, val_labels)\n",
    "}\n",
    "\n",
    "model_scores"
   ]
  },
  {
   "cell_type": "markdown",
   "metadata": {},
   "source": [
    "Interestingly, increasing the regularization strength didn't fix the convergence problem.\n",
    "\n",
    "Increase the maximum number of iterations performed."
   ]
  },
  {
   "cell_type": "code",
   "execution_count": 66,
   "metadata": {},
   "outputs": [
    {
     "data": {
      "text/plain": [
       "{'baseline': {'model': MultinomialNB(),\n",
       "  'train': 0.7224333333333334,\n",
       "  'test': 0.6991},\n",
       " 'min_max_df': {'model': MultinomialNB(),\n",
       "  'train': 0.7403666666666666,\n",
       "  'test': 0.73935},\n",
       " 'include_bigrams': {'model': MultinomialNB(), 'train': 0.743, 'test': 0.7445},\n",
       " 'undersampled': {'model': MultinomialNB(),\n",
       "  'train': 0.6756054702421881,\n",
       "  'test': 0.7163},\n",
       " 'rf': {'model': RandomForestClassifier(random_state=839),\n",
       "  'train': 0.9970333333333333,\n",
       "  'test': 0.791},\n",
       " 'rf_grid_search1': {'model': RandomForestClassifier(max_depth=100, max_leaf_nodes=10000, n_estimators=200,\n",
       "                         random_state=839),\n",
       "  'train': 0.9971916666666667,\n",
       "  'test': 0.7918333333333333},\n",
       " 'rf2': {'model': RandomForestClassifier(class_weight='balanced', random_state=839),\n",
       "  'train': 0.9958833333333333,\n",
       "  'test': 0.78685},\n",
       " 'logreg': {'model': LogisticRegression(random_state=839),\n",
       "  'train': 0.7954666666666667,\n",
       "  'test': 0.7901},\n",
       " 'logreg2': {'model': LogisticRegression(C=10000, random_state=839),\n",
       "  'train': 0.7972333333333333,\n",
       "  'test': 0.78915},\n",
       " 'logreg3': {'model': LogisticRegression(max_iter=10000, random_state=839),\n",
       "  'train': 0.79545,\n",
       "  'test': 0.79025}}"
      ]
     },
     "execution_count": 66,
     "metadata": {},
     "output_type": "execute_result"
    }
   ],
   "source": [
    "logreg3 = LogisticRegression(max_iter=10000, random_state=seed)\n",
    "\n",
    "logreg3.fit(vectorized_words3, train_labels)\n",
    "\n",
    "model_scores['logreg3'] = {\n",
    "    'model': clone(logreg3),\n",
    "    'train': logreg3.score(vectorized_words3, train_labels),\n",
    "    'test': logreg3.score(val_vectorized_words3, val_labels)\n",
    "}\n",
    "\n",
    "model_scores"
   ]
  },
  {
   "cell_type": "markdown",
   "metadata": {},
   "source": [
    "Increasing the number of iterations fixes the lack of convergence problem, and it technically improves performance on the test set, but not by much.\n",
    "\n",
    "Try different strengths of regularization:"
   ]
  },
  {
   "cell_type": "code",
   "execution_count": 79,
   "metadata": {},
   "outputs": [
    {
     "data": {
      "text/plain": [
       "{'baseline': {'model': MultinomialNB(),\n",
       "  'train': 0.7224333333333334,\n",
       "  'test': 0.6991},\n",
       " 'min_max_df': {'model': MultinomialNB(),\n",
       "  'train': 0.7403666666666666,\n",
       "  'test': 0.73935},\n",
       " 'include_bigrams': {'model': MultinomialNB(), 'train': 0.743, 'test': 0.7445},\n",
       " 'undersampled': {'model': MultinomialNB(),\n",
       "  'train': 0.6756054702421881,\n",
       "  'test': 0.7163},\n",
       " 'rf': {'model': RandomForestClassifier(random_state=839),\n",
       "  'train': 0.9970333333333333,\n",
       "  'test': 0.791},\n",
       " 'rf_grid_search1': {'model': RandomForestClassifier(max_depth=100, max_leaf_nodes=10000, n_estimators=200,\n",
       "                         random_state=839),\n",
       "  'train': 0.9971916666666667,\n",
       "  'test': 0.7918333333333333},\n",
       " 'rf2': {'model': RandomForestClassifier(class_weight='balanced', random_state=839),\n",
       "  'train': 0.9958833333333333,\n",
       "  'test': 0.78685},\n",
       " 'logreg': {'model': LogisticRegression(random_state=839),\n",
       "  'train': 0.7954666666666667,\n",
       "  'test': 0.7901},\n",
       " 'logreg2': {'model': LogisticRegression(C=10000, random_state=839),\n",
       "  'train': 0.7972333333333333,\n",
       "  'test': 0.78915},\n",
       " 'logreg3': {'model': LogisticRegression(max_iter=10000, random_state=839),\n",
       "  'train': 0.79545,\n",
       "  'test': 0.79025},\n",
       " 'logreg_grid_search1': {'model': LogisticRegression(C=1, max_iter=10000, random_state=839),\n",
       "  'train': 0.7966666666666666,\n",
       "  'test': 0.7851}}"
      ]
     },
     "execution_count": 79,
     "metadata": {},
     "output_type": "execute_result"
    }
   ],
   "source": [
    "grid = {'C': [0.01, 0.1, 1],\n",
    "        'max_iter': [10000],\n",
    "        'random_state': [seed]}\n",
    "\n",
    "logreg4 = LogisticRegression()\n",
    "grid_search = GridSearchCV(logreg4, grid, scoring='accuracy', return_train_score=True, cv=2)\n",
    "grid_search.fit(vectorized_words3, train_labels)\n",
    "\n",
    "model_scores['logreg_grid_search1'] = {\n",
    "    'model': clone(grid_search.best_estimator_),\n",
    "    'train': grid_search.cv_results_['mean_train_score'][grid_search.best_index_],\n",
    "    'test': grid_search.best_score_\n",
    "}\n",
    "\n",
    "model_scores"
   ]
  },
  {
   "cell_type": "code",
   "execution_count": 80,
   "metadata": {},
   "outputs": [
    {
     "data": {
      "text/plain": [
       "{'baseline': {'model': MultinomialNB(),\n",
       "  'train': 0.7224333333333334,\n",
       "  'test': 0.6991},\n",
       " 'min_max_df': {'model': MultinomialNB(),\n",
       "  'train': 0.7403666666666666,\n",
       "  'test': 0.73935},\n",
       " 'include_bigrams': {'model': MultinomialNB(), 'train': 0.743, 'test': 0.7445},\n",
       " 'undersampled': {'model': MultinomialNB(),\n",
       "  'train': 0.6756054702421881,\n",
       "  'test': 0.7163},\n",
       " 'rf': {'model': RandomForestClassifier(random_state=839),\n",
       "  'train': 0.9970333333333333,\n",
       "  'test': 0.791},\n",
       " 'rf_grid_search1': {'model': RandomForestClassifier(max_depth=100, max_leaf_nodes=10000, n_estimators=200,\n",
       "                         random_state=839),\n",
       "  'train': 0.9971916666666667,\n",
       "  'test': 0.7918333333333333},\n",
       " 'rf2': {'model': RandomForestClassifier(class_weight='balanced', random_state=839),\n",
       "  'train': 0.9958833333333333,\n",
       "  'test': 0.78685},\n",
       " 'logreg': {'model': LogisticRegression(random_state=839),\n",
       "  'train': 0.7954666666666667,\n",
       "  'test': 0.7901},\n",
       " 'logreg2': {'model': LogisticRegression(C=10000, random_state=839),\n",
       "  'train': 0.7972333333333333,\n",
       "  'test': 0.78915},\n",
       " 'logreg3': {'model': LogisticRegression(max_iter=10000, random_state=839),\n",
       "  'train': 0.79545,\n",
       "  'test': 0.79025},\n",
       " 'logreg_grid_search1': {'model': LogisticRegression(C=1, max_iter=10000, random_state=839),\n",
       "  'train': 0.7966666666666666,\n",
       "  'test': 0.7851},\n",
       " 'logreg_grid_search2': {'model': LogisticRegression(C=1, max_iter=10000, random_state=839),\n",
       "  'train': 0.7966666666666666,\n",
       "  'test': 0.7851}}"
      ]
     },
     "execution_count": 80,
     "metadata": {},
     "output_type": "execute_result"
    }
   ],
   "source": [
    "grid = {'C': [1, 10, 100, 1000],\n",
    "        'max_iter': [10000],\n",
    "        'random_state': [seed]}\n",
    "\n",
    "logreg5 = LogisticRegression()\n",
    "grid_search = GridSearchCV(logreg5, grid, scoring='accuracy', return_train_score=True, cv=2)\n",
    "grid_search.fit(vectorized_words3, train_labels)\n",
    "\n",
    "model_scores['logreg_grid_search2'] = {\n",
    "    'model': clone(grid_search.best_estimator_),\n",
    "    'train': grid_search.cv_results_['mean_train_score'][grid_search.best_index_],\n",
    "    'test': grid_search.best_score_\n",
    "}\n",
    "\n",
    "model_scores"
   ]
  },
  {
   "cell_type": "code",
   "execution_count": 82,
   "metadata": {},
   "outputs": [
    {
     "data": {
      "image/png": "[encoded data removed]",
      "text/plain": [
       "<Figure size 864x576 with 2 Axes>"
      ]
     },
     "metadata": {
      "needs_background": "light"
     },
     "output_type": "display_data"
    }
   ],
   "source": [
    "fig, ax = plt.subplots(figsize=(12, 8))\n",
    "\n",
    "ConfusionMatrixDisplay(confusion_matrix(val_labels,\n",
    "                                        grid_search.best_estimator_.predict(\n",
    "                                            val_vectorized_words3),\n",
    "                                        normalize='true')).plot(ax=ax);"
   ]
  },
  {
   "cell_type": "markdown",
   "metadata": {},
   "source": [
    "Try performing PCA before fitting the model."
   ]
  },
  {
   "cell_type": "markdown",
   "metadata": {},
   "source": [
    "First, find the best model so far:"
   ]
  },
  {
   "cell_type": "code",
   "execution_count": 102,
   "metadata": {},
   "outputs": [],
   "source": [
    "results = pd.DataFrame({'model': list(model_scores.keys()),\n",
    "                        'train': [model['train'] for model in list(model_scores.values())],\n",
    "                        'test': [model['test'] for model in list(model_scores.values())]}\n",
    "            )"
   ]
  },
  {
   "cell_type": "code",
   "execution_count": 104,
   "metadata": {},
   "outputs": [
    {
     "data": {
      "text/html": [
       "<div>\n",
       "<style scoped>\n",
       "    .dataframe tbody tr th:only-of-type {\n",
       "        vertical-align: middle;\n",
       "    }\n",
       "\n",
       "    .dataframe tbody tr th {\n",
       "        vertical-align: top;\n",
       "    }\n",
       "\n",
       "    .dataframe thead th {\n",
       "        text-align: right;\n",
       "    }\n",
       "</style>\n",
       "<table border=\"1\" class=\"dataframe\">\n",
       "  <thead>\n",
       "    <tr style=\"text-align: right;\">\n",
       "      <th></th>\n",
       "      <th>model</th>\n",
       "      <th>train</th>\n",
       "      <th>test</th>\n",
       "    </tr>\n",
       "  </thead>\n",
       "  <tbody>\n",
       "    <tr>\n",
       "      <th>5</th>\n",
       "      <td>rf_grid_search1</td>\n",
       "      <td>0.997192</td>\n",
       "      <td>0.791833</td>\n",
       "    </tr>\n",
       "  </tbody>\n",
       "</table>\n",
       "</div>"
      ],
      "text/plain": [
       "             model     train      test\n",
       "5  rf_grid_search1  0.997192  0.791833"
      ]
     },
     "execution_count": 104,
     "metadata": {},
     "output_type": "execute_result"
    }
   ],
   "source": [
    "results.loc[results.test == results.test.max()]"
   ]
  },
  {
   "cell_type": "code",
   "execution_count": 106,
   "metadata": {},
   "outputs": [],
   "source": [
    "best_model_so_far = model_scores['rf_grid_search1']['model']"
   ]
  },
  {
   "cell_type": "markdown",
   "metadata": {},
   "source": [
    "# Next Steps:"
   ]
  },
  {
   "cell_type": "markdown",
   "metadata": {},
   "source": [
    "- Try Bayesian Optimization for hyperparameter turning with SciKit Optimization (with best model so far.) [Tutorial here](https://machinelearningmastery.com/scikit-optimize-for-hyperparameter-tuning-in-machine-learning/)\n",
    "- Try PCA or some other dimensionality reduction technique (with best model so far.)"
   ]
  },
  {
   "cell_type": "markdown",
   "metadata": {},
   "source": [
    "Tips from [Stack Overflow](https://stackoverflow.com/questions/20463281/how-do-i-solve-overfitting-in-random-forest-of-python-sklearn) on hyperparameter tuning for random forests:\n",
    "\n",
    "I would agree with @Falcon w.r.t. the dataset size. It's likely that the main problem is the small size of the dataset. If possible, the best thing you can do is get more data, the more data (generally) the less likely it is to overfit, as random patterns that appear predictive start to get drowned out as the dataset size increases.\n",
    "\n",
    "That said, I would look at the following params:\n",
    "\n",
    "n_estimators: @Falcon is wrong, in general the more trees the less likely the algorithm is to overfit. So try increasing this. The lower this number, the closer the model is to a decision tree, with a restricted feature set.\n",
    "\n",
    "max_features: try reducing this number (try 30-50% of the number of features). This determines how many features each tree is randomly assigned. The smaller, the less likely to overfit, but too small will start to introduce under fitting.\n",
    "\n",
    "max_depth: Experiment with this. This will reduce the complexity of the learned models, lowering over fitting risk. Try starting small, say 5-10, and increasing you get the best result.\n",
    "\n",
    "min_samples_leaf: Try setting this to values greater than one. This has a similar effect to the max_depth parameter, it means the branch will stop splitting once the leaves have that number of samples each.\n",
    "\n",
    "Note when doing this work to be scientific. Use 3 datasets, a training set, a separate 'development' dataset to tweak your parameters, and a test set that tests the final model, with the optimal parameters. Only change one parameter at a time and evaluate the result. Or experiment with the sklearn gridsearch algorithm to search across these parameters all at once."
   ]
  },
  {
   "cell_type": "code",
   "execution_count": 109,
   "metadata": {},
   "outputs": [
    {
     "ename": "KeyboardInterrupt",
     "evalue": "",
     "output_type": "error",
     "traceback": [
      "\u001b[0;31m---------------------------------------------------------------------------\u001b[0m",
      "\u001b[0;31mKeyboardInterrupt\u001b[0m                         Traceback (most recent call last)",
      "\u001b[0;32m<ipython-input-109-57c47aef56f9>\u001b[0m in \u001b[0;36m<module>\u001b[0;34m\u001b[0m\n\u001b[1;32m      8\u001b[0m     \u001b[0mtransformed\u001b[0m \u001b[0;34m=\u001b[0m \u001b[0mpca\u001b[0m\u001b[0;34m.\u001b[0m\u001b[0mfit_transform\u001b[0m\u001b[0;34m(\u001b[0m\u001b[0mvectorized_words3\u001b[0m\u001b[0;34m)\u001b[0m\u001b[0;34m\u001b[0m\u001b[0;34m\u001b[0m\u001b[0m\n\u001b[1;32m      9\u001b[0m \u001b[0;34m\u001b[0m\u001b[0m\n\u001b[0;32m---> 10\u001b[0;31m     \u001b[0mbest_model_so_far\u001b[0m\u001b[0;34m.\u001b[0m\u001b[0mfit\u001b[0m\u001b[0;34m(\u001b[0m\u001b[0mtransformed\u001b[0m\u001b[0;34m,\u001b[0m \u001b[0mtrain_labels\u001b[0m\u001b[0;34m)\u001b[0m\u001b[0;34m\u001b[0m\u001b[0;34m\u001b[0m\u001b[0m\n\u001b[0m\u001b[1;32m     11\u001b[0m \u001b[0;34m\u001b[0m\u001b[0m\n\u001b[1;32m     12\u001b[0m     \u001b[0mscore\u001b[0m \u001b[0;34m=\u001b[0m \u001b[0mbest_model_so_far\u001b[0m\u001b[0;34m.\u001b[0m\u001b[0mscore\u001b[0m\u001b[0;34m(\u001b[0m\u001b[0mpca\u001b[0m\u001b[0;34m.\u001b[0m\u001b[0mtransform\u001b[0m\u001b[0;34m(\u001b[0m\u001b[0mval_vectorized_words3\u001b[0m\u001b[0;34m)\u001b[0m\u001b[0;34m,\u001b[0m \u001b[0mval_labels\u001b[0m\u001b[0;34m)\u001b[0m\u001b[0;34m\u001b[0m\u001b[0;34m\u001b[0m\u001b[0m\n",
      "\u001b[0;32m~/opt/anaconda3/envs/learn-env/lib/python3.8/site-packages/sklearn/ensemble/_forest.py\u001b[0m in \u001b[0;36mfit\u001b[0;34m(self, X, y, sample_weight)\u001b[0m\n\u001b[1;32m    384\u001b[0m             \u001b[0;31m# parallel_backend contexts set at a higher level,\u001b[0m\u001b[0;34m\u001b[0m\u001b[0;34m\u001b[0m\u001b[0;34m\u001b[0m\u001b[0m\n\u001b[1;32m    385\u001b[0m             \u001b[0;31m# since correctness does not rely on using threads.\u001b[0m\u001b[0;34m\u001b[0m\u001b[0;34m\u001b[0m\u001b[0;34m\u001b[0m\u001b[0m\n\u001b[0;32m--> 386\u001b[0;31m             trees = Parallel(n_jobs=self.n_jobs, verbose=self.verbose,\n\u001b[0m\u001b[1;32m    387\u001b[0m                              \u001b[0;34m**\u001b[0m\u001b[0m_joblib_parallel_args\u001b[0m\u001b[0;34m(\u001b[0m\u001b[0mprefer\u001b[0m\u001b[0;34m=\u001b[0m\u001b[0;34m'threads'\u001b[0m\u001b[0;34m)\u001b[0m\u001b[0;34m)\u001b[0m\u001b[0;34m(\u001b[0m\u001b[0;34m\u001b[0m\u001b[0;34m\u001b[0m\u001b[0m\n\u001b[1;32m    388\u001b[0m                 delayed(_parallel_build_trees)(\n",
      "\u001b[0;32m~/opt/anaconda3/envs/learn-env/lib/python3.8/site-packages/joblib/parallel.py\u001b[0m in \u001b[0;36m__call__\u001b[0;34m(self, iterable)\u001b[0m\n\u001b[1;32m   1049\u001b[0m                 \u001b[0mself\u001b[0m\u001b[0;34m.\u001b[0m\u001b[0m_iterating\u001b[0m \u001b[0;34m=\u001b[0m \u001b[0mself\u001b[0m\u001b[0;34m.\u001b[0m\u001b[0m_original_iterator\u001b[0m \u001b[0;32mis\u001b[0m \u001b[0;32mnot\u001b[0m \u001b[0;32mNone\u001b[0m\u001b[0;34m\u001b[0m\u001b[0;34m\u001b[0m\u001b[0m\n\u001b[1;32m   1050\u001b[0m \u001b[0;34m\u001b[0m\u001b[0m\n\u001b[0;32m-> 1051\u001b[0;31m             \u001b[0;32mwhile\u001b[0m \u001b[0mself\u001b[0m\u001b[0;34m.\u001b[0m\u001b[0mdispatch_one_batch\u001b[0m\u001b[0;34m(\u001b[0m\u001b[0miterator\u001b[0m\u001b[0;34m)\u001b[0m\u001b[0;34m:\u001b[0m\u001b[0;34m\u001b[0m\u001b[0;34m\u001b[0m\u001b[0m\n\u001b[0m\u001b[1;32m   1052\u001b[0m                 \u001b[0;32mpass\u001b[0m\u001b[0;34m\u001b[0m\u001b[0;34m\u001b[0m\u001b[0m\n\u001b[1;32m   1053\u001b[0m \u001b[0;34m\u001b[0m\u001b[0m\n",
      "\u001b[0;32m~/opt/anaconda3/envs/learn-env/lib/python3.8/site-packages/joblib/parallel.py\u001b[0m in \u001b[0;36mdispatch_one_batch\u001b[0;34m(self, iterator)\u001b[0m\n\u001b[1;32m    864\u001b[0m                 \u001b[0;32mreturn\u001b[0m \u001b[0;32mFalse\u001b[0m\u001b[0;34m\u001b[0m\u001b[0;34m\u001b[0m\u001b[0m\n\u001b[1;32m    865\u001b[0m             \u001b[0;32melse\u001b[0m\u001b[0;34m:\u001b[0m\u001b[0;34m\u001b[0m\u001b[0;34m\u001b[0m\u001b[0m\n\u001b[0;32m--> 866\u001b[0;31m                 \u001b[0mself\u001b[0m\u001b[0;34m.\u001b[0m\u001b[0m_dispatch\u001b[0m\u001b[0;34m(\u001b[0m\u001b[0mtasks\u001b[0m\u001b[0;34m)\u001b[0m\u001b[0;34m\u001b[0m\u001b[0;34m\u001b[0m\u001b[0m\n\u001b[0m\u001b[1;32m    867\u001b[0m                 \u001b[0;32mreturn\u001b[0m \u001b[0;32mTrue\u001b[0m\u001b[0;34m\u001b[0m\u001b[0;34m\u001b[0m\u001b[0m\n\u001b[1;32m    868\u001b[0m \u001b[0;34m\u001b[0m\u001b[0m\n",
      "\u001b[0;32m~/opt/anaconda3/envs/learn-env/lib/python3.8/site-packages/joblib/parallel.py\u001b[0m in \u001b[0;36m_dispatch\u001b[0;34m(self, batch)\u001b[0m\n\u001b[1;32m    782\u001b[0m         \u001b[0;32mwith\u001b[0m \u001b[0mself\u001b[0m\u001b[0;34m.\u001b[0m\u001b[0m_lock\u001b[0m\u001b[0;34m:\u001b[0m\u001b[0;34m\u001b[0m\u001b[0;34m\u001b[0m\u001b[0m\n\u001b[1;32m    783\u001b[0m             \u001b[0mjob_idx\u001b[0m \u001b[0;34m=\u001b[0m \u001b[0mlen\u001b[0m\u001b[0;34m(\u001b[0m\u001b[0mself\u001b[0m\u001b[0;34m.\u001b[0m\u001b[0m_jobs\u001b[0m\u001b[0;34m)\u001b[0m\u001b[0;34m\u001b[0m\u001b[0;34m\u001b[0m\u001b[0m\n\u001b[0;32m--> 784\u001b[0;31m             \u001b[0mjob\u001b[0m \u001b[0;34m=\u001b[0m \u001b[0mself\u001b[0m\u001b[0;34m.\u001b[0m\u001b[0m_backend\u001b[0m\u001b[0;34m.\u001b[0m\u001b[0mapply_async\u001b[0m\u001b[0;34m(\u001b[0m\u001b[0mbatch\u001b[0m\u001b[0;34m,\u001b[0m \u001b[0mcallback\u001b[0m\u001b[0;34m=\u001b[0m\u001b[0mcb\u001b[0m\u001b[0;34m)\u001b[0m\u001b[0;34m\u001b[0m\u001b[0;34m\u001b[0m\u001b[0m\n\u001b[0m\u001b[1;32m    785\u001b[0m             \u001b[0;31m# A job can complete so quickly than its callback is\u001b[0m\u001b[0;34m\u001b[0m\u001b[0;34m\u001b[0m\u001b[0;34m\u001b[0m\u001b[0m\n\u001b[1;32m    786\u001b[0m             \u001b[0;31m# called before we get here, causing self._jobs to\u001b[0m\u001b[0;34m\u001b[0m\u001b[0;34m\u001b[0m\u001b[0;34m\u001b[0m\u001b[0m\n",
      "\u001b[0;32m~/opt/anaconda3/envs/learn-env/lib/python3.8/site-packages/joblib/_parallel_backends.py\u001b[0m in \u001b[0;36mapply_async\u001b[0;34m(self, func, callback)\u001b[0m\n\u001b[1;32m    206\u001b[0m     \u001b[0;32mdef\u001b[0m \u001b[0mapply_async\u001b[0m\u001b[0;34m(\u001b[0m\u001b[0mself\u001b[0m\u001b[0;34m,\u001b[0m \u001b[0mfunc\u001b[0m\u001b[0;34m,\u001b[0m \u001b[0mcallback\u001b[0m\u001b[0;34m=\u001b[0m\u001b[0;32mNone\u001b[0m\u001b[0;34m)\u001b[0m\u001b[0;34m:\u001b[0m\u001b[0;34m\u001b[0m\u001b[0;34m\u001b[0m\u001b[0m\n\u001b[1;32m    207\u001b[0m         \u001b[0;34m\"\"\"Schedule a func to be run\"\"\"\u001b[0m\u001b[0;34m\u001b[0m\u001b[0;34m\u001b[0m\u001b[0m\n\u001b[0;32m--> 208\u001b[0;31m         \u001b[0mresult\u001b[0m \u001b[0;34m=\u001b[0m \u001b[0mImmediateResult\u001b[0m\u001b[0;34m(\u001b[0m\u001b[0mfunc\u001b[0m\u001b[0;34m)\u001b[0m\u001b[0;34m\u001b[0m\u001b[0;34m\u001b[0m\u001b[0m\n\u001b[0m\u001b[1;32m    209\u001b[0m         \u001b[0;32mif\u001b[0m \u001b[0mcallback\u001b[0m\u001b[0;34m:\u001b[0m\u001b[0;34m\u001b[0m\u001b[0;34m\u001b[0m\u001b[0m\n\u001b[1;32m    210\u001b[0m             \u001b[0mcallback\u001b[0m\u001b[0;34m(\u001b[0m\u001b[0mresult\u001b[0m\u001b[0;34m)\u001b[0m\u001b[0;34m\u001b[0m\u001b[0;34m\u001b[0m\u001b[0m\n",
      "\u001b[0;32m~/opt/anaconda3/envs/learn-env/lib/python3.8/site-packages/joblib/_parallel_backends.py\u001b[0m in \u001b[0;36m__init__\u001b[0;34m(self, batch)\u001b[0m\n\u001b[1;32m    570\u001b[0m         \u001b[0;31m# Don't delay the application, to avoid keeping the input\u001b[0m\u001b[0;34m\u001b[0m\u001b[0;34m\u001b[0m\u001b[0;34m\u001b[0m\u001b[0m\n\u001b[1;32m    571\u001b[0m         \u001b[0;31m# arguments in memory\u001b[0m\u001b[0;34m\u001b[0m\u001b[0;34m\u001b[0m\u001b[0;34m\u001b[0m\u001b[0m\n\u001b[0;32m--> 572\u001b[0;31m         \u001b[0mself\u001b[0m\u001b[0;34m.\u001b[0m\u001b[0mresults\u001b[0m \u001b[0;34m=\u001b[0m \u001b[0mbatch\u001b[0m\u001b[0;34m(\u001b[0m\u001b[0;34m)\u001b[0m\u001b[0;34m\u001b[0m\u001b[0;34m\u001b[0m\u001b[0m\n\u001b[0m\u001b[1;32m    573\u001b[0m \u001b[0;34m\u001b[0m\u001b[0m\n\u001b[1;32m    574\u001b[0m     \u001b[0;32mdef\u001b[0m \u001b[0mget\u001b[0m\u001b[0;34m(\u001b[0m\u001b[0mself\u001b[0m\u001b[0;34m)\u001b[0m\u001b[0;34m:\u001b[0m\u001b[0;34m\u001b[0m\u001b[0;34m\u001b[0m\u001b[0m\n",
      "\u001b[0;32m~/opt/anaconda3/envs/learn-env/lib/python3.8/site-packages/joblib/parallel.py\u001b[0m in \u001b[0;36m__call__\u001b[0;34m(self)\u001b[0m\n\u001b[1;32m    260\u001b[0m         \u001b[0;31m# change the default number of processes to -1\u001b[0m\u001b[0;34m\u001b[0m\u001b[0;34m\u001b[0m\u001b[0;34m\u001b[0m\u001b[0m\n\u001b[1;32m    261\u001b[0m         \u001b[0;32mwith\u001b[0m \u001b[0mparallel_backend\u001b[0m\u001b[0;34m(\u001b[0m\u001b[0mself\u001b[0m\u001b[0;34m.\u001b[0m\u001b[0m_backend\u001b[0m\u001b[0;34m,\u001b[0m \u001b[0mn_jobs\u001b[0m\u001b[0;34m=\u001b[0m\u001b[0mself\u001b[0m\u001b[0;34m.\u001b[0m\u001b[0m_n_jobs\u001b[0m\u001b[0;34m)\u001b[0m\u001b[0;34m:\u001b[0m\u001b[0;34m\u001b[0m\u001b[0;34m\u001b[0m\u001b[0m\n\u001b[0;32m--> 262\u001b[0;31m             return [func(*args, **kwargs)\n\u001b[0m\u001b[1;32m    263\u001b[0m                     for func, args, kwargs in self.items]\n\u001b[1;32m    264\u001b[0m \u001b[0;34m\u001b[0m\u001b[0m\n",
      "\u001b[0;32m~/opt/anaconda3/envs/learn-env/lib/python3.8/site-packages/joblib/parallel.py\u001b[0m in \u001b[0;36m<listcomp>\u001b[0;34m(.0)\u001b[0m\n\u001b[1;32m    260\u001b[0m         \u001b[0;31m# change the default number of processes to -1\u001b[0m\u001b[0;34m\u001b[0m\u001b[0;34m\u001b[0m\u001b[0;34m\u001b[0m\u001b[0m\n\u001b[1;32m    261\u001b[0m         \u001b[0;32mwith\u001b[0m \u001b[0mparallel_backend\u001b[0m\u001b[0;34m(\u001b[0m\u001b[0mself\u001b[0m\u001b[0;34m.\u001b[0m\u001b[0m_backend\u001b[0m\u001b[0;34m,\u001b[0m \u001b[0mn_jobs\u001b[0m\u001b[0;34m=\u001b[0m\u001b[0mself\u001b[0m\u001b[0;34m.\u001b[0m\u001b[0m_n_jobs\u001b[0m\u001b[0;34m)\u001b[0m\u001b[0;34m:\u001b[0m\u001b[0;34m\u001b[0m\u001b[0;34m\u001b[0m\u001b[0m\n\u001b[0;32m--> 262\u001b[0;31m             return [func(*args, **kwargs)\n\u001b[0m\u001b[1;32m    263\u001b[0m                     for func, args, kwargs in self.items]\n\u001b[1;32m    264\u001b[0m \u001b[0;34m\u001b[0m\u001b[0m\n",
      "\u001b[0;32m~/opt/anaconda3/envs/learn-env/lib/python3.8/site-packages/sklearn/ensemble/_forest.py\u001b[0m in \u001b[0;36m_parallel_build_trees\u001b[0;34m(tree, forest, X, y, sample_weight, tree_idx, n_trees, verbose, class_weight, n_samples_bootstrap)\u001b[0m\n\u001b[1;32m    166\u001b[0m                                                         indices=indices)\n\u001b[1;32m    167\u001b[0m \u001b[0;34m\u001b[0m\u001b[0m\n\u001b[0;32m--> 168\u001b[0;31m         \u001b[0mtree\u001b[0m\u001b[0;34m.\u001b[0m\u001b[0mfit\u001b[0m\u001b[0;34m(\u001b[0m\u001b[0mX\u001b[0m\u001b[0;34m,\u001b[0m \u001b[0my\u001b[0m\u001b[0;34m,\u001b[0m \u001b[0msample_weight\u001b[0m\u001b[0;34m=\u001b[0m\u001b[0mcurr_sample_weight\u001b[0m\u001b[0;34m,\u001b[0m \u001b[0mcheck_input\u001b[0m\u001b[0;34m=\u001b[0m\u001b[0;32mFalse\u001b[0m\u001b[0;34m)\u001b[0m\u001b[0;34m\u001b[0m\u001b[0;34m\u001b[0m\u001b[0m\n\u001b[0m\u001b[1;32m    169\u001b[0m     \u001b[0;32melse\u001b[0m\u001b[0;34m:\u001b[0m\u001b[0;34m\u001b[0m\u001b[0;34m\u001b[0m\u001b[0m\n\u001b[1;32m    170\u001b[0m         \u001b[0mtree\u001b[0m\u001b[0;34m.\u001b[0m\u001b[0mfit\u001b[0m\u001b[0;34m(\u001b[0m\u001b[0mX\u001b[0m\u001b[0;34m,\u001b[0m \u001b[0my\u001b[0m\u001b[0;34m,\u001b[0m \u001b[0msample_weight\u001b[0m\u001b[0;34m=\u001b[0m\u001b[0msample_weight\u001b[0m\u001b[0;34m,\u001b[0m \u001b[0mcheck_input\u001b[0m\u001b[0;34m=\u001b[0m\u001b[0;32mFalse\u001b[0m\u001b[0;34m)\u001b[0m\u001b[0;34m\u001b[0m\u001b[0;34m\u001b[0m\u001b[0m\n",
      "\u001b[0;32m~/opt/anaconda3/envs/learn-env/lib/python3.8/site-packages/sklearn/tree/_classes.py\u001b[0m in \u001b[0;36mfit\u001b[0;34m(self, X, y, sample_weight, check_input, X_idx_sorted)\u001b[0m\n\u001b[1;32m    888\u001b[0m         \"\"\"\n\u001b[1;32m    889\u001b[0m \u001b[0;34m\u001b[0m\u001b[0m\n\u001b[0;32m--> 890\u001b[0;31m         super().fit(\n\u001b[0m\u001b[1;32m    891\u001b[0m             \u001b[0mX\u001b[0m\u001b[0;34m,\u001b[0m \u001b[0my\u001b[0m\u001b[0;34m,\u001b[0m\u001b[0;34m\u001b[0m\u001b[0;34m\u001b[0m\u001b[0m\n\u001b[1;32m    892\u001b[0m             \u001b[0msample_weight\u001b[0m\u001b[0;34m=\u001b[0m\u001b[0msample_weight\u001b[0m\u001b[0;34m,\u001b[0m\u001b[0;34m\u001b[0m\u001b[0;34m\u001b[0m\u001b[0m\n",
      "\u001b[0;32m~/opt/anaconda3/envs/learn-env/lib/python3.8/site-packages/sklearn/tree/_classes.py\u001b[0m in \u001b[0;36mfit\u001b[0;34m(self, X, y, sample_weight, check_input, X_idx_sorted)\u001b[0m\n\u001b[1;32m    373\u001b[0m                                            min_impurity_split)\n\u001b[1;32m    374\u001b[0m \u001b[0;34m\u001b[0m\u001b[0m\n\u001b[0;32m--> 375\u001b[0;31m         \u001b[0mbuilder\u001b[0m\u001b[0;34m.\u001b[0m\u001b[0mbuild\u001b[0m\u001b[0;34m(\u001b[0m\u001b[0mself\u001b[0m\u001b[0;34m.\u001b[0m\u001b[0mtree_\u001b[0m\u001b[0;34m,\u001b[0m \u001b[0mX\u001b[0m\u001b[0;34m,\u001b[0m \u001b[0my\u001b[0m\u001b[0;34m,\u001b[0m \u001b[0msample_weight\u001b[0m\u001b[0;34m,\u001b[0m \u001b[0mX_idx_sorted\u001b[0m\u001b[0;34m)\u001b[0m\u001b[0;34m\u001b[0m\u001b[0;34m\u001b[0m\u001b[0m\n\u001b[0m\u001b[1;32m    376\u001b[0m \u001b[0;34m\u001b[0m\u001b[0m\n\u001b[1;32m    377\u001b[0m         \u001b[0;32mif\u001b[0m \u001b[0mself\u001b[0m\u001b[0;34m.\u001b[0m\u001b[0mn_outputs_\u001b[0m \u001b[0;34m==\u001b[0m \u001b[0;36m1\u001b[0m \u001b[0;32mand\u001b[0m \u001b[0mis_classifier\u001b[0m\u001b[0;34m(\u001b[0m\u001b[0mself\u001b[0m\u001b[0;34m)\u001b[0m\u001b[0;34m:\u001b[0m\u001b[0;34m\u001b[0m\u001b[0;34m\u001b[0m\u001b[0m\n",
      "\u001b[0;31mKeyboardInterrupt\u001b[0m: "
     ]
    }
   ],
   "source": [
    "from sklearn.decomposition import PCA\n",
    "\n",
    "scores = []\n",
    "\n",
    "for n in range(1, len(vectorized_words3)):\n",
    "    pca = PCA(n_components=n, random_state=seed)\n",
    "    \n",
    "    transformed = pca.fit_transform(vectorized_words3)\n",
    "    \n",
    "    best_model_so_far.fit(transformed, train_labels)\n",
    "    \n",
    "    score = best_model_so_far.score(pca.transform(val_vectorized_words3), val_labels)\n",
    "    \n",
    "    scores.append(score)\n",
    "    \n",
    "    if score >= 0.8:\n",
    "        break\n",
    "    else:\n",
    "        continue"
   ]
  },
  {
   "cell_type": "code",
   "execution_count": null,
   "metadata": {},
   "outputs": [],
   "source": [
    "fig, ax = plt.subplots()\n",
    "\n",
    "plt.plot(x=list(np.range(1, n)), y=scores)\n",
    "\n",
    "ax.set(title='Accuracy by Number of Components Used in PCA',\n",
    "       ylabel='Validation Accuracy',\n",
    "       xlabel='Number of Components Kept');"
   ]
  }
 ],
 "metadata": {
  "kernelspec": {
   "display_name": "Python (learn-env)",
   "language": "python",
   "name": "learn-env"
  },
  "toc": {
   "base_numbering": 1,
   "nav_menu": {},
   "number_sections": false,
   "sideBar": true,
   "skip_h1_title": false,
   "title_cell": "Table of Contents",
   "title_sidebar": "Contents",
   "toc_cell": false,
   "toc_position": {},
   "toc_section_display": true,
   "toc_window_display": false
  }
 },
 "nbformat": 4,
 "nbformat_minor": 4
}
