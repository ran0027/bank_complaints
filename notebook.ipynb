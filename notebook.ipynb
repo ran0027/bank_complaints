{
 "cells": [
  {
   "cell_type": "markdown",
   "metadata": {},
   "source": []
  },
  {
   "cell_type": "code",
   "execution_count": 1,
   "metadata": {},
   "outputs": [],
   "source": [
    "from zipfile import ZipFile\n",
    "\n",
    "import pandas as pd\n",
    "import numpy as np\n",
    "import matplotlib.pyplot as plt"
   ]
  },
  {
   "cell_type": "code",
   "execution_count": 2,
   "metadata": {},
   "outputs": [
    {
     "name": "stderr",
     "output_type": "stream",
     "text": [
      "<decorator-gen-54>:2: DtypeWarning: Columns (9,16) have mixed types.Specify dtype option on import or set low_memory=False.\n"
     ]
    },
    {
     "name": "stdout",
     "output_type": "stream",
     "text": [
      "CPU times: user 25.2 s, sys: 2.36 s, total: 27.5 s\n",
      "Wall time: 28.6 s\n"
     ]
    },
    {
     "data": {
      "text/html": [
       "<div>\n",
       "<style scoped>\n",
       "    .dataframe tbody tr th:only-of-type {\n",
       "        vertical-align: middle;\n",
       "    }\n",
       "\n",
       "    .dataframe tbody tr th {\n",
       "        vertical-align: top;\n",
       "    }\n",
       "\n",
       "    .dataframe thead th {\n",
       "        text-align: right;\n",
       "    }\n",
       "</style>\n",
       "<table border=\"1\" class=\"dataframe\">\n",
       "  <thead>\n",
       "    <tr style=\"text-align: right;\">\n",
       "      <th></th>\n",
       "      <th>Date received</th>\n",
       "      <th>Product</th>\n",
       "      <th>Sub-product</th>\n",
       "      <th>Issue</th>\n",
       "      <th>Sub-issue</th>\n",
       "      <th>Consumer complaint narrative</th>\n",
       "      <th>Company public response</th>\n",
       "      <th>Company</th>\n",
       "      <th>State</th>\n",
       "      <th>ZIP code</th>\n",
       "      <th>Tags</th>\n",
       "      <th>Consumer consent provided?</th>\n",
       "      <th>Submitted via</th>\n",
       "      <th>Date sent to company</th>\n",
       "      <th>Company response to consumer</th>\n",
       "      <th>Timely response?</th>\n",
       "      <th>Consumer disputed?</th>\n",
       "      <th>Complaint ID</th>\n",
       "    </tr>\n",
       "  </thead>\n",
       "  <tbody>\n",
       "    <tr>\n",
       "      <th>0</th>\n",
       "      <td>2023-03-02</td>\n",
       "      <td>Debt collection</td>\n",
       "      <td>Medical debt</td>\n",
       "      <td>Written notification about debt</td>\n",
       "      <td>Didn't receive enough information to verify debt</td>\n",
       "      <td>NaN</td>\n",
       "      <td>NaN</td>\n",
       "      <td>LANIER COLLECTIONS AGENCY AND SERVICES INC</td>\n",
       "      <td>SC</td>\n",
       "      <td>29410</td>\n",
       "      <td>NaN</td>\n",
       "      <td>NaN</td>\n",
       "      <td>Web</td>\n",
       "      <td>2023-03-02</td>\n",
       "      <td>Closed with explanation</td>\n",
       "      <td>Yes</td>\n",
       "      <td>NaN</td>\n",
       "      <td>6641514</td>\n",
       "    </tr>\n",
       "    <tr>\n",
       "      <th>1</th>\n",
       "      <td>2023-03-02</td>\n",
       "      <td>Payday loan, title loan, or personal loan</td>\n",
       "      <td>Personal line of credit</td>\n",
       "      <td>Problem when making payments</td>\n",
       "      <td>NaN</td>\n",
       "      <td>NaN</td>\n",
       "      <td>NaN</td>\n",
       "      <td>SECURITY SERVICE FEDERAL CREDIT UNION</td>\n",
       "      <td>TX</td>\n",
       "      <td>78214</td>\n",
       "      <td>NaN</td>\n",
       "      <td>NaN</td>\n",
       "      <td>Phone</td>\n",
       "      <td>2023-03-02</td>\n",
       "      <td>In progress</td>\n",
       "      <td>Yes</td>\n",
       "      <td>NaN</td>\n",
       "      <td>6638236</td>\n",
       "    </tr>\n",
       "    <tr>\n",
       "      <th>2</th>\n",
       "      <td>2023-03-02</td>\n",
       "      <td>Mortgage</td>\n",
       "      <td>Conventional home mortgage</td>\n",
       "      <td>Closing on a mortgage</td>\n",
       "      <td>NaN</td>\n",
       "      <td>NaN</td>\n",
       "      <td>NaN</td>\n",
       "      <td>WELLS FARGO &amp; COMPANY</td>\n",
       "      <td>KS</td>\n",
       "      <td>66205</td>\n",
       "      <td>NaN</td>\n",
       "      <td>NaN</td>\n",
       "      <td>Postal mail</td>\n",
       "      <td>2023-03-02</td>\n",
       "      <td>In progress</td>\n",
       "      <td>Yes</td>\n",
       "      <td>NaN</td>\n",
       "      <td>6641527</td>\n",
       "    </tr>\n",
       "    <tr>\n",
       "      <th>3</th>\n",
       "      <td>2023-03-02</td>\n",
       "      <td>Debt collection</td>\n",
       "      <td>I do not know</td>\n",
       "      <td>Written notification about debt</td>\n",
       "      <td>Didn't receive enough information to verify debt</td>\n",
       "      <td>NaN</td>\n",
       "      <td>NaN</td>\n",
       "      <td>Kinum, Inc., Indianapolis, IN Branch</td>\n",
       "      <td>SC</td>\n",
       "      <td>29505</td>\n",
       "      <td>NaN</td>\n",
       "      <td>NaN</td>\n",
       "      <td>Web</td>\n",
       "      <td>2023-03-02</td>\n",
       "      <td>Closed with explanation</td>\n",
       "      <td>Yes</td>\n",
       "      <td>NaN</td>\n",
       "      <td>6638245</td>\n",
       "    </tr>\n",
       "    <tr>\n",
       "      <th>4</th>\n",
       "      <td>2013-04-09</td>\n",
       "      <td>Credit reporting</td>\n",
       "      <td>NaN</td>\n",
       "      <td>Incorrect information on credit report</td>\n",
       "      <td>Account status</td>\n",
       "      <td>NaN</td>\n",
       "      <td>NaN</td>\n",
       "      <td>TRANSUNION INTERMEDIATE HOLDINGS, INC.</td>\n",
       "      <td>TN</td>\n",
       "      <td>37138</td>\n",
       "      <td>NaN</td>\n",
       "      <td>NaN</td>\n",
       "      <td>Postal mail</td>\n",
       "      <td>2013-04-16</td>\n",
       "      <td>Closed with explanation</td>\n",
       "      <td>Yes</td>\n",
       "      <td>No</td>\n",
       "      <td>376922</td>\n",
       "    </tr>\n",
       "  </tbody>\n",
       "</table>\n",
       "</div>"
      ],
      "text/plain": [
       "  Date received                                    Product  \\\n",
       "0    2023-03-02                            Debt collection   \n",
       "1    2023-03-02  Payday loan, title loan, or personal loan   \n",
       "2    2023-03-02                                   Mortgage   \n",
       "3    2023-03-02                            Debt collection   \n",
       "4    2013-04-09                           Credit reporting   \n",
       "\n",
       "                  Sub-product                                   Issue  \\\n",
       "0                Medical debt         Written notification about debt   \n",
       "1     Personal line of credit            Problem when making payments   \n",
       "2  Conventional home mortgage                   Closing on a mortgage   \n",
       "3               I do not know         Written notification about debt   \n",
       "4                         NaN  Incorrect information on credit report   \n",
       "\n",
       "                                          Sub-issue  \\\n",
       "0  Didn't receive enough information to verify debt   \n",
       "1                                               NaN   \n",
       "2                                               NaN   \n",
       "3  Didn't receive enough information to verify debt   \n",
       "4                                    Account status   \n",
       "\n",
       "  Consumer complaint narrative Company public response  \\\n",
       "0                          NaN                     NaN   \n",
       "1                          NaN                     NaN   \n",
       "2                          NaN                     NaN   \n",
       "3                          NaN                     NaN   \n",
       "4                          NaN                     NaN   \n",
       "\n",
       "                                      Company State ZIP code Tags  \\\n",
       "0  LANIER COLLECTIONS AGENCY AND SERVICES INC    SC    29410  NaN   \n",
       "1       SECURITY SERVICE FEDERAL CREDIT UNION    TX    78214  NaN   \n",
       "2                       WELLS FARGO & COMPANY    KS    66205  NaN   \n",
       "3        Kinum, Inc., Indianapolis, IN Branch    SC    29505  NaN   \n",
       "4      TRANSUNION INTERMEDIATE HOLDINGS, INC.    TN    37138  NaN   \n",
       "\n",
       "  Consumer consent provided? Submitted via Date sent to company  \\\n",
       "0                        NaN           Web           2023-03-02   \n",
       "1                        NaN         Phone           2023-03-02   \n",
       "2                        NaN   Postal mail           2023-03-02   \n",
       "3                        NaN           Web           2023-03-02   \n",
       "4                        NaN   Postal mail           2013-04-16   \n",
       "\n",
       "  Company response to consumer Timely response? Consumer disputed?  \\\n",
       "0      Closed with explanation              Yes                NaN   \n",
       "1                  In progress              Yes                NaN   \n",
       "2                  In progress              Yes                NaN   \n",
       "3      Closed with explanation              Yes                NaN   \n",
       "4      Closed with explanation              Yes                 No   \n",
       "\n",
       "   Complaint ID  \n",
       "0       6641514  \n",
       "1       6638236  \n",
       "2       6641527  \n",
       "3       6638245  \n",
       "4        376922  "
      ]
     },
     "execution_count": 2,
     "metadata": {},
     "output_type": "execute_result"
    }
   ],
   "source": [
    "%%time\n",
    "\n",
    "with ZipFile('data/complaints.csv.zip') as zipArchive:\n",
    "    with zipArchive.open('complaints.csv') as f:\n",
    "        data = pd.read_csv(f)\n",
    "        \n",
    "data.head()"
   ]
  },
  {
   "cell_type": "markdown",
   "metadata": {},
   "source": [
    "Because I want to work with the consumer complaint narratives, I am going to drop all of the complaints without a narrative. This will leave me with about 1.2 million complaints (down from about 3.5 million.)"
   ]
  },
  {
   "cell_type": "code",
   "execution_count": 3,
   "metadata": {},
   "outputs": [],
   "source": [
    "data.dropna(axis=0, subset=['Consumer complaint narrative'], inplace=True)"
   ]
  },
  {
   "cell_type": "markdown",
   "metadata": {},
   "source": [
    "Now I want to look at the distribution of the products / sub products."
   ]
  },
  {
   "cell_type": "code",
   "execution_count": 18,
   "metadata": {},
   "outputs": [
    {
     "data": {
      "image/png": "[encoded data removed]",
      "text/plain": [
       "<Figure size 432x288 with 1 Axes>"
      ]
     },
     "metadata": {
      "needs_background": "light"
     },
     "output_type": "display_data"
    }
   ],
   "source": [
    "data.Product.value_counts().plot(kind='barh');"
   ]
  },
  {
   "cell_type": "code",
   "execution_count": 46,
   "metadata": {},
   "outputs": [
    {
     "data": {
      "image/png": "[encoded data removed]",
      "text/plain": [
       "<Figure size 1296x864 with 18 Axes>"
      ]
     },
     "metadata": {
      "needs_background": "light"
     },
     "output_type": "display_data"
    }
   ],
   "source": [
    "fig, ax = plt.subplots(nrows=6, ncols=3, figsize=(18, 12))\n",
    "\n",
    "for n, product in enumerate(np.unique(data.Product)):\n",
    "    i = n // 3\n",
    "    j = n % 3\n",
    "    try:\n",
    "        data.loc[data.Product==product, 'Sub-product'].value_counts().plot(kind='barh',\n",
    "                                                                           ax=ax[i][j])\n",
    "        ax[i][j].set(title=f'{product}')\n",
    "    except:\n",
    "        ax[i][j].set(title=f'{product}')\n",
    "        \n",
    "fig.tight_layout();"
   ]
  },
  {
   "cell_type": "markdown",
   "metadata": {},
   "source": [
    "The categories: \"Credit card\", \"Credit reporting\" and \"Payday loan\" have no sub-categories.\n",
    "\n",
    "Were I truly working for a company that had gathered this data, this would be a great time to check documentation about the data and / or reach out to those who aggregate or enter the data to see if \"Credit card\", \"Credit reporting\" and \"Payday loan\" are truly different from the subproducts of the same name.\n",
    "\n",
    "Because I don't have access to the people and documentation to figure this out, I am assuming the following:\n",
    "\n",
    "\"Credit reporting\" and \"Payday loan\" are no different from the sub-products of the same name $\\rightarrow$ change product and sub-product labels for these records\n",
    "\n",
    "\"Credit card\" cannot be assumed to be a particular type of credit card $\\rightarrow$ change product and sub-product labels for these records, but create a new sub-product \"unknown credit card\""
   ]
  },
  {
   "cell_type": "code",
   "execution_count": 65,
   "metadata": {},
   "outputs": [],
   "source": [
    "data.loc[data.Product=='Credit reporting','Sub-product'] =\\\n",
    "data.loc[data.Product=='Credit reporting','Sub-product'].fillna('Credit reporting')\n",
    "\n",
    "data.loc[data.Product=='Credit reporting','Product'] =\\\n",
    "data.loc[data.Product=='Credit reporting','Product'].replace(\n",
    "    to_replace='Credit reporting',\n",
    "    value='Credit reporting, credit repair services, or other personal consumer reports'\n",
    ")"
   ]
  },
  {
   "cell_type": "code",
   "execution_count": 73,
   "metadata": {},
   "outputs": [],
   "source": [
    "data.loc[data.Product=='Payday loan','Sub-product'] =\\\n",
    "data.loc[data.Product=='Payday loan','Sub-product'].fillna('Payday loan')\n",
    "\n",
    "data.loc[data.Product=='Payday loan','Product'] =\\\n",
    "data.loc[data.Product=='Payday loan','Product'].replace(\n",
    "    to_replace='Payday loan',\n",
    "    value='Payday loan, title loan, or personal loan'\n",
    ")"
   ]
  },
  {
   "cell_type": "code",
   "execution_count": 81,
   "metadata": {},
   "outputs": [],
   "source": [
    "data.loc[data.Product=='Credit card', 'Sub-product'] =\\\n",
    "data.loc[data.Product=='Credit card','Sub-product'].fillna('Unknown credit card')\n",
    "\n",
    "data.loc[data.Product=='Credit card', 'Product'] = \\\n",
    "data.loc[data.Product=='Credit card', 'Product'].replace(\n",
    "to_replace='Credit card',\n",
    "value='Credit card or prepaid card')"
   ]
  },
  {
   "cell_type": "code",
   "execution_count": 90,
   "metadata": {},
   "outputs": [
    {
     "data": {
      "text/plain": [
       "Incorrect information on your report                                                22.662268\n",
       "Problem with a credit reporting company's investigation into an existing problem    14.981273\n",
       "Improper use of your report                                                         10.265128\n",
       "Attempts to collect debt not owed                                                    6.216682\n",
       "Managing an account                                                                  2.803728\n",
       "                                                                                      ...    \n",
       "Property was damaged or destroyed property                                           0.000402\n",
       "Problem with an overdraft                                                            0.000321\n",
       "Lender sold the property                                                             0.000241\n",
       "Lender damaged or destroyed vehicle                                                  0.000161\n",
       "Lender damaged or destroyed property                                                 0.000080\n",
       "Name: Issue, Length: 160, dtype: float64"
      ]
     },
     "execution_count": 90,
     "metadata": {},
     "output_type": "execute_result"
    }
   ],
   "source": [
    "data.Issue.value_counts(normalize=True)*100"
   ]
  },
  {
   "cell_type": "code",
   "execution_count": 92,
   "metadata": {},
   "outputs": [
    {
     "name": "stdout",
     "output_type": "stream",
     "text": [
      "Checking or savings account:\n",
      "   Managing an account\n",
      "   Closing an account\n",
      "   Problem with a lender or other company charging your account\n",
      "   Opening an account\n",
      "   Problem caused by your funds being low\n",
      "   Incorrect information on your report\n",
      "   Problem with a credit reporting company's investigation into an existing problem\n",
      "   Problem with fraud alerts or security freezes\n",
      "   Improper use of your report\n",
      "   Credit monitoring or identity theft protection services\n",
      "   Unable to get your credit report or credit score\n",
      "   Getting a line of credit\n",
      "\n",
      "\n",
      "Consumer Loan:\n",
      "   Managing the loan or lease\n",
      "   Problems when you are unable to pay\n",
      "   Taking out the loan or lease\n",
      "   Shopping for a loan or lease\n",
      "   Charged fees or interest I didn't expect\n",
      "   Can't contact lender\n",
      "   Lender repossessed or sold the vehicle\n",
      "   Payment to acct not credited\n",
      "   Account terms and changes\n",
      "   Managing the line of credit\n",
      "   Applied for loan/did not receive money\n",
      "   Shopping for a line of credit\n",
      "   Received a loan I didn't apply for\n",
      "   Can't stop charges to bank account\n",
      "   Charged bank acct wrong day or amt\n",
      "   Lender sold the property\n",
      "   Lender damaged or destroyed vehicle\n",
      "   Lender damaged or destroyed property\n",
      "\n",
      "\n",
      "Credit card or prepaid card:\n",
      "   Problem with a purchase shown on your statement\n",
      "   Other features, terms, or problems\n",
      "   Fees or interest\n",
      "   Getting a credit card\n",
      "   Problem when making payments\n",
      "   Closing your account\n",
      "   Advertising and marketing, including promotional offers\n",
      "   Trouble using your card\n",
      "   Billing disputes\n",
      "   Problem with a purchase or transfer\n",
      "   Incorrect information on your report\n",
      "   Trouble using the card\n",
      "   Problem with a credit reporting company's investigation into an existing problem\n",
      "   Other\n",
      "   Identity theft / Fraud / Embezzlement\n",
      "   Problem getting a card or closing an account\n",
      "   Unexpected or other fees\n",
      "   Struggling to pay your bill\n",
      "   Closing/Cancelling account\n",
      "   Customer service / Customer relations\n",
      "   Rewards\n",
      "   Delinquent account\n",
      "   Advertising and marketing\n",
      "   APR or interest rate\n",
      "   Late fee\n",
      "   Credit card protection / Debt protection\n",
      "   Transaction issue\n",
      "   Billing statement\n",
      "   Payoff process\n",
      "   Credit determination\n",
      "   Other fee\n",
      "   Unsolicited issuance of credit card\n",
      "   Improper use of your report\n",
      "   Credit line increase/decrease\n",
      "   Balance transfer\n",
      "   Advertising\n",
      "   Credit monitoring or identity theft protection services\n",
      "   Application processing delay\n",
      "   Privacy\n",
      "   Sale of account\n",
      "   Bankruptcy\n",
      "   Forbearance / Workout plans\n",
      "   Arbitration\n",
      "   Problem with overdraft\n",
      "   Balance transfer fee\n",
      "   Unable to get your credit report or credit score\n",
      "   Cash advance\n",
      "   Problem with fraud alerts or security freezes\n",
      "   Cash advance fee\n",
      "   Convenience checks\n",
      "   Overlimit fee\n",
      "   Problem with an overdraft\n",
      "\n",
      "\n",
      "Credit reporting, credit repair services, or other personal consumer reports:\n",
      "   Incorrect information on your report\n",
      "   Problem with a credit reporting company's investigation into an existing problem\n",
      "   Improper use of your report\n",
      "   Incorrect information on credit report\n",
      "   Unable to get your credit report or credit score\n",
      "   Problem with fraud alerts or security freezes\n",
      "   Credit reporting company's investigation\n",
      "   Credit monitoring or identity theft protection services\n",
      "   Unable to get credit report/credit score\n",
      "   Improper use of my credit report\n",
      "   Problem with a company's investigation into an existing issue\n",
      "   Credit monitoring or identity protection\n",
      "   Fraud or scam\n",
      "   Identity theft protection or other monitoring services\n",
      "   Problem with customer service\n",
      "   Confusing or misleading advertising or marketing\n",
      "   Unexpected or other fees\n",
      "   Confusing or missing disclosures\n",
      "   Excessive fees\n",
      "   Getting a loan or lease\n",
      "   Getting a loan\n",
      "   Getting a credit card\n",
      "   Dealing with your lender or servicer\n",
      "   Closing on a mortgage\n",
      "   Getting a line of credit\n",
      "   Problem when making payments\n",
      "   Struggling to pay mortgage\n",
      "   Struggling to pay your loan\n",
      "   Getting the loan\n",
      "   Trouble during payment process\n",
      "   Trouble using your card\n",
      "   Closing your account\n",
      "   Problem with the payoff process at the end of the loan\n",
      "   Problems at the end of the loan or lease\n",
      "\n",
      "\n",
      "Debt collection:\n",
      "   Attempts to collect debt not owed\n",
      "   Written notification about debt\n",
      "   Communication tactics\n",
      "   False statements or representation\n",
      "   Cont'd attempts collect debt not owed\n",
      "   Took or threatened to take negative or legal action\n",
      "   Disclosure verification of debt\n",
      "   Threatened to contact someone or share information improperly\n",
      "   Taking/threatening an illegal action\n",
      "   Improper contact or sharing of info\n",
      "\n",
      "\n",
      "Money transfer, virtual currency, or money service:\n",
      "   Fraud or scam\n",
      "   Other transaction problem\n",
      "   Money was not available when promised\n",
      "   Managing, opening, or closing your mobile wallet account\n",
      "   Unauthorized transactions or other transaction problem\n",
      "   Other service problem\n",
      "   Confusing or missing disclosures\n",
      "   Unexpected or other fees\n",
      "   Problem with customer service\n",
      "   Wrong amount charged or received\n",
      "   Problem adding money\n",
      "   Confusing or misleading advertising or marketing\n",
      "   Lost or stolen check\n",
      "   Lost or stolen money order\n",
      "   Incorrect exchange rate\n",
      "   Overdraft, savings, or rewards features\n",
      "\n",
      "\n",
      "Mortgage:\n",
      "   Trouble during payment process\n",
      "   Struggling to pay mortgage\n",
      "   Loan servicing, payments, escrow account\n",
      "   Loan modification,collection,foreclosure\n",
      "   Applying for a mortgage or refinancing an existing mortgage\n",
      "   Closing on a mortgage\n",
      "   Application, originator, mortgage broker\n",
      "   Settlement process and costs\n",
      "   Incorrect information on your report\n",
      "   Credit decision / Underwriting\n",
      "   Problem with a credit reporting company's investigation into an existing problem\n",
      "   Improper use of your report\n",
      "   Credit monitoring or identity theft protection services\n",
      "   Unable to get your credit report or credit score\n",
      "   Problem with fraud alerts or security freezes\n",
      "\n",
      "\n",
      "Other financial service:\n",
      "   Fraud or scam\n",
      "   Customer service/Customer relations\n",
      "   Excessive fees\n",
      "   Unexpected/Other fees\n",
      "   Lost or stolen check\n",
      "   Disclosures\n",
      "   Advertising and marketing\n",
      "   Lost or stolen money order\n",
      "   Incorrect exchange rate\n",
      "\n",
      "\n",
      "Payday loan, title loan, or personal loan:\n",
      "   Charged fees or interest you didn't expect\n",
      "   Struggling to pay your loan\n",
      "   Problem when making payments\n",
      "   Problem with the payoff process at the end of the loan\n",
      "   Getting the loan\n",
      "   Charged fees or interest I didn't expect\n",
      "   Getting a line of credit\n",
      "   Incorrect information on your report\n",
      "   Problem with additional add-on products or services\n",
      "   Can't contact lender or servicer\n",
      "   Received a loan you didn't apply for\n",
      "   Can't contact lender\n",
      "   Can't stop withdrawals from your bank account\n",
      "   Loan payment wasn't credited to your account\n",
      "   Problem with a credit reporting company's investigation into an existing problem\n",
      "   Received a loan I didn't apply for\n",
      "   Money was taken from your bank account on the wrong day or for the wrong amount\n",
      "   Vehicle was repossessed or sold the vehicle\n",
      "   Improper use of your report\n",
      "   Was approved for a loan, but didn't receive the money\n",
      "   Can't stop charges to bank account\n",
      "   Payment to acct not credited\n",
      "   Charged bank acct wrong day or amt\n",
      "   Credit limit changed\n",
      "   Problem with cash advance\n",
      "   Applied for loan/did not receive money\n",
      "   Vehicle was damaged or destroyed the vehicle\n",
      "   Credit monitoring or identity theft protection services\n",
      "   Was approved for a loan, but didn't receive money\n",
      "   Problem with fraud alerts or security freezes\n",
      "   Unable to get your credit report or credit score\n",
      "   Property was sold\n",
      "   Property was damaged or destroyed property\n",
      "\n",
      "\n",
      "Student loan:\n",
      "   Dealing with your lender or servicer\n",
      "   Dealing with my lender or servicer\n",
      "   Struggling to repay your loan\n",
      "   Can't repay my loan\n",
      "   Incorrect information on your report\n",
      "   Getting a loan\n",
      "   Problem with a credit reporting company's investigation into an existing problem\n",
      "   Improper use of your report\n",
      "   Credit monitoring or identity theft protection services\n",
      "   Problem with fraud alerts or security freezes\n",
      "   Unable to get your credit report or credit score\n",
      "\n",
      "\n",
      "Vehicle loan or lease:\n",
      "   Managing the loan or lease\n",
      "   Problems at the end of the loan or lease\n",
      "   Struggling to pay your loan\n",
      "   Getting a loan or lease\n",
      "   Incorrect information on your report\n",
      "   Problem with a credit reporting company's investigation into an existing problem\n",
      "   Improper use of your report\n",
      "   Credit monitoring or identity theft protection services\n",
      "   Unable to get your credit report or credit score\n",
      "   Problem with fraud alerts or security freezes\n",
      "\n",
      "\n"
     ]
    },
    {
     "data": {
      "image/png": "[encoded data removed]",
      "text/plain": [
       "<Figure size 1296x864 with 15 Axes>"
      ]
     },
     "metadata": {
      "needs_background": "light"
     },
     "output_type": "display_data"
    }
   ],
   "source": [
    "fig, ax = plt.subplots(nrows=5, ncols=3, figsize=(18, 12))\n",
    "\n",
    "for n, product in enumerate(np.unique(data.Product)):\n",
    "    i = n // 3\n",
    "    j = n % 3\n",
    "    if len(data.loc[data.Product==product, 'Issue'].value_counts()) < 8:\n",
    "        try:\n",
    "            data.loc[data.Product==product, 'Issue'].value_counts().plot(kind='barh',\n",
    "                                                                               ax=ax[i][j])\n",
    "            ax[i][j].set(title=f'{product}')\n",
    "        except:\n",
    "            ax[i][j].set(title=f'{product}')\n",
    "    else:\n",
    "        print(f'{product}:')\n",
    "        for issue in list(data.loc[data.Product==product, 'Issue'].value_counts().index):\n",
    "            print(f'   {issue}')\n",
    "        print('\\n')\n",
    "        \n",
    "fig.tight_layout();"
   ]
  },
  {
   "cell_type": "code",
   "execution_count": 94,
   "metadata": {},
   "outputs": [
    {
     "data": {
      "text/plain": [
       "EQUIFAX, INC.                             15.678209\n",
       "TRANSUNION INTERMEDIATE HOLDINGS, INC.    13.866433\n",
       "Experian Information Solutions Inc.       13.397043\n",
       "WELLS FARGO & COMPANY                      2.624454\n",
       "BANK OF AMERICA, NATIONAL ASSOCIATION      2.563411\n",
       "                                            ...    \n",
       "Empire Mortgage (NV)                       0.000080\n",
       "K2 Lending, Inc.                           0.000080\n",
       "TitleMax LLC                               0.000080\n",
       "Direct Home Loans, LLC                     0.000080\n",
       "Financial Warranty LLC                     0.000080\n",
       "Name: Company, Length: 5594, dtype: float64"
      ]
     },
     "execution_count": 94,
     "metadata": {},
     "output_type": "execute_result"
    }
   ],
   "source": [
    "data.Company.value_counts(normalize=True)*100"
   ]
  },
  {
   "cell_type": "markdown",
   "metadata": {},
   "source": [
    "----"
   ]
  },
  {
   "cell_type": "code",
   "execution_count": 4,
   "metadata": {},
   "outputs": [],
   "source": [
    "subset = pd.DataFrame({'Complaint': data.loc[:,'Consumer complaint narrative'].values,\n",
    "                       'Company': data.loc[:, 'Company'].values,\n",
    "                       'Product': data.loc[:, 'Product'].values},\n",
    "                      index = data.index\n",
    "                     )"
   ]
  },
  {
   "cell_type": "code",
   "execution_count": 5,
   "metadata": {
    "scrolled": true
   },
   "outputs": [
    {
     "data": {
      "text/html": [
       "<div>\n",
       "<style scoped>\n",
       "    .dataframe tbody tr th:only-of-type {\n",
       "        vertical-align: middle;\n",
       "    }\n",
       "\n",
       "    .dataframe tbody tr th {\n",
       "        vertical-align: top;\n",
       "    }\n",
       "\n",
       "    .dataframe thead th {\n",
       "        text-align: right;\n",
       "    }\n",
       "</style>\n",
       "<table border=\"1\" class=\"dataframe\">\n",
       "  <thead>\n",
       "    <tr style=\"text-align: right;\">\n",
       "      <th></th>\n",
       "      <th>Complaint</th>\n",
       "      <th>Company</th>\n",
       "      <th>Product</th>\n",
       "    </tr>\n",
       "  </thead>\n",
       "  <tbody>\n",
       "    <tr>\n",
       "      <th>84</th>\n",
       "      <td>I am a victim of identity theft. XXXX XXXX XXX...</td>\n",
       "      <td>EQUIFAX, INC.</td>\n",
       "      <td>Credit reporting, credit repair services, or o...</td>\n",
       "    </tr>\n",
       "    <tr>\n",
       "      <th>180</th>\n",
       "      <td>XXXX 2022 went just like any other XXXX of the...</td>\n",
       "      <td>Netspend Corporation</td>\n",
       "      <td>Checking or savings account</td>\n",
       "    </tr>\n",
       "    <tr>\n",
       "      <th>369</th>\n",
       "      <td>In XXXX I fell behind on my mortgage payments ...</td>\n",
       "      <td>WELLS FARGO &amp; COMPANY</td>\n",
       "      <td>Mortgage</td>\n",
       "    </tr>\n",
       "    <tr>\n",
       "      <th>549</th>\n",
       "      <td>I immigrated to the United States in XX/XX/XXX...</td>\n",
       "      <td>EQUIFAX, INC.</td>\n",
       "      <td>Credit reporting</td>\n",
       "    </tr>\n",
       "    <tr>\n",
       "      <th>583</th>\n",
       "      <td>ATTN Fraud Department : Remove fraudulent acco...</td>\n",
       "      <td>EQUIFAX, INC.</td>\n",
       "      <td>Credit reporting, credit repair services, or o...</td>\n",
       "    </tr>\n",
       "  </tbody>\n",
       "</table>\n",
       "</div>"
      ],
      "text/plain": [
       "                                             Complaint                Company  \\\n",
       "84   I am a victim of identity theft. XXXX XXXX XXX...          EQUIFAX, INC.   \n",
       "180  XXXX 2022 went just like any other XXXX of the...   Netspend Corporation   \n",
       "369  In XXXX I fell behind on my mortgage payments ...  WELLS FARGO & COMPANY   \n",
       "549  I immigrated to the United States in XX/XX/XXX...          EQUIFAX, INC.   \n",
       "583  ATTN Fraud Department : Remove fraudulent acco...          EQUIFAX, INC.   \n",
       "\n",
       "                                               Product  \n",
       "84   Credit reporting, credit repair services, or o...  \n",
       "180                        Checking or savings account  \n",
       "369                                           Mortgage  \n",
       "549                                   Credit reporting  \n",
       "583  Credit reporting, credit repair services, or o...  "
      ]
     },
     "execution_count": 5,
     "metadata": {},
     "output_type": "execute_result"
    }
   ],
   "source": [
    "subset.head()"
   ]
  },
  {
   "cell_type": "code",
   "execution_count": 6,
   "metadata": {},
   "outputs": [],
   "source": [
    "# set a seed for reproducibility\n",
    "seed = 839"
   ]
  },
  {
   "cell_type": "code",
   "execution_count": 8,
   "metadata": {},
   "outputs": [],
   "source": [
    "# get 100,000 records to build a proof-of-concept model\n",
    "sample = subset.sample(100000, random_state=seed).copy()"
   ]
  },
  {
   "cell_type": "code",
   "execution_count": 10,
   "metadata": {},
   "outputs": [],
   "source": [
    "# import a word tokenizer\n",
    "from nltk.tokenize import word_tokenize\n",
    "\n",
    "sample['tokenized_complaint'] = sample['Complaint'].map(lambda x: word_tokenize(x))"
   ]
  },
  {
   "cell_type": "code",
   "execution_count": 11,
   "metadata": {},
   "outputs": [
    {
     "data": {
      "text/html": [
       "<div>\n",
       "<style scoped>\n",
       "    .dataframe tbody tr th:only-of-type {\n",
       "        vertical-align: middle;\n",
       "    }\n",
       "\n",
       "    .dataframe tbody tr th {\n",
       "        vertical-align: top;\n",
       "    }\n",
       "\n",
       "    .dataframe thead th {\n",
       "        text-align: right;\n",
       "    }\n",
       "</style>\n",
       "<table border=\"1\" class=\"dataframe\">\n",
       "  <thead>\n",
       "    <tr style=\"text-align: right;\">\n",
       "      <th></th>\n",
       "      <th>Complaint</th>\n",
       "      <th>Company</th>\n",
       "      <th>Product</th>\n",
       "      <th>tokenized_complaint</th>\n",
       "    </tr>\n",
       "  </thead>\n",
       "  <tbody>\n",
       "    <tr>\n",
       "      <th>3347590</th>\n",
       "      <td>XXXX XXXX XXXX XXXX : XXXX. XXXXXXXX XXXX XXXX...</td>\n",
       "      <td>EQUIFAX, INC.</td>\n",
       "      <td>Credit reporting, credit repair services, or o...</td>\n",
       "      <td>[XXXX, XXXX, XXXX, XXXX, :, XXXX, ., XXXXXXXX,...</td>\n",
       "    </tr>\n",
       "    <tr>\n",
       "      <th>3273724</th>\n",
       "      <td>I have written you twice. Chase finds ways out...</td>\n",
       "      <td>JPMORGAN CHASE &amp; CO.</td>\n",
       "      <td>Mortgage</td>\n",
       "      <td>[I, have, written, you, twice, ., Chase, finds...</td>\n",
       "    </tr>\n",
       "    <tr>\n",
       "      <th>543587</th>\n",
       "      <td>I contacted Amex, who placed the inquiry, and ...</td>\n",
       "      <td>AMERICAN EXPRESS COMPANY</td>\n",
       "      <td>Credit reporting, credit repair services, or o...</td>\n",
       "      <td>[I, contacted, Amex, ,, who, placed, the, inqu...</td>\n",
       "    </tr>\n",
       "    <tr>\n",
       "      <th>1039197</th>\n",
       "      <td>In XXXX of 2018, I started getting calls from ...</td>\n",
       "      <td>CREDIT BUREAU OF NAPA COUNTY, INC.</td>\n",
       "      <td>Debt collection</td>\n",
       "      <td>[In, XXXX, of, 2018, ,, I, started, getting, c...</td>\n",
       "    </tr>\n",
       "    <tr>\n",
       "      <th>1935540</th>\n",
       "      <td>On ( XX/XX/2022 ) I sent a letter regarding in...</td>\n",
       "      <td>EQUIFAX, INC.</td>\n",
       "      <td>Credit reporting, credit repair services, or o...</td>\n",
       "      <td>[On, (, XX/XX/2022, ), I, sent, a, letter, reg...</td>\n",
       "    </tr>\n",
       "  </tbody>\n",
       "</table>\n",
       "</div>"
      ],
      "text/plain": [
       "                                                 Complaint  \\\n",
       "3347590  XXXX XXXX XXXX XXXX : XXXX. XXXXXXXX XXXX XXXX...   \n",
       "3273724  I have written you twice. Chase finds ways out...   \n",
       "543587   I contacted Amex, who placed the inquiry, and ...   \n",
       "1039197  In XXXX of 2018, I started getting calls from ...   \n",
       "1935540  On ( XX/XX/2022 ) I sent a letter regarding in...   \n",
       "\n",
       "                                    Company  \\\n",
       "3347590                       EQUIFAX, INC.   \n",
       "3273724                JPMORGAN CHASE & CO.   \n",
       "543587             AMERICAN EXPRESS COMPANY   \n",
       "1039197  CREDIT BUREAU OF NAPA COUNTY, INC.   \n",
       "1935540                       EQUIFAX, INC.   \n",
       "\n",
       "                                                   Product  \\\n",
       "3347590  Credit reporting, credit repair services, or o...   \n",
       "3273724                                           Mortgage   \n",
       "543587   Credit reporting, credit repair services, or o...   \n",
       "1039197                                    Debt collection   \n",
       "1935540  Credit reporting, credit repair services, or o...   \n",
       "\n",
       "                                       tokenized_complaint  \n",
       "3347590  [XXXX, XXXX, XXXX, XXXX, :, XXXX, ., XXXXXXXX,...  \n",
       "3273724  [I, have, written, you, twice, ., Chase, finds...  \n",
       "543587   [I, contacted, Amex, ,, who, placed, the, inqu...  \n",
       "1039197  [In, XXXX, of, 2018, ,, I, started, getting, c...  \n",
       "1935540  [On, (, XX/XX/2022, ), I, sent, a, letter, reg...  "
      ]
     },
     "execution_count": 11,
     "metadata": {},
     "output_type": "execute_result"
    }
   ],
   "source": [
    "sample.head()"
   ]
  },
  {
   "cell_type": "markdown",
   "metadata": {},
   "source": [
    "Test out strategies for preparing the complaint text for a classification model using one complaint."
   ]
  },
  {
   "cell_type": "code",
   "execution_count": 13,
   "metadata": {},
   "outputs": [
    {
     "data": {
      "text/plain": [
       "'XXXX XXXX XXXX XXXX : XXXX. XXXXXXXX XXXX XXXXXXXX XXXX XXXX XXXX XXXX XXXX XXXX, XXXX XXXX XXXX XXXX, IN XXXX XXXXXXXX XXXX XXXX \\nXXXX : XXXX. XXXX XXXX XXXX XXXX XXXX \\nXXXX XXXX XXXX # XXXX XXXX, FL XXXX These companies are reporting hard inquiries on my equifax credit report that I do not recognize. I do not have any open accounts with these companies.'"
      ]
     },
     "execution_count": 13,
     "metadata": {},
     "output_type": "execute_result"
    }
   ],
   "source": [
    "test_complaint = sample.loc[3347590, 'Complaint']\n",
    "test_complaint"
   ]
  },
  {
   "cell_type": "markdown",
   "metadata": {},
   "source": [
    "Remove punctuation, change all words to lowercase and remove stopwords."
   ]
  },
  {
   "cell_type": "code",
   "execution_count": 27,
   "metadata": {},
   "outputs": [],
   "source": [
    "from nltk.corpus import stopwords\n",
    "import string\n",
    "\n",
    "stopwords_list = stopwords.words('english')\n",
    "stopwords_list.extend(string.punctuation)\n",
    "\n",
    "tokens = [w.lower() for w in word_tokenize(test_complaint) if w.lower() not in stopwords_list]"
   ]
  },
  {
   "cell_type": "markdown",
   "metadata": {},
   "source": [
    "Remove Xs representing redacted material."
   ]
  },
  {
   "cell_type": "code",
   "execution_count": 28,
   "metadata": {},
   "outputs": [],
   "source": [
    "import re\n",
    "\n",
    "pattern = 'x+x+'\n",
    "p = re.compile(pattern)\n",
    "results = p.findall(' '.join(tokens))"
   ]
  },
  {
   "cell_type": "code",
   "execution_count": 29,
   "metadata": {},
   "outputs": [
    {
     "data": {
      "text/plain": [
       "['fl',\n",
       " 'companies',\n",
       " 'reporting',\n",
       " 'hard',\n",
       " 'inquiries',\n",
       " 'equifax',\n",
       " 'credit',\n",
       " 'report',\n",
       " 'recognize',\n",
       " 'open',\n",
       " 'accounts',\n",
       " 'companies']"
      ]
     },
     "execution_count": 29,
     "metadata": {},
     "output_type": "execute_result"
    }
   ],
   "source": [
    "for redacted in results:\n",
    "    tokens.remove(redacted)\n",
    "    \n",
    "tokens"
   ]
  },
  {
   "cell_type": "markdown",
   "metadata": {},
   "source": [
    "Lemmatize tokens. (Tag with part of speech first, to ensure verbs are correctly lemmatized.)"
   ]
  },
  {
   "cell_type": "code",
   "execution_count": 47,
   "metadata": {},
   "outputs": [],
   "source": [
    "# helper function\n",
    "from nltk.corpus import wordnet\n",
    "\n",
    "def get_wordnet_pos(tag):\n",
    "    if tag.startswith('J'):\n",
    "        return wordnet.ADJ\n",
    "    elif tag.startswith('V'):\n",
    "        return wordnet.VERB\n",
    "    elif tag.startswith('N'):\n",
    "        return wordnet.NOUN\n",
    "    elif tag.startswith('R'):\n",
    "        return wordnet.ADV\n",
    "    else:\n",
    "        return wordnet.NOUN"
   ]
  },
  {
   "cell_type": "code",
   "execution_count": 59,
   "metadata": {},
   "outputs": [
    {
     "name": "stderr",
     "output_type": "stream",
     "text": [
      "[nltk_data] Downloading package tagsets to /Users/user/nltk_data...\n",
      "[nltk_data]   Package tagsets is already up-to-date!\n"
     ]
    },
    {
     "data": {
      "text/plain": [
       "['fl',\n",
       " 'company',\n",
       " 'report',\n",
       " 'hard',\n",
       " 'inquiry',\n",
       " 'equifax',\n",
       " 'credit',\n",
       " 'report',\n",
       " 'recognize',\n",
       " 'open',\n",
       " 'account',\n",
       " 'company']"
      ]
     },
     "execution_count": 59,
     "metadata": {},
     "output_type": "execute_result"
    }
   ],
   "source": [
    "import nltk\n",
    "\n",
    "nltk.download('wordnet')\n",
    "nltk.download('tagsets')\n",
    "\n",
    "from nltk.stem.wordnet import WordNetLemmatizer\n",
    "lemmatizer = WordNetLemmatizer()\n",
    "\n",
    "lemmas = [lemmatizer.lemmatize(*t) for t in\\\n",
    "          [(pair[0], get_wordnet_pos(pair[1])) for pair in nltk.pos_tag(tokens)]\n",
    "         ]\n",
    "lemmas"
   ]
  },
  {
   "cell_type": "markdown",
   "metadata": {},
   "source": [
    "Consider bigrams to get a little more context around each token. Score with pointwise mutual information score."
   ]
  },
  {
   "cell_type": "code",
   "execution_count": 72,
   "metadata": {},
   "outputs": [],
   "source": [
    "raw_bigrams = list(nltk.bigrams(lemmas))"
   ]
  },
  {
   "cell_type": "code",
   "execution_count": 63,
   "metadata": {},
   "outputs": [
    {
     "data": {
      "text/plain": [
       "[(('equifax', 'credit'), 3.5849625007211565),\n",
       " (('hard', 'inquiry'), 3.5849625007211565),\n",
       " (('inquiry', 'equifax'), 3.5849625007211565),\n",
       " (('open', 'account'), 3.5849625007211565),\n",
       " (('recognize', 'open'), 3.5849625007211565),\n",
       " (('account', 'company'), 2.5849625007211565),\n",
       " (('credit', 'report'), 2.5849625007211565),\n",
       " (('fl', 'company'), 2.5849625007211565),\n",
       " (('report', 'hard'), 2.5849625007211565),\n",
       " (('report', 'recognize'), 2.5849625007211565),\n",
       " (('company', 'report'), 1.5849625007211565)]"
      ]
     },
     "execution_count": 63,
     "metadata": {},
     "output_type": "execute_result"
    }
   ],
   "source": [
    "bigram_measures = nltk.collocations.BigramAssocMeasures()\n",
    "bigrams = nltk.BigramCollocationFinder.from_words(lemmas)\n",
    "scored_bigrams = bigrams.score_ngrams(bigram_measures.pmi)\n",
    "scored_bigrams"
   ]
  },
  {
   "cell_type": "code",
   "execution_count": 77,
   "metadata": {},
   "outputs": [],
   "source": [
    "from sklearn.feature_extraction.text import TfidfVectorizer\n",
    "\n",
    "vec = TfidfVectorizer()\n",
    "\n",
    "transformed_lemmas = vec.fit_transform([' '.join(lemmas)])"
   ]
  },
  {
   "cell_type": "markdown",
   "metadata": {},
   "source": [
    "To test the results obtained by the TfidfVectorizer from sklearn, I printed out the transformed matrix and compared it to the list and \"value counts\" of the generated lemmas.\n",
    "\n",
    "Most words appear once and have a tf-idf of 0.25, whereas the two which appear twice have a tf-idf of 0.5.\n",
    "\n",
    "The tf-idf of a term is calculated by: (term frequency) * (reciprocal of document frequency)\n",
    "\n",
    "According to [the sklearn documentation](https://scikit-learn.org/stable/modules/generated/sklearn.feature_extraction.text.TfidfTransformer.html#sklearn.feature_extraction.text.TfidfTransformer), for the words which appear once: tf = 1 / 12 (because there are 12 terms in the document), and idf = (natural log of 1 / 1) + 1, because each one appears in 1 document out of all 1 documents, and plus 1 because of smoothing. Therefore, the tf-idf of each word which appears once is: 1/12 * 1 - which doesn't align with the value I saw! Yikes.\n",
    "\n",
    "For a word which appears twice, I would expect 2/12 * ln(1/1)+1 = 1/6.\n",
    "\n",
    "Could the tf-idf be \"normalized\" somehow? Though I'm not getting 1/12 and 1/6 with the sklearn function, the sklearn function values have the same ratios (the words which appeared twice have a 2:1 ratio with those that appeared once.)"
   ]
  },
  {
   "cell_type": "code",
   "execution_count": 91,
   "metadata": {},
   "outputs": [
    {
     "name": "stdout",
     "output_type": "stream",
     "text": [
      "['fl', 'company', 'report', 'hard', 'inquiry', 'equifax', 'credit', 'report', 'recognize', 'open', 'account', 'company']\n"
     ]
    }
   ],
   "source": [
    "print(lemmas)"
   ]
  },
  {
   "cell_type": "code",
   "execution_count": 93,
   "metadata": {},
   "outputs": [
    {
     "data": {
      "text/plain": [
       "company      2\n",
       "report       2\n",
       "fl           1\n",
       "recognize    1\n",
       "equifax      1\n",
       "hard         1\n",
       "inquiry      1\n",
       "open         1\n",
       "account      1\n",
       "credit       1\n",
       "dtype: int64"
      ]
     },
     "execution_count": 93,
     "metadata": {},
     "output_type": "execute_result"
    }
   ],
   "source": [
    "pd.Series(lemmas).value_counts()"
   ]
  },
  {
   "cell_type": "code",
   "execution_count": 88,
   "metadata": {},
   "outputs": [
    {
     "data": {
      "text/plain": [
       "matrix([[0.25, 0.5 , 0.25, 0.25, 0.25, 0.25, 0.25, 0.25, 0.25, 0.5 ]])"
      ]
     },
     "execution_count": 88,
     "metadata": {},
     "output_type": "execute_result"
    }
   ],
   "source": [
    "transformed_lemmas.todense()"
   ]
  },
  {
   "cell_type": "markdown",
   "metadata": {},
   "source": [
    "It is hard to tell if tf-idf is working properly when there is only one complaint.\n",
    "\n",
    "Next, let's apply our preprocessing steps systematically to a subsample of 5 complaints, fit a Tfidf vectorizer, and check the results of the vectorization.\n",
    "\n",
    "Then, we'll proceed to do a train/test/split and fit a baseline classifier to all of the training data (the preprocessed complaints and the bigrams / pmi scores we found.)\n",
    "\n",
    "I expect to need to tune the min/max threshold of frequently occurring words and bigrams to improve the classifier's performance, and possibly the preprocessing techniques used."
   ]
  },
  {
   "cell_type": "code",
   "execution_count": 447,
   "metadata": {},
   "outputs": [],
   "source": [
    "subsample = sample.sample(5)"
   ]
  },
  {
   "cell_type": "code",
   "execution_count": 433,
   "metadata": {},
   "outputs": [],
   "source": [
    "subsample['tokens'] = subsample.Complaint.map(\n",
    "    lambda x: [w.lower() for w in word_tokenize(x) if w.lower() not in stopwords_list]\n",
    ")"
   ]
  },
  {
   "cell_type": "code",
   "execution_count": 448,
   "metadata": {},
   "outputs": [],
   "source": [
    "from nltk.tokenize import word_tokenize\n",
    "from nltk.corpus import stopwords\n",
    "import string\n",
    "\n",
    "stopwords_list = stopwords.words('english')\n",
    "stopwords_list.extend(string.punctuation)\n",
    "\n",
    "def get_tokens(complaint):\n",
    "    '''Takes in a string and returns a list of lowercase tokens without punctuation or\n",
    "    common English stopwords.'''\n",
    "    return [w.lower() for w in word_tokenize(complaint) if w.lower() not in stopwords_list]"
   ]
  },
  {
   "cell_type": "code",
   "execution_count": 434,
   "metadata": {},
   "outputs": [
    {
     "data": {
      "text/plain": [
       "2126334    True\n",
       "1264438    True\n",
       "382467     True\n",
       "1242711    True\n",
       "1172567    True\n",
       "dtype: bool"
      ]
     },
     "execution_count": 434,
     "metadata": {},
     "output_type": "execute_result"
    }
   ],
   "source": [
    "subsample.Complaint.map(get_tokens) == subsample['tokens']"
   ]
  },
  {
   "cell_type": "code",
   "execution_count": 450,
   "metadata": {},
   "outputs": [],
   "source": [
    "subsample['tokens'] = subsample.Complaint.map(get_tokens)"
   ]
  },
  {
   "cell_type": "code",
   "execution_count": 476,
   "metadata": {},
   "outputs": [],
   "source": [
    "clean_data = remove_redactions(subsample)"
   ]
  },
  {
   "cell_type": "code",
   "execution_count": 479,
   "metadata": {},
   "outputs": [
    {
     "data": {
      "text/html": [
       "<div>\n",
       "<style scoped>\n",
       "    .dataframe tbody tr th:only-of-type {\n",
       "        vertical-align: middle;\n",
       "    }\n",
       "\n",
       "    .dataframe tbody tr th {\n",
       "        vertical-align: top;\n",
       "    }\n",
       "\n",
       "    .dataframe thead th {\n",
       "        text-align: right;\n",
       "    }\n",
       "</style>\n",
       "<table border=\"1\" class=\"dataframe\">\n",
       "  <thead>\n",
       "    <tr style=\"text-align: right;\">\n",
       "      <th></th>\n",
       "      <th>clean_tokens</th>\n",
       "      <th>Complaint</th>\n",
       "      <th>Company</th>\n",
       "      <th>Product</th>\n",
       "      <th>tokenized_complaint</th>\n",
       "      <th>tokens</th>\n",
       "    </tr>\n",
       "  </thead>\n",
       "  <tbody>\n",
       "    <tr>\n",
       "      <th>2203080</th>\n",
       "      <td>[recently, locked, online, account, pay, bill,...</td>\n",
       "      <td>Recently I was locked out of my online account...</td>\n",
       "      <td>CAPITAL ONE FINANCIAL CORPORATION</td>\n",
       "      <td>Credit card or prepaid card</td>\n",
       "      <td>[Recently, I, was, locked, out, of, my, online...</td>\n",
       "      <td>[recently, locked, online, account, pay, bill,...</td>\n",
       "    </tr>\n",
       "    <tr>\n",
       "      <th>396597</th>\n",
       "      <td>[name, third, party, involved, attached, id, d...</td>\n",
       "      <td>My name is XXXX XXXX XXXX There is no third pa...</td>\n",
       "      <td>EQUIFAX, INC.</td>\n",
       "      <td>Credit reporting, credit repair services, or o...</td>\n",
       "      <td>[My, name, is, XXXX, XXXX, XXXX, There, is, no...</td>\n",
       "      <td>[name, xxxx, xxxx, xxxx, third, party, involve...</td>\n",
       "    </tr>\n",
       "    <tr>\n",
       "      <th>1778976</th>\n",
       "      <td>[accordance, fair, credit, reporting, act, lis...</td>\n",
       "      <td>In accordance with the Fair Credit Reporting a...</td>\n",
       "      <td>TRANSUNION INTERMEDIATE HOLDINGS, INC.</td>\n",
       "      <td>Credit reporting, credit repair services, or o...</td>\n",
       "      <td>[In, accordance, with, the, Fair, Credit, Repo...</td>\n",
       "      <td>[accordance, fair, credit, reporting, act, lis...</td>\n",
       "    </tr>\n",
       "    <tr>\n",
       "      <th>1584788</th>\n",
       "      <td>[accordance, fair, credit, reporting, act, fai...</td>\n",
       "      <td>In accordance with the Fair Credit Reporting A...</td>\n",
       "      <td>EQUIFAX, INC.</td>\n",
       "      <td>Credit reporting, credit repair services, or o...</td>\n",
       "      <td>[In, accordance, with, the, Fair, Credit, Repo...</td>\n",
       "      <td>[accordance, fair, credit, reporting, act, fai...</td>\n",
       "    </tr>\n",
       "    <tr>\n",
       "      <th>1670028</th>\n",
       "      <td>[hello, thank, assistance, last, collection, a...</td>\n",
       "      <td>Hello and thank you for your assistance. \\nLas...</td>\n",
       "      <td>FMS Inc.</td>\n",
       "      <td>Credit reporting, credit repair services, or o...</td>\n",
       "      <td>[Hello, and, thank, you, for, your, assistance...</td>\n",
       "      <td>[hello, thank, assistance, last, xxxx, collect...</td>\n",
       "    </tr>\n",
       "  </tbody>\n",
       "</table>\n",
       "</div>"
      ],
      "text/plain": [
       "                                              clean_tokens  \\\n",
       "2203080  [recently, locked, online, account, pay, bill,...   \n",
       "396597   [name, third, party, involved, attached, id, d...   \n",
       "1778976  [accordance, fair, credit, reporting, act, lis...   \n",
       "1584788  [accordance, fair, credit, reporting, act, fai...   \n",
       "1670028  [hello, thank, assistance, last, collection, a...   \n",
       "\n",
       "                                                 Complaint  \\\n",
       "2203080  Recently I was locked out of my online account...   \n",
       "396597   My name is XXXX XXXX XXXX There is no third pa...   \n",
       "1778976  In accordance with the Fair Credit Reporting a...   \n",
       "1584788  In accordance with the Fair Credit Reporting A...   \n",
       "1670028  Hello and thank you for your assistance. \\nLas...   \n",
       "\n",
       "                                        Company  \\\n",
       "2203080       CAPITAL ONE FINANCIAL CORPORATION   \n",
       "396597                            EQUIFAX, INC.   \n",
       "1778976  TRANSUNION INTERMEDIATE HOLDINGS, INC.   \n",
       "1584788                           EQUIFAX, INC.   \n",
       "1670028                                FMS Inc.   \n",
       "\n",
       "                                                   Product  \\\n",
       "2203080                        Credit card or prepaid card   \n",
       "396597   Credit reporting, credit repair services, or o...   \n",
       "1778976  Credit reporting, credit repair services, or o...   \n",
       "1584788  Credit reporting, credit repair services, or o...   \n",
       "1670028  Credit reporting, credit repair services, or o...   \n",
       "\n",
       "                                       tokenized_complaint  \\\n",
       "2203080  [Recently, I, was, locked, out, of, my, online...   \n",
       "396597   [My, name, is, XXXX, XXXX, XXXX, There, is, no...   \n",
       "1778976  [In, accordance, with, the, Fair, Credit, Repo...   \n",
       "1584788  [In, accordance, with, the, Fair, Credit, Repo...   \n",
       "1670028  [Hello, and, thank, you, for, your, assistance...   \n",
       "\n",
       "                                                    tokens  \n",
       "2203080  [recently, locked, online, account, pay, bill,...  \n",
       "396597   [name, xxxx, xxxx, xxxx, third, party, involve...  \n",
       "1778976  [accordance, fair, credit, reporting, act, lis...  \n",
       "1584788  [accordance, fair, credit, reporting, act, fai...  \n",
       "1670028  [hello, thank, assistance, last, xxxx, collect...  "
      ]
     },
     "execution_count": 479,
     "metadata": {},
     "output_type": "execute_result"
    }
   ],
   "source": [
    "clean_data"
   ]
  },
  {
   "cell_type": "markdown",
   "metadata": {},
   "source": [
    "----"
   ]
  },
  {
   "cell_type": "markdown",
   "metadata": {},
   "source": [
    "Before I lemmatize my tokens, I want to clean out all of the redacted items.\n",
    "\n",
    "To do that, I created a temporary column 'regex' which searches the contents of the 'tokens' column for a regular expression that should match redacted items.\n",
    "\n",
    "Then I exploded the dataframe by tokens. I created a separate dataframe with an exploded version of the regex column.\n",
    "\n",
    "For each index, I iterated over each token, and checked whether the token matched any of the values in the exploded regex column; if not, then I kept that token.\n",
    "\n",
    "I created a new dataframe with these lists of tokens which are not redacted and the column name 'clean_tokens', then concatenated it with the original sample by index in a new dataframe called \"clean_data\"."
   ]
  },
  {
   "cell_type": "code",
   "execution_count": 471,
   "metadata": {},
   "outputs": [],
   "source": [
    "def remove_redactions(sample):\n",
    "    # create and compile regular expression pattern\n",
    "    pattern = '\\S*x+x+\\S*'\n",
    "    p = re.compile(pattern)\n",
    "    \n",
    "    # find pattern matches for each list of tokens\n",
    "    regex_series = sample.tokens.map(lambda x: p.findall(' '.join(x)))\n",
    "    \n",
    "    # explode dataframe to access each token individually\n",
    "    tokens_by_index = sample.explode('tokens').tokens\n",
    "    \n",
    "    # store info for cleaned tokens for each index\n",
    "    indices = list(sample.index)\n",
    "    cleaned_tokens = []\n",
    "\n",
    "    # iterate over all indices\n",
    "    for index in indices:\n",
    "        # create a list of tokens to keep\n",
    "        tokens = []\n",
    "        # for each token corresponding to that index\n",
    "        for token in tokens_by_index[index]:\n",
    "            keep = 0 # assume that we won't keep this token\n",
    "            # iterate over all redacted items from the list of tokens (skip if list is empty)\n",
    "            if regex_series[index]:\n",
    "                for redacted in regex_series[index]:\n",
    "                    if token == redacted:\n",
    "                        keep=0 # don't keep it if it's a \"redacted\" token\n",
    "                        break\n",
    "                    else: # keep checking if it matches other redacted patterns\n",
    "                        keep=1\n",
    "                        continue\n",
    "                if keep==1:\n",
    "                    tokens.append(token)\n",
    "            else: # if there are no redacted expressions, keep all tokens\n",
    "                tokens = list(tokens_by_index[index].values)\n",
    "                \n",
    "        # append the list of tokens for this index to the list of cleaned_tokens            \n",
    "        cleaned_tokens.append(tokens)\n",
    "        \n",
    "    # concatenate new results with old\n",
    "    clean_data = pd.concat([pd.DataFrame({'clean_tokens': cleaned_tokens}, index=indices),\n",
    "                            sample],\n",
    "                       axis=1)\n",
    "    \n",
    "    # return clean data\n",
    "    return clean_data"
   ]
  },
  {
   "cell_type": "code",
   "execution_count": 308,
   "metadata": {},
   "outputs": [],
   "source": [
    "# find and remove redacted items\n",
    "pattern2 = '\\S*x+x+\\S*'\n",
    "p2 = re.compile(pattern2)\n",
    "# p2.findall('10/52xxxxiii hello') #test\n",
    "subsample['regex'] = subsample.tokens.map(lambda x: p8.findall(' '.join(x)))"
   ]
  },
  {
   "cell_type": "code",
   "execution_count": 376,
   "metadata": {},
   "outputs": [],
   "source": [
    "# explode by tokens & regex separately\n",
    "d2 = subsample.explode('tokens')\n",
    "d3 = subsample.explode('regex').regex\n",
    "\n",
    "# store info for cleaned tokens for each index\n",
    "indices = list(subsample.index)\n",
    "cleaned_tokens = []\n",
    "\n",
    "# iterate over all indices\n",
    "for index in indices:\n",
    "    # create a list of tokens to keep\n",
    "    tokens = []\n",
    "    # for each token corresponding to that index\n",
    "    for token in d6.loc[index, 'tokens']:\n",
    "        keep = 0 # assume that we won't keep this token\n",
    "        # iterate over all redacted items from the list of tokens (skip if list is empty)\n",
    "        try:\n",
    "            for redacted in list(d7[index]):\n",
    "                if token == redacted:\n",
    "                    keep=0 # don't keep it if it's a \"redacted\" token\n",
    "                    break\n",
    "                else: # keep checking if it matches other redacted patterns\n",
    "                    keep=1\n",
    "                    continue\n",
    "            if keep==1:\n",
    "                tokens.append(token)\n",
    "        except: # if there are no redacted expressions, keep all tokens\n",
    "            tokens = list(d6.loc[index, 'tokens'].values)\n",
    "            break\n",
    "    cleaned_tokens.append(tokens)"
   ]
  },
  {
   "cell_type": "code",
   "execution_count": 377,
   "metadata": {},
   "outputs": [
    {
     "data": {
      "text/html": [
       "<div>\n",
       "<style scoped>\n",
       "    .dataframe tbody tr th:only-of-type {\n",
       "        vertical-align: middle;\n",
       "    }\n",
       "\n",
       "    .dataframe tbody tr th {\n",
       "        vertical-align: top;\n",
       "    }\n",
       "\n",
       "    .dataframe thead th {\n",
       "        text-align: right;\n",
       "    }\n",
       "</style>\n",
       "<table border=\"1\" class=\"dataframe\">\n",
       "  <thead>\n",
       "    <tr style=\"text-align: right;\">\n",
       "      <th></th>\n",
       "      <th>clean_tokens</th>\n",
       "    </tr>\n",
       "  </thead>\n",
       "  <tbody>\n",
       "    <tr>\n",
       "      <th>1743835</th>\n",
       "      <td>[spent, 40, hours, last, 5, months, person, ph...</td>\n",
       "    </tr>\n",
       "    <tr>\n",
       "      <th>2445671</th>\n",
       "      <td>[got, un-authorized, charge, amount, 620.00, c...</td>\n",
       "    </tr>\n",
       "    <tr>\n",
       "      <th>2205985</th>\n",
       "      <td>[applied, making, homes, affordable, modificat...</td>\n",
       "    </tr>\n",
       "    <tr>\n",
       "      <th>736258</th>\n",
       "      <td>[identity, compromised, idea, could, done, pul...</td>\n",
       "    </tr>\n",
       "    <tr>\n",
       "      <th>1304966</th>\n",
       "      <td>[filing, complaint, towards, bsi, financial, s...</td>\n",
       "    </tr>\n",
       "  </tbody>\n",
       "</table>\n",
       "</div>"
      ],
      "text/plain": [
       "                                              clean_tokens\n",
       "1743835  [spent, 40, hours, last, 5, months, person, ph...\n",
       "2445671  [got, un-authorized, charge, amount, 620.00, c...\n",
       "2205985  [applied, making, homes, affordable, modificat...\n",
       "736258   [identity, compromised, idea, could, done, pul...\n",
       "1304966  [filing, complaint, towards, bsi, financial, s..."
      ]
     },
     "execution_count": 377,
     "metadata": {},
     "output_type": "execute_result"
    }
   ],
   "source": [
    "pd.DataFrame({'clean_tokens': cleaned_tokens}, index=indices)"
   ]
  },
  {
   "cell_type": "code",
   "execution_count": 378,
   "metadata": {},
   "outputs": [],
   "source": [
    "clean_data = pd.concat([pd.DataFrame({'clean_tokens': cleaned_tokens}, index=indices),\n",
    "                        subsample],\n",
    "                       axis=1)"
   ]
  },
  {
   "cell_type": "code",
   "execution_count": 379,
   "metadata": {},
   "outputs": [],
   "source": [
    "clean_data.drop(['regex', 'tokens_cleaned', 'tokens_joined', 'cleaned_tokens'], axis=1,\n",
    "                inplace=True)"
   ]
  },
  {
   "cell_type": "code",
   "execution_count": 380,
   "metadata": {},
   "outputs": [
    {
     "data": {
      "text/html": [
       "<div>\n",
       "<style scoped>\n",
       "    .dataframe tbody tr th:only-of-type {\n",
       "        vertical-align: middle;\n",
       "    }\n",
       "\n",
       "    .dataframe tbody tr th {\n",
       "        vertical-align: top;\n",
       "    }\n",
       "\n",
       "    .dataframe thead th {\n",
       "        text-align: right;\n",
       "    }\n",
       "</style>\n",
       "<table border=\"1\" class=\"dataframe\">\n",
       "  <thead>\n",
       "    <tr style=\"text-align: right;\">\n",
       "      <th></th>\n",
       "      <th>clean_tokens</th>\n",
       "      <th>Complaint</th>\n",
       "      <th>Company</th>\n",
       "      <th>Product</th>\n",
       "      <th>tokens</th>\n",
       "    </tr>\n",
       "  </thead>\n",
       "  <tbody>\n",
       "    <tr>\n",
       "      <th>1743835</th>\n",
       "      <td>[spent, 40, hours, last, 5, months, person, ph...</td>\n",
       "      <td>I have spent over 40 hours in last 5 months in...</td>\n",
       "      <td>JPMORGAN CHASE &amp; CO.</td>\n",
       "      <td>Money transfer, virtual currency, or money ser...</td>\n",
       "      <td>[spent, 40, hours, last, 5, months, person, ph...</td>\n",
       "    </tr>\n",
       "    <tr>\n",
       "      <th>2445671</th>\n",
       "      <td>[got, un-authorized, charge, amount, 620.00, c...</td>\n",
       "      <td>I got an un-authorized charge in the amount of...</td>\n",
       "      <td>CITIBANK, N.A.</td>\n",
       "      <td>Credit card or prepaid card</td>\n",
       "      <td>[got, un-authorized, charge, amount, 620.00, x...</td>\n",
       "    </tr>\n",
       "    <tr>\n",
       "      <th>2205985</th>\n",
       "      <td>[applied, making, homes, affordable, modificat...</td>\n",
       "      <td>In XXXX I applied for a Making Homes Affordabl...</td>\n",
       "      <td>Specialized Loan Servicing Holdings LLC</td>\n",
       "      <td>Mortgage</td>\n",
       "      <td>[xxxx, applied, making, homes, affordable, mod...</td>\n",
       "    </tr>\n",
       "    <tr>\n",
       "      <th>736258</th>\n",
       "      <td>[identity, compromised, idea, could, done, pul...</td>\n",
       "      <td>My identity has been compromised. I have no id...</td>\n",
       "      <td>Experian Information Solutions Inc.</td>\n",
       "      <td>Credit reporting, credit repair services, or o...</td>\n",
       "      <td>[identity, compromised, idea, could, done, pul...</td>\n",
       "    </tr>\n",
       "    <tr>\n",
       "      <th>1304966</th>\n",
       "      <td>[filing, complaint, towards, bsi, financial, s...</td>\n",
       "      <td>Filing this complaint towards BSI Financial Se...</td>\n",
       "      <td>Servis One, Inc., Titusville, PA Branch</td>\n",
       "      <td>Mortgage</td>\n",
       "      <td>[filing, complaint, towards, bsi, financial, s...</td>\n",
       "    </tr>\n",
       "  </tbody>\n",
       "</table>\n",
       "</div>"
      ],
      "text/plain": [
       "                                              clean_tokens  \\\n",
       "1743835  [spent, 40, hours, last, 5, months, person, ph...   \n",
       "2445671  [got, un-authorized, charge, amount, 620.00, c...   \n",
       "2205985  [applied, making, homes, affordable, modificat...   \n",
       "736258   [identity, compromised, idea, could, done, pul...   \n",
       "1304966  [filing, complaint, towards, bsi, financial, s...   \n",
       "\n",
       "                                                 Complaint  \\\n",
       "1743835  I have spent over 40 hours in last 5 months in...   \n",
       "2445671  I got an un-authorized charge in the amount of...   \n",
       "2205985  In XXXX I applied for a Making Homes Affordabl...   \n",
       "736258   My identity has been compromised. I have no id...   \n",
       "1304966  Filing this complaint towards BSI Financial Se...   \n",
       "\n",
       "                                         Company  \\\n",
       "1743835                     JPMORGAN CHASE & CO.   \n",
       "2445671                           CITIBANK, N.A.   \n",
       "2205985  Specialized Loan Servicing Holdings LLC   \n",
       "736258       Experian Information Solutions Inc.   \n",
       "1304966  Servis One, Inc., Titusville, PA Branch   \n",
       "\n",
       "                                                   Product  \\\n",
       "1743835  Money transfer, virtual currency, or money ser...   \n",
       "2445671                        Credit card or prepaid card   \n",
       "2205985                                           Mortgage   \n",
       "736258   Credit reporting, credit repair services, or o...   \n",
       "1304966                                           Mortgage   \n",
       "\n",
       "                                                    tokens  \n",
       "1743835  [spent, 40, hours, last, 5, months, person, ph...  \n",
       "2445671  [got, un-authorized, charge, amount, 620.00, x...  \n",
       "2205985  [xxxx, applied, making, homes, affordable, mod...  \n",
       "736258   [identity, compromised, idea, could, done, pul...  \n",
       "1304966  [filing, complaint, towards, bsi, financial, s...  "
      ]
     },
     "execution_count": 380,
     "metadata": {},
     "output_type": "execute_result"
    }
   ],
   "source": [
    "clean_data"
   ]
  },
  {
   "cell_type": "markdown",
   "metadata": {},
   "source": [
    "Now I'll lemmatize the tokens."
   ]
  },
  {
   "cell_type": "code",
   "execution_count": 489,
   "metadata": {},
   "outputs": [],
   "source": [
    "import nltk\n",
    "\n",
    "# download wordnet & tagsets if you haven't already\n",
    "nltk.download('wordnet')\n",
    "nltk.download('tagsets')\n",
    "\n",
    "# import lemmatizer\n",
    "from nltk.stem.wordnet import WordNetLemmatizer\n",
    "lemmatizer = WordNetLemmatizer()\n",
    "\n",
    "# helper function\n",
    "# function needed for helper function =)\n",
    "from nltk.corpus import wordnet\n",
    "\n",
    "def get_wordnet_pos(tag):\n",
    "    '''Convert POS tags generated by nltk.pos_tag to wordnet tags, for use with word net\n",
    "    lemmatizer provided in the nltk.stem.wordnet package.'''\n",
    "    if tag.startswith('J'):\n",
    "        return wordnet.ADJ\n",
    "    elif tag.startswith('V'):\n",
    "        return wordnet.VERB\n",
    "    elif tag.startswith('N'):\n",
    "        return wordnet.NOUN\n",
    "    elif tag.startswith('R'):\n",
    "        return wordnet.ADV\n",
    "    else:\n",
    "        return wordnet.NOUN\n",
    "\n",
    "# apply lemmatizer to wordnet-tagged words to get lemmas\n",
    "clean_data['lemmas'] = clean_data.clean_tokens.map(\n",
    "lambda x: [lemmatizer.lemmatize(*t) for t in\\\n",
    "          [(pair[0], get_wordnet_pos(pair[1])) for pair in nltk.pos_tag(x)]\n",
    "         ])"
   ]
  },
  {
   "cell_type": "code",
   "execution_count": 492,
   "metadata": {},
   "outputs": [
    {
     "data": {
      "text/html": [
       "<div>\n",
       "<style scoped>\n",
       "    .dataframe tbody tr th:only-of-type {\n",
       "        vertical-align: middle;\n",
       "    }\n",
       "\n",
       "    .dataframe tbody tr th {\n",
       "        vertical-align: top;\n",
       "    }\n",
       "\n",
       "    .dataframe thead th {\n",
       "        text-align: right;\n",
       "    }\n",
       "</style>\n",
       "<table border=\"1\" class=\"dataframe\">\n",
       "  <thead>\n",
       "    <tr style=\"text-align: right;\">\n",
       "      <th></th>\n",
       "      <th>clean_tokens</th>\n",
       "      <th>Complaint</th>\n",
       "      <th>Company</th>\n",
       "      <th>Product</th>\n",
       "      <th>tokenized_complaint</th>\n",
       "      <th>tokens</th>\n",
       "      <th>lemmas</th>\n",
       "    </tr>\n",
       "  </thead>\n",
       "  <tbody>\n",
       "    <tr>\n",
       "      <th>2203080</th>\n",
       "      <td>[recently, locked, online, account, pay, bill,...</td>\n",
       "      <td>Recently I was locked out of my online account...</td>\n",
       "      <td>CAPITAL ONE FINANCIAL CORPORATION</td>\n",
       "      <td>Credit card or prepaid card</td>\n",
       "      <td>[Recently, I, was, locked, out, of, my, online...</td>\n",
       "      <td>[recently, locked, online, account, pay, bill,...</td>\n",
       "      <td>[recently, lock, online, account, pay, bill, c...</td>\n",
       "    </tr>\n",
       "    <tr>\n",
       "      <th>396597</th>\n",
       "      <td>[name, third, party, involved, attached, id, d...</td>\n",
       "      <td>My name is XXXX XXXX XXXX There is no third pa...</td>\n",
       "      <td>EQUIFAX, INC.</td>\n",
       "      <td>Credit reporting, credit repair services, or o...</td>\n",
       "      <td>[My, name, is, XXXX, XXXX, XXXX, There, is, no...</td>\n",
       "      <td>[name, xxxx, xxxx, xxxx, third, party, involve...</td>\n",
       "      <td>[name, third, party, involve, attached, id, do...</td>\n",
       "    </tr>\n",
       "    <tr>\n",
       "      <th>1778976</th>\n",
       "      <td>[accordance, fair, credit, reporting, act, lis...</td>\n",
       "      <td>In accordance with the Fair Credit Reporting a...</td>\n",
       "      <td>TRANSUNION INTERMEDIATE HOLDINGS, INC.</td>\n",
       "      <td>Credit reporting, credit repair services, or o...</td>\n",
       "      <td>[In, accordance, with, the, Fair, Credit, Repo...</td>\n",
       "      <td>[accordance, fair, credit, reporting, act, lis...</td>\n",
       "      <td>[accordance, fair, credit, reporting, act, lis...</td>\n",
       "    </tr>\n",
       "    <tr>\n",
       "      <th>1584788</th>\n",
       "      <td>[accordance, fair, credit, reporting, act, fai...</td>\n",
       "      <td>In accordance with the Fair Credit Reporting A...</td>\n",
       "      <td>EQUIFAX, INC.</td>\n",
       "      <td>Credit reporting, credit repair services, or o...</td>\n",
       "      <td>[In, accordance, with, the, Fair, Credit, Repo...</td>\n",
       "      <td>[accordance, fair, credit, reporting, act, fai...</td>\n",
       "      <td>[accordance, fair, credit, reporting, act, fai...</td>\n",
       "    </tr>\n",
       "    <tr>\n",
       "      <th>1670028</th>\n",
       "      <td>[hello, thank, assistance, last, collection, a...</td>\n",
       "      <td>Hello and thank you for your assistance. \\nLas...</td>\n",
       "      <td>FMS Inc.</td>\n",
       "      <td>Credit reporting, credit repair services, or o...</td>\n",
       "      <td>[Hello, and, thank, you, for, your, assistance...</td>\n",
       "      <td>[hello, thank, assistance, last, xxxx, collect...</td>\n",
       "      <td>[hello, thank, assistance, last, collection, a...</td>\n",
       "    </tr>\n",
       "  </tbody>\n",
       "</table>\n",
       "</div>"
      ],
      "text/plain": [
       "                                              clean_tokens  \\\n",
       "2203080  [recently, locked, online, account, pay, bill,...   \n",
       "396597   [name, third, party, involved, attached, id, d...   \n",
       "1778976  [accordance, fair, credit, reporting, act, lis...   \n",
       "1584788  [accordance, fair, credit, reporting, act, fai...   \n",
       "1670028  [hello, thank, assistance, last, collection, a...   \n",
       "\n",
       "                                                 Complaint  \\\n",
       "2203080  Recently I was locked out of my online account...   \n",
       "396597   My name is XXXX XXXX XXXX There is no third pa...   \n",
       "1778976  In accordance with the Fair Credit Reporting a...   \n",
       "1584788  In accordance with the Fair Credit Reporting A...   \n",
       "1670028  Hello and thank you for your assistance. \\nLas...   \n",
       "\n",
       "                                        Company  \\\n",
       "2203080       CAPITAL ONE FINANCIAL CORPORATION   \n",
       "396597                            EQUIFAX, INC.   \n",
       "1778976  TRANSUNION INTERMEDIATE HOLDINGS, INC.   \n",
       "1584788                           EQUIFAX, INC.   \n",
       "1670028                                FMS Inc.   \n",
       "\n",
       "                                                   Product  \\\n",
       "2203080                        Credit card or prepaid card   \n",
       "396597   Credit reporting, credit repair services, or o...   \n",
       "1778976  Credit reporting, credit repair services, or o...   \n",
       "1584788  Credit reporting, credit repair services, or o...   \n",
       "1670028  Credit reporting, credit repair services, or o...   \n",
       "\n",
       "                                       tokenized_complaint  \\\n",
       "2203080  [Recently, I, was, locked, out, of, my, online...   \n",
       "396597   [My, name, is, XXXX, XXXX, XXXX, There, is, no...   \n",
       "1778976  [In, accordance, with, the, Fair, Credit, Repo...   \n",
       "1584788  [In, accordance, with, the, Fair, Credit, Repo...   \n",
       "1670028  [Hello, and, thank, you, for, your, assistance...   \n",
       "\n",
       "                                                    tokens  \\\n",
       "2203080  [recently, locked, online, account, pay, bill,...   \n",
       "396597   [name, xxxx, xxxx, xxxx, third, party, involve...   \n",
       "1778976  [accordance, fair, credit, reporting, act, lis...   \n",
       "1584788  [accordance, fair, credit, reporting, act, fai...   \n",
       "1670028  [hello, thank, assistance, last, xxxx, collect...   \n",
       "\n",
       "                                                    lemmas  \n",
       "2203080  [recently, lock, online, account, pay, bill, c...  \n",
       "396597   [name, third, party, involve, attached, id, do...  \n",
       "1778976  [accordance, fair, credit, reporting, act, lis...  \n",
       "1584788  [accordance, fair, credit, reporting, act, fai...  \n",
       "1670028  [hello, thank, assistance, last, collection, a...  "
      ]
     },
     "execution_count": 492,
     "metadata": {},
     "output_type": "execute_result"
    }
   ],
   "source": [
    "clean_data.head()"
   ]
  },
  {
   "cell_type": "code",
   "execution_count": 518,
   "metadata": {},
   "outputs": [],
   "source": [
    "from sklearn.feature_extraction.text import TfidfVectorizer\n",
    "\n",
    "tfidf_vec = TfidfVectorizer(max_df=0.5)\n",
    "\n",
    "vectorized_words = pd.DataFrame(\n",
    "    tfidf_vec.fit_transform(clean_data['lemmas'].map(lambda x: ' '.join(x))).todense(),\n",
    "    columns=list(tfidf_vec.vocabulary_.keys()),\n",
    "    index=clean_data.index)"
   ]
  },
  {
   "cell_type": "markdown",
   "metadata": {},
   "source": [
    "I performed a couple of checks to ensure that the vectorizer is working with my data as I intended (deleted for neatness.)"
   ]
  },
  {
   "cell_type": "markdown",
   "metadata": {},
   "source": [
    "Let's use Naive Bayes for a baseline classifier."
   ]
  },
  {
   "cell_type": "code",
   "execution_count": 525,
   "metadata": {},
   "outputs": [],
   "source": [
    "from sklearn.naive_bayes import MultinomialNB\n",
    "\n",
    "baseline = MultinomialNB()"
   ]
  },
  {
   "cell_type": "code",
   "execution_count": 526,
   "metadata": {
    "scrolled": true
   },
   "outputs": [
    {
     "data": {
      "text/plain": [
       "MultinomialNB()"
      ]
     },
     "execution_count": 526,
     "metadata": {},
     "output_type": "execute_result"
    }
   ],
   "source": [
    "baseline.fit(vectorized_words, subsample.Product)"
   ]
  },
  {
   "cell_type": "code",
   "execution_count": 527,
   "metadata": {
    "scrolled": true
   },
   "outputs": [
    {
     "data": {
      "text/plain": [
       "array(['Credit reporting, credit repair services, or other personal consumer reports',\n",
       "       'Credit reporting, credit repair services, or other personal consumer reports',\n",
       "       'Credit reporting, credit repair services, or other personal consumer reports',\n",
       "       'Credit reporting, credit repair services, or other personal consumer reports',\n",
       "       'Credit reporting, credit repair services, or other personal consumer reports'],\n",
       "      dtype='<U76')"
      ]
     },
     "execution_count": 527,
     "metadata": {},
     "output_type": "execute_result"
    }
   ],
   "source": [
    "baseline.predict(vectorized_words)"
   ]
  },
  {
   "cell_type": "markdown",
   "metadata": {},
   "source": [
    "----"
   ]
  },
  {
   "cell_type": "markdown",
   "metadata": {},
   "source": [
    "With initial checks out of the way, let's split our data into train, test and validation sets and fit a baseline model to the entire training set."
   ]
  },
  {
   "cell_type": "code",
   "execution_count": 532,
   "metadata": {},
   "outputs": [
    {
     "data": {
      "text/html": [
       "<div>\n",
       "<style scoped>\n",
       "    .dataframe tbody tr th:only-of-type {\n",
       "        vertical-align: middle;\n",
       "    }\n",
       "\n",
       "    .dataframe tbody tr th {\n",
       "        vertical-align: top;\n",
       "    }\n",
       "\n",
       "    .dataframe thead th {\n",
       "        text-align: right;\n",
       "    }\n",
       "</style>\n",
       "<table border=\"1\" class=\"dataframe\">\n",
       "  <thead>\n",
       "    <tr style=\"text-align: right;\">\n",
       "      <th></th>\n",
       "      <th>Complaint</th>\n",
       "      <th>Company</th>\n",
       "      <th>Product</th>\n",
       "    </tr>\n",
       "  </thead>\n",
       "  <tbody>\n",
       "    <tr>\n",
       "      <th>3347590</th>\n",
       "      <td>XXXX XXXX XXXX XXXX : XXXX. XXXXXXXX XXXX XXXX...</td>\n",
       "      <td>EQUIFAX, INC.</td>\n",
       "      <td>Credit reporting, credit repair services, or o...</td>\n",
       "    </tr>\n",
       "    <tr>\n",
       "      <th>3273724</th>\n",
       "      <td>I have written you twice. Chase finds ways out...</td>\n",
       "      <td>JPMORGAN CHASE &amp; CO.</td>\n",
       "      <td>Mortgage</td>\n",
       "    </tr>\n",
       "    <tr>\n",
       "      <th>543587</th>\n",
       "      <td>I contacted Amex, who placed the inquiry, and ...</td>\n",
       "      <td>AMERICAN EXPRESS COMPANY</td>\n",
       "      <td>Credit reporting, credit repair services, or o...</td>\n",
       "    </tr>\n",
       "    <tr>\n",
       "      <th>1039197</th>\n",
       "      <td>In XXXX of 2018, I started getting calls from ...</td>\n",
       "      <td>CREDIT BUREAU OF NAPA COUNTY, INC.</td>\n",
       "      <td>Debt collection</td>\n",
       "    </tr>\n",
       "    <tr>\n",
       "      <th>1935540</th>\n",
       "      <td>On ( XX/XX/2022 ) I sent a letter regarding in...</td>\n",
       "      <td>EQUIFAX, INC.</td>\n",
       "      <td>Credit reporting, credit repair services, or o...</td>\n",
       "    </tr>\n",
       "  </tbody>\n",
       "</table>\n",
       "</div>"
      ],
      "text/plain": [
       "                                                 Complaint  \\\n",
       "3347590  XXXX XXXX XXXX XXXX : XXXX. XXXXXXXX XXXX XXXX...   \n",
       "3273724  I have written you twice. Chase finds ways out...   \n",
       "543587   I contacted Amex, who placed the inquiry, and ...   \n",
       "1039197  In XXXX of 2018, I started getting calls from ...   \n",
       "1935540  On ( XX/XX/2022 ) I sent a letter regarding in...   \n",
       "\n",
       "                                    Company  \\\n",
       "3347590                       EQUIFAX, INC.   \n",
       "3273724                JPMORGAN CHASE & CO.   \n",
       "543587             AMERICAN EXPRESS COMPANY   \n",
       "1039197  CREDIT BUREAU OF NAPA COUNTY, INC.   \n",
       "1935540                       EQUIFAX, INC.   \n",
       "\n",
       "                                                   Product  \n",
       "3347590  Credit reporting, credit repair services, or o...  \n",
       "3273724                                           Mortgage  \n",
       "543587   Credit reporting, credit repair services, or o...  \n",
       "1039197                                    Debt collection  \n",
       "1935540  Credit reporting, credit repair services, or o...  "
      ]
     },
     "execution_count": 532,
     "metadata": {},
     "output_type": "execute_result"
    }
   ],
   "source": [
    "sample.head()"
   ]
  },
  {
   "cell_type": "code",
   "execution_count": 542,
   "metadata": {},
   "outputs": [],
   "source": [
    "from sklearn.model_selection import train_test_split\n",
    "\n",
    "X = sample.drop(['Product'], axis=1).copy()\n",
    "y = sample.Product.copy()\n",
    "\n",
    "X_train, X_test, y_train, y_test = train_test_split(X, y, test_size=0.2, random_state=seed)"
   ]
  },
  {
   "cell_type": "code",
   "execution_count": 543,
   "metadata": {},
   "outputs": [],
   "source": [
    "# split training data into training and validation data\n",
    "\n",
    "X_train, X_val, y_train, y_val = train_test_split(X_train,\n",
    "                                                  y_train,\n",
    "                                                  test_size=0.25,\n",
    "                                                  random_state=seed)"
   ]
  },
  {
   "cell_type": "code",
   "execution_count": 544,
   "metadata": {},
   "outputs": [
    {
     "name": "stdout",
     "output_type": "stream",
     "text": [
      "(60000, 2)\n",
      "(20000, 2)\n",
      "(20000, 2)\n"
     ]
    }
   ],
   "source": [
    "print(X_train.shape)\n",
    "print(X_val.shape)\n",
    "print(X_test.shape)"
   ]
  },
  {
   "cell_type": "code",
   "execution_count": 545,
   "metadata": {},
   "outputs": [],
   "source": [
    "from nltk.tokenize import word_tokenize\n",
    "from nltk.corpus import stopwords\n",
    "import string\n",
    "\n",
    "stopwords_list = stopwords.words('english')\n",
    "stopwords_list.extend(string.punctuation)\n",
    "\n",
    "def get_tokens(complaint):\n",
    "    '''Takes in a string and returns a list of lowercase tokens without punctuation or\n",
    "    common English stopwords.'''\n",
    "    return [w.lower() for w in word_tokenize(complaint) if w.lower() not in stopwords_list]"
   ]
  },
  {
   "cell_type": "code",
   "execution_count": 547,
   "metadata": {},
   "outputs": [
    {
     "data": {
      "text/html": [
       "<div>\n",
       "<style scoped>\n",
       "    .dataframe tbody tr th:only-of-type {\n",
       "        vertical-align: middle;\n",
       "    }\n",
       "\n",
       "    .dataframe tbody tr th {\n",
       "        vertical-align: top;\n",
       "    }\n",
       "\n",
       "    .dataframe thead th {\n",
       "        text-align: right;\n",
       "    }\n",
       "</style>\n",
       "<table border=\"1\" class=\"dataframe\">\n",
       "  <thead>\n",
       "    <tr style=\"text-align: right;\">\n",
       "      <th></th>\n",
       "      <th>Complaint</th>\n",
       "      <th>Company</th>\n",
       "    </tr>\n",
       "  </thead>\n",
       "  <tbody>\n",
       "    <tr>\n",
       "      <th>364212</th>\n",
       "      <td>This is XXXX XXXX, who is submitting this CFPB...</td>\n",
       "      <td>EQUIFAX, INC.</td>\n",
       "    </tr>\n",
       "    <tr>\n",
       "      <th>2207116</th>\n",
       "      <td>I am disputing a couple of inaccurate items on...</td>\n",
       "      <td>EQUIFAX, INC.</td>\n",
       "    </tr>\n",
       "    <tr>\n",
       "      <th>1015564</th>\n",
       "      <td>I have contacted this company on several occas...</td>\n",
       "      <td>Penn Credit Corporation</td>\n",
       "    </tr>\n",
       "    <tr>\n",
       "      <th>1647648</th>\n",
       "      <td>My mother was contacted by an XXXX representat...</td>\n",
       "      <td>BTH Management</td>\n",
       "    </tr>\n",
       "    <tr>\n",
       "      <th>2082209</th>\n",
       "      <td>On XXXX XXXX I sent a letter regarding an accu...</td>\n",
       "      <td>EQUIFAX, INC.</td>\n",
       "    </tr>\n",
       "  </tbody>\n",
       "</table>\n",
       "</div>"
      ],
      "text/plain": [
       "                                                 Complaint  \\\n",
       "364212   This is XXXX XXXX, who is submitting this CFPB...   \n",
       "2207116  I am disputing a couple of inaccurate items on...   \n",
       "1015564  I have contacted this company on several occas...   \n",
       "1647648  My mother was contacted by an XXXX representat...   \n",
       "2082209  On XXXX XXXX I sent a letter regarding an accu...   \n",
       "\n",
       "                         Company  \n",
       "364212             EQUIFAX, INC.  \n",
       "2207116            EQUIFAX, INC.  \n",
       "1015564  Penn Credit Corporation  \n",
       "1647648           BTH Management  \n",
       "2082209            EQUIFAX, INC.  "
      ]
     },
     "execution_count": 547,
     "metadata": {},
     "output_type": "execute_result"
    }
   ],
   "source": [
    "X_train.head()"
   ]
  },
  {
   "cell_type": "code",
   "execution_count": 549,
   "metadata": {
    "scrolled": true
   },
   "outputs": [],
   "source": [
    "X_train['tokens'] = X_train.Complaint.map(get_tokens)"
   ]
  },
  {
   "cell_type": "code",
   "execution_count": 550,
   "metadata": {},
   "outputs": [
    {
     "data": {
      "text/html": [
       "<div>\n",
       "<style scoped>\n",
       "    .dataframe tbody tr th:only-of-type {\n",
       "        vertical-align: middle;\n",
       "    }\n",
       "\n",
       "    .dataframe tbody tr th {\n",
       "        vertical-align: top;\n",
       "    }\n",
       "\n",
       "    .dataframe thead th {\n",
       "        text-align: right;\n",
       "    }\n",
       "</style>\n",
       "<table border=\"1\" class=\"dataframe\">\n",
       "  <thead>\n",
       "    <tr style=\"text-align: right;\">\n",
       "      <th></th>\n",
       "      <th>Complaint</th>\n",
       "      <th>Company</th>\n",
       "      <th>tokens</th>\n",
       "    </tr>\n",
       "  </thead>\n",
       "  <tbody>\n",
       "    <tr>\n",
       "      <th>364212</th>\n",
       "      <td>This is XXXX XXXX, who is submitting this CFPB...</td>\n",
       "      <td>EQUIFAX, INC.</td>\n",
       "      <td>[xxxx, xxxx, submitting, cfpb, complaint, info...</td>\n",
       "    </tr>\n",
       "    <tr>\n",
       "      <th>2207116</th>\n",
       "      <td>I am disputing a couple of inaccurate items on...</td>\n",
       "      <td>EQUIFAX, INC.</td>\n",
       "      <td>[disputing, couple, inaccurate, items, credit,...</td>\n",
       "    </tr>\n",
       "    <tr>\n",
       "      <th>1015564</th>\n",
       "      <td>I have contacted this company on several occas...</td>\n",
       "      <td>Penn Credit Corporation</td>\n",
       "      <td>[contacted, company, several, occassions, spok...</td>\n",
       "    </tr>\n",
       "    <tr>\n",
       "      <th>1647648</th>\n",
       "      <td>My mother was contacted by an XXXX representat...</td>\n",
       "      <td>BTH Management</td>\n",
       "      <td>[mother, contacted, xxxx, representative, xx/x...</td>\n",
       "    </tr>\n",
       "    <tr>\n",
       "      <th>2082209</th>\n",
       "      <td>On XXXX XXXX I sent a letter regarding an accu...</td>\n",
       "      <td>EQUIFAX, INC.</td>\n",
       "      <td>[xxxx, xxxx, sent, letter, regarding, accurate...</td>\n",
       "    </tr>\n",
       "  </tbody>\n",
       "</table>\n",
       "</div>"
      ],
      "text/plain": [
       "                                                 Complaint  \\\n",
       "364212   This is XXXX XXXX, who is submitting this CFPB...   \n",
       "2207116  I am disputing a couple of inaccurate items on...   \n",
       "1015564  I have contacted this company on several occas...   \n",
       "1647648  My mother was contacted by an XXXX representat...   \n",
       "2082209  On XXXX XXXX I sent a letter regarding an accu...   \n",
       "\n",
       "                         Company  \\\n",
       "364212             EQUIFAX, INC.   \n",
       "2207116            EQUIFAX, INC.   \n",
       "1015564  Penn Credit Corporation   \n",
       "1647648           BTH Management   \n",
       "2082209            EQUIFAX, INC.   \n",
       "\n",
       "                                                    tokens  \n",
       "364212   [xxxx, xxxx, submitting, cfpb, complaint, info...  \n",
       "2207116  [disputing, couple, inaccurate, items, credit,...  \n",
       "1015564  [contacted, company, several, occassions, spok...  \n",
       "1647648  [mother, contacted, xxxx, representative, xx/x...  \n",
       "2082209  [xxxx, xxxx, sent, letter, regarding, accurate...  "
      ]
     },
     "execution_count": 550,
     "metadata": {},
     "output_type": "execute_result"
    }
   ],
   "source": [
    "X_train.head()"
   ]
  },
  {
   "cell_type": "code",
   "execution_count": 576,
   "metadata": {},
   "outputs": [],
   "source": [
    "import re\n",
    "\n",
    "def remove_redactions(sample):\n",
    "    # create and compile regular expression pattern\n",
    "    pattern = '\\S*x+x+\\S*'\n",
    "    p = re.compile(pattern)\n",
    "    \n",
    "    # find pattern matches for each list of tokens\n",
    "    regex_series = sample.tokens.map(lambda x: p.findall(' '.join(x)))\n",
    "    \n",
    "    # explode dataframe to access each token individually\n",
    "    tokens_by_index = sample.tokens.copy()\n",
    "    \n",
    "    # store info for cleaned tokens for each index\n",
    "    indices = list(sample.index)\n",
    "    cleaned_tokens = []\n",
    "\n",
    "    # iterate over all indices\n",
    "    for index in indices:\n",
    "        # create a list of tokens to keep\n",
    "        tokens = []\n",
    "        # for each token corresponding to that index\n",
    "        for token in tokens_by_index[index]:\n",
    "            keep = 0 # assume that we won't keep this token\n",
    "            # iterate over all redacted items from the list of tokens (skip if list is empty)\n",
    "            if regex_series[index]:\n",
    "                for redacted in regex_series[index]:\n",
    "                    if token == redacted:\n",
    "                        keep=0 # don't keep it if it's a \"redacted\" token\n",
    "                        break\n",
    "                    else: # keep checking if it matches other redacted patterns\n",
    "                        keep=1\n",
    "                        continue\n",
    "                if keep==1:\n",
    "                    tokens.append(token)\n",
    "            else: # if there are no redacted expressions, keep all tokens\n",
    "                tokens = tokens_by_index[index]\n",
    "                \n",
    "        # append the list of tokens for this index to the list of cleaned_tokens            \n",
    "        cleaned_tokens.append(tokens)\n",
    "        \n",
    "    # concatenate new results with old\n",
    "    clean_data = pd.concat([pd.DataFrame({'clean_tokens': cleaned_tokens}, index=indices),\n",
    "                            sample],\n",
    "                       axis=1)\n",
    "    \n",
    "    # return clean data\n",
    "    return clean_data"
   ]
  },
  {
   "cell_type": "code",
   "execution_count": 577,
   "metadata": {},
   "outputs": [],
   "source": [
    "clean_data = remove_redactions(X_train)"
   ]
  },
  {
   "cell_type": "code",
   "execution_count": 578,
   "metadata": {},
   "outputs": [
    {
     "data": {
      "text/html": [
       "<div>\n",
       "<style scoped>\n",
       "    .dataframe tbody tr th:only-of-type {\n",
       "        vertical-align: middle;\n",
       "    }\n",
       "\n",
       "    .dataframe tbody tr th {\n",
       "        vertical-align: top;\n",
       "    }\n",
       "\n",
       "    .dataframe thead th {\n",
       "        text-align: right;\n",
       "    }\n",
       "</style>\n",
       "<table border=\"1\" class=\"dataframe\">\n",
       "  <thead>\n",
       "    <tr style=\"text-align: right;\">\n",
       "      <th></th>\n",
       "      <th>clean_tokens</th>\n",
       "      <th>Complaint</th>\n",
       "      <th>Company</th>\n",
       "      <th>tokens</th>\n",
       "    </tr>\n",
       "  </thead>\n",
       "  <tbody>\n",
       "    <tr>\n",
       "      <th>364212</th>\n",
       "      <td>[submitting, cfpb, complaint, inform, third, p...</td>\n",
       "      <td>This is XXXX XXXX, who is submitting this CFPB...</td>\n",
       "      <td>EQUIFAX, INC.</td>\n",
       "      <td>[xxxx, xxxx, submitting, cfpb, complaint, info...</td>\n",
       "    </tr>\n",
       "    <tr>\n",
       "      <th>2207116</th>\n",
       "      <td>[disputing, couple, inaccurate, items, credit,...</td>\n",
       "      <td>I am disputing a couple of inaccurate items on...</td>\n",
       "      <td>EQUIFAX, INC.</td>\n",
       "      <td>[disputing, couple, inaccurate, items, credit,...</td>\n",
       "    </tr>\n",
       "    <tr>\n",
       "      <th>1015564</th>\n",
       "      <td>[contacted, company, several, occassions, spok...</td>\n",
       "      <td>I have contacted this company on several occas...</td>\n",
       "      <td>Penn Credit Corporation</td>\n",
       "      <td>[contacted, company, several, occassions, spok...</td>\n",
       "    </tr>\n",
       "    <tr>\n",
       "      <th>1647648</th>\n",
       "      <td>[mother, contacted, representative, shared, pr...</td>\n",
       "      <td>My mother was contacted by an XXXX representat...</td>\n",
       "      <td>BTH Management</td>\n",
       "      <td>[mother, contacted, xxxx, representative, xx/x...</td>\n",
       "    </tr>\n",
       "    <tr>\n",
       "      <th>2082209</th>\n",
       "      <td>[sent, letter, regarding, accurate, unknown, t...</td>\n",
       "      <td>On XXXX XXXX I sent a letter regarding an accu...</td>\n",
       "      <td>EQUIFAX, INC.</td>\n",
       "      <td>[xxxx, xxxx, sent, letter, regarding, accurate...</td>\n",
       "    </tr>\n",
       "  </tbody>\n",
       "</table>\n",
       "</div>"
      ],
      "text/plain": [
       "                                              clean_tokens  \\\n",
       "364212   [submitting, cfpb, complaint, inform, third, p...   \n",
       "2207116  [disputing, couple, inaccurate, items, credit,...   \n",
       "1015564  [contacted, company, several, occassions, spok...   \n",
       "1647648  [mother, contacted, representative, shared, pr...   \n",
       "2082209  [sent, letter, regarding, accurate, unknown, t...   \n",
       "\n",
       "                                                 Complaint  \\\n",
       "364212   This is XXXX XXXX, who is submitting this CFPB...   \n",
       "2207116  I am disputing a couple of inaccurate items on...   \n",
       "1015564  I have contacted this company on several occas...   \n",
       "1647648  My mother was contacted by an XXXX representat...   \n",
       "2082209  On XXXX XXXX I sent a letter regarding an accu...   \n",
       "\n",
       "                         Company  \\\n",
       "364212             EQUIFAX, INC.   \n",
       "2207116            EQUIFAX, INC.   \n",
       "1015564  Penn Credit Corporation   \n",
       "1647648           BTH Management   \n",
       "2082209            EQUIFAX, INC.   \n",
       "\n",
       "                                                    tokens  \n",
       "364212   [xxxx, xxxx, submitting, cfpb, complaint, info...  \n",
       "2207116  [disputing, couple, inaccurate, items, credit,...  \n",
       "1015564  [contacted, company, several, occassions, spok...  \n",
       "1647648  [mother, contacted, xxxx, representative, xx/x...  \n",
       "2082209  [xxxx, xxxx, sent, letter, regarding, accurate...  "
      ]
     },
     "execution_count": 578,
     "metadata": {},
     "output_type": "execute_result"
    }
   ],
   "source": [
    "clean_data.head()"
   ]
  },
  {
   "cell_type": "code",
   "execution_count": 579,
   "metadata": {},
   "outputs": [
    {
     "name": "stderr",
     "output_type": "stream",
     "text": [
      "[nltk_data] Downloading package wordnet to /Users/user/nltk_data...\n",
      "[nltk_data]   Package wordnet is already up-to-date!\n",
      "[nltk_data] Downloading package tagsets to /Users/user/nltk_data...\n",
      "[nltk_data]   Package tagsets is already up-to-date!\n"
     ]
    }
   ],
   "source": [
    "# download wordnet & tagsets if you haven't already\n",
    "import nltk\n",
    "nltk.download('wordnet')\n",
    "nltk.download('tagsets')\n",
    "\n",
    "# helper function to get wordnet pos_tags from nltk pos_tags\n",
    "from nltk.corpus import wordnet\n",
    "\n",
    "def get_wordnet_pos(tag):\n",
    "    '''Convert POS tags generated by nltk.pos_tag to wordnet tags, for use with word net\n",
    "    lemmatizer provided in the nltk.stem.wordnet package.'''\n",
    "    if tag.startswith('J'):\n",
    "        return wordnet.ADJ\n",
    "    elif tag.startswith('V'):\n",
    "        return wordnet.VERB\n",
    "    elif tag.startswith('N'):\n",
    "        return wordnet.NOUN\n",
    "    elif tag.startswith('R'):\n",
    "        return wordnet.ADV\n",
    "    else:\n",
    "        return wordnet.NOUN"
   ]
  },
  {
   "cell_type": "code",
   "execution_count": 580,
   "metadata": {},
   "outputs": [],
   "source": [
    "# import lemmatizer\n",
    "from nltk.stem.wordnet import WordNetLemmatizer\n",
    "lemmatizer = WordNetLemmatizer()\n",
    "\n",
    "# also import nltk to get pos_tags below\n",
    "import nltk\n",
    "\n",
    "# apply lemmatizer to wordnet-tagged words to get lemmas\n",
    "clean_data['lemmas'] = clean_data.clean_tokens.map(\n",
    "lambda x: [lemmatizer.lemmatize(*t) for t in\\\n",
    "          [(pair[0], get_wordnet_pos(pair[1])) for pair in nltk.pos_tag(x)]\n",
    "         ])"
   ]
  },
  {
   "cell_type": "code",
   "execution_count": 581,
   "metadata": {},
   "outputs": [
    {
     "data": {
      "text/html": [
       "<div>\n",
       "<style scoped>\n",
       "    .dataframe tbody tr th:only-of-type {\n",
       "        vertical-align: middle;\n",
       "    }\n",
       "\n",
       "    .dataframe tbody tr th {\n",
       "        vertical-align: top;\n",
       "    }\n",
       "\n",
       "    .dataframe thead th {\n",
       "        text-align: right;\n",
       "    }\n",
       "</style>\n",
       "<table border=\"1\" class=\"dataframe\">\n",
       "  <thead>\n",
       "    <tr style=\"text-align: right;\">\n",
       "      <th></th>\n",
       "      <th>clean_tokens</th>\n",
       "      <th>Complaint</th>\n",
       "      <th>Company</th>\n",
       "      <th>tokens</th>\n",
       "      <th>lemmas</th>\n",
       "    </tr>\n",
       "  </thead>\n",
       "  <tbody>\n",
       "    <tr>\n",
       "      <th>364212</th>\n",
       "      <td>[submitting, cfpb, complaint, inform, third, p...</td>\n",
       "      <td>This is XXXX XXXX, who is submitting this CFPB...</td>\n",
       "      <td>EQUIFAX, INC.</td>\n",
       "      <td>[xxxx, xxxx, submitting, cfpb, complaint, info...</td>\n",
       "      <td>[submit, cfpb, complaint, inform, third, party...</td>\n",
       "    </tr>\n",
       "    <tr>\n",
       "      <th>2207116</th>\n",
       "      <td>[disputing, couple, inaccurate, items, credit,...</td>\n",
       "      <td>I am disputing a couple of inaccurate items on...</td>\n",
       "      <td>EQUIFAX, INC.</td>\n",
       "      <td>[disputing, couple, inaccurate, items, credit,...</td>\n",
       "      <td>[dispute, couple, inaccurate, item, credit, re...</td>\n",
       "    </tr>\n",
       "    <tr>\n",
       "      <th>1015564</th>\n",
       "      <td>[contacted, company, several, occassions, spok...</td>\n",
       "      <td>I have contacted this company on several occas...</td>\n",
       "      <td>Penn Credit Corporation</td>\n",
       "      <td>[contacted, company, several, occassions, spok...</td>\n",
       "      <td>[contact, company, several, occassions, speak,...</td>\n",
       "    </tr>\n",
       "    <tr>\n",
       "      <th>1647648</th>\n",
       "      <td>[mother, contacted, representative, shared, pr...</td>\n",
       "      <td>My mother was contacted by an XXXX representat...</td>\n",
       "      <td>BTH Management</td>\n",
       "      <td>[mother, contacted, xxxx, representative, xx/x...</td>\n",
       "      <td>[mother, contact, representative, share, priva...</td>\n",
       "    </tr>\n",
       "    <tr>\n",
       "      <th>2082209</th>\n",
       "      <td>[sent, letter, regarding, accurate, unknown, t...</td>\n",
       "      <td>On XXXX XXXX I sent a letter regarding an accu...</td>\n",
       "      <td>EQUIFAX, INC.</td>\n",
       "      <td>[xxxx, xxxx, sent, letter, regarding, accurate...</td>\n",
       "      <td>[sent, letter, regard, accurate, unknown, thin...</td>\n",
       "    </tr>\n",
       "  </tbody>\n",
       "</table>\n",
       "</div>"
      ],
      "text/plain": [
       "                                              clean_tokens  \\\n",
       "364212   [submitting, cfpb, complaint, inform, third, p...   \n",
       "2207116  [disputing, couple, inaccurate, items, credit,...   \n",
       "1015564  [contacted, company, several, occassions, spok...   \n",
       "1647648  [mother, contacted, representative, shared, pr...   \n",
       "2082209  [sent, letter, regarding, accurate, unknown, t...   \n",
       "\n",
       "                                                 Complaint  \\\n",
       "364212   This is XXXX XXXX, who is submitting this CFPB...   \n",
       "2207116  I am disputing a couple of inaccurate items on...   \n",
       "1015564  I have contacted this company on several occas...   \n",
       "1647648  My mother was contacted by an XXXX representat...   \n",
       "2082209  On XXXX XXXX I sent a letter regarding an accu...   \n",
       "\n",
       "                         Company  \\\n",
       "364212             EQUIFAX, INC.   \n",
       "2207116            EQUIFAX, INC.   \n",
       "1015564  Penn Credit Corporation   \n",
       "1647648           BTH Management   \n",
       "2082209            EQUIFAX, INC.   \n",
       "\n",
       "                                                    tokens  \\\n",
       "364212   [xxxx, xxxx, submitting, cfpb, complaint, info...   \n",
       "2207116  [disputing, couple, inaccurate, items, credit,...   \n",
       "1015564  [contacted, company, several, occassions, spok...   \n",
       "1647648  [mother, contacted, xxxx, representative, xx/x...   \n",
       "2082209  [xxxx, xxxx, sent, letter, regarding, accurate...   \n",
       "\n",
       "                                                    lemmas  \n",
       "364212   [submit, cfpb, complaint, inform, third, party...  \n",
       "2207116  [dispute, couple, inaccurate, item, credit, re...  \n",
       "1015564  [contact, company, several, occassions, speak,...  \n",
       "1647648  [mother, contact, representative, share, priva...  \n",
       "2082209  [sent, letter, regard, accurate, unknown, thin...  "
      ]
     },
     "execution_count": 581,
     "metadata": {},
     "output_type": "execute_result"
    }
   ],
   "source": [
    "clean_data.head()"
   ]
  },
  {
   "cell_type": "code",
   "execution_count": 582,
   "metadata": {},
   "outputs": [],
   "source": [
    "from sklearn.feature_extraction.text import TfidfVectorizer\n",
    "\n",
    "tfidf_vec = TfidfVectorizer(max_df=0.5)\n",
    "\n",
    "vectorized_words = pd.DataFrame(\n",
    "    tfidf_vec.fit_transform(clean_data['lemmas'].map(lambda x: ' '.join(x))).todense(),\n",
    "    columns=list(tfidf_vec.vocabulary_.keys()),\n",
    "    index=clean_data.index)"
   ]
  },
  {
   "cell_type": "code",
   "execution_count": 583,
   "metadata": {},
   "outputs": [
    {
     "data": {
      "text/html": [
       "<div>\n",
       "<style scoped>\n",
       "    .dataframe tbody tr th:only-of-type {\n",
       "        vertical-align: middle;\n",
       "    }\n",
       "\n",
       "    .dataframe tbody tr th {\n",
       "        vertical-align: top;\n",
       "    }\n",
       "\n",
       "    .dataframe thead th {\n",
       "        text-align: right;\n",
       "    }\n",
       "</style>\n",
       "<table border=\"1\" class=\"dataframe\">\n",
       "  <thead>\n",
       "    <tr style=\"text-align: right;\">\n",
       "      <th></th>\n",
       "      <th>submit</th>\n",
       "      <th>cfpb</th>\n",
       "      <th>complaint</th>\n",
       "      <th>inform</th>\n",
       "      <th>third</th>\n",
       "      <th>party</th>\n",
       "      <th>involved</th>\n",
       "      <th>process</th>\n",
       "      <th>send</th>\n",
       "      <th>letter</th>\n",
       "      <th>...</th>\n",
       "      <th>verififcation</th>\n",
       "      <th>clarifiy</th>\n",
       "      <th>affliate</th>\n",
       "      <th>refuting</th>\n",
       "      <th>penatgon</th>\n",
       "      <th>attatching</th>\n",
       "      <th>conatact</th>\n",
       "      <th>cherrington</th>\n",
       "      <th>candy</th>\n",
       "      <th>acquantained</th>\n",
       "    </tr>\n",
       "  </thead>\n",
       "  <tbody>\n",
       "    <tr>\n",
       "      <th>364212</th>\n",
       "      <td>0.0</td>\n",
       "      <td>0.0</td>\n",
       "      <td>0.0</td>\n",
       "      <td>0.0</td>\n",
       "      <td>0.0</td>\n",
       "      <td>0.0</td>\n",
       "      <td>0.0</td>\n",
       "      <td>0.0</td>\n",
       "      <td>0.0</td>\n",
       "      <td>0.0</td>\n",
       "      <td>...</td>\n",
       "      <td>0.0</td>\n",
       "      <td>0.0</td>\n",
       "      <td>0.0</td>\n",
       "      <td>0.0</td>\n",
       "      <td>0.0</td>\n",
       "      <td>0.0</td>\n",
       "      <td>0.0</td>\n",
       "      <td>0.0</td>\n",
       "      <td>0.0</td>\n",
       "      <td>0.0</td>\n",
       "    </tr>\n",
       "    <tr>\n",
       "      <th>2207116</th>\n",
       "      <td>0.0</td>\n",
       "      <td>0.0</td>\n",
       "      <td>0.0</td>\n",
       "      <td>0.0</td>\n",
       "      <td>0.0</td>\n",
       "      <td>0.0</td>\n",
       "      <td>0.0</td>\n",
       "      <td>0.0</td>\n",
       "      <td>0.0</td>\n",
       "      <td>0.0</td>\n",
       "      <td>...</td>\n",
       "      <td>0.0</td>\n",
       "      <td>0.0</td>\n",
       "      <td>0.0</td>\n",
       "      <td>0.0</td>\n",
       "      <td>0.0</td>\n",
       "      <td>0.0</td>\n",
       "      <td>0.0</td>\n",
       "      <td>0.0</td>\n",
       "      <td>0.0</td>\n",
       "      <td>0.0</td>\n",
       "    </tr>\n",
       "    <tr>\n",
       "      <th>1015564</th>\n",
       "      <td>0.0</td>\n",
       "      <td>0.0</td>\n",
       "      <td>0.0</td>\n",
       "      <td>0.0</td>\n",
       "      <td>0.0</td>\n",
       "      <td>0.0</td>\n",
       "      <td>0.0</td>\n",
       "      <td>0.0</td>\n",
       "      <td>0.0</td>\n",
       "      <td>0.0</td>\n",
       "      <td>...</td>\n",
       "      <td>0.0</td>\n",
       "      <td>0.0</td>\n",
       "      <td>0.0</td>\n",
       "      <td>0.0</td>\n",
       "      <td>0.0</td>\n",
       "      <td>0.0</td>\n",
       "      <td>0.0</td>\n",
       "      <td>0.0</td>\n",
       "      <td>0.0</td>\n",
       "      <td>0.0</td>\n",
       "    </tr>\n",
       "    <tr>\n",
       "      <th>1647648</th>\n",
       "      <td>0.0</td>\n",
       "      <td>0.0</td>\n",
       "      <td>0.0</td>\n",
       "      <td>0.0</td>\n",
       "      <td>0.0</td>\n",
       "      <td>0.0</td>\n",
       "      <td>0.0</td>\n",
       "      <td>0.0</td>\n",
       "      <td>0.0</td>\n",
       "      <td>0.0</td>\n",
       "      <td>...</td>\n",
       "      <td>0.0</td>\n",
       "      <td>0.0</td>\n",
       "      <td>0.0</td>\n",
       "      <td>0.0</td>\n",
       "      <td>0.0</td>\n",
       "      <td>0.0</td>\n",
       "      <td>0.0</td>\n",
       "      <td>0.0</td>\n",
       "      <td>0.0</td>\n",
       "      <td>0.0</td>\n",
       "    </tr>\n",
       "    <tr>\n",
       "      <th>2082209</th>\n",
       "      <td>0.0</td>\n",
       "      <td>0.0</td>\n",
       "      <td>0.0</td>\n",
       "      <td>0.0</td>\n",
       "      <td>0.0</td>\n",
       "      <td>0.0</td>\n",
       "      <td>0.0</td>\n",
       "      <td>0.0</td>\n",
       "      <td>0.0</td>\n",
       "      <td>0.0</td>\n",
       "      <td>...</td>\n",
       "      <td>0.0</td>\n",
       "      <td>0.0</td>\n",
       "      <td>0.0</td>\n",
       "      <td>0.0</td>\n",
       "      <td>0.0</td>\n",
       "      <td>0.0</td>\n",
       "      <td>0.0</td>\n",
       "      <td>0.0</td>\n",
       "      <td>0.0</td>\n",
       "      <td>0.0</td>\n",
       "    </tr>\n",
       "  </tbody>\n",
       "</table>\n",
       "<p>5 rows × 35348 columns</p>\n",
       "</div>"
      ],
      "text/plain": [
       "         submit  cfpb  complaint  inform  third  party  involved  process  \\\n",
       "364212      0.0   0.0        0.0     0.0    0.0    0.0       0.0      0.0   \n",
       "2207116     0.0   0.0        0.0     0.0    0.0    0.0       0.0      0.0   \n",
       "1015564     0.0   0.0        0.0     0.0    0.0    0.0       0.0      0.0   \n",
       "1647648     0.0   0.0        0.0     0.0    0.0    0.0       0.0      0.0   \n",
       "2082209     0.0   0.0        0.0     0.0    0.0    0.0       0.0      0.0   \n",
       "\n",
       "         send  letter  ...  verififcation  clarifiy  affliate  refuting  \\\n",
       "364212    0.0     0.0  ...            0.0       0.0       0.0       0.0   \n",
       "2207116   0.0     0.0  ...            0.0       0.0       0.0       0.0   \n",
       "1015564   0.0     0.0  ...            0.0       0.0       0.0       0.0   \n",
       "1647648   0.0     0.0  ...            0.0       0.0       0.0       0.0   \n",
       "2082209   0.0     0.0  ...            0.0       0.0       0.0       0.0   \n",
       "\n",
       "         penatgon  attatching  conatact  cherrington  candy  acquantained  \n",
       "364212        0.0         0.0       0.0          0.0    0.0           0.0  \n",
       "2207116       0.0         0.0       0.0          0.0    0.0           0.0  \n",
       "1015564       0.0         0.0       0.0          0.0    0.0           0.0  \n",
       "1647648       0.0         0.0       0.0          0.0    0.0           0.0  \n",
       "2082209       0.0         0.0       0.0          0.0    0.0           0.0  \n",
       "\n",
       "[5 rows x 35348 columns]"
      ]
     },
     "execution_count": 583,
     "metadata": {},
     "output_type": "execute_result"
    }
   ],
   "source": [
    "vectorized_words.head()"
   ]
  },
  {
   "cell_type": "code",
   "execution_count": 584,
   "metadata": {},
   "outputs": [
    {
     "data": {
      "text/plain": [
       "0.6732"
      ]
     },
     "execution_count": 584,
     "metadata": {},
     "output_type": "execute_result"
    }
   ],
   "source": [
    "from sklearn.naive_bayes import MultinomialNB\n",
    "\n",
    "baseline = MultinomialNB()\n",
    "\n",
    "baseline.fit(vectorized_words, y_train)\n",
    "\n",
    "baseline.score(vectorized_words, y_train)"
   ]
  }
 ],
 "metadata": {
  "kernelspec": {
   "display_name": "Python (learn-env)",
   "language": "python",
   "name": "learn-env"
  },
  "language_info": {
   "codemirror_mode": {
    "name": "ipython",
    "version": 3
   },
   "file_extension": ".py",
   "mimetype": "text/x-python",
   "name": "python",
   "nbconvert_exporter": "python",
   "pygments_lexer": "ipython3",
   "version": "3.8.5"
  },
  "toc": {
   "base_numbering": 1,
   "nav_menu": {},
   "number_sections": true,
   "sideBar": true,
   "skip_h1_title": false,
   "title_cell": "Table of Contents",
   "title_sidebar": "Contents",
   "toc_cell": false,
   "toc_position": {},
   "toc_section_display": true,
   "toc_window_display": false
  }
 },
 "nbformat": 4,
 "nbformat_minor": 4
}
